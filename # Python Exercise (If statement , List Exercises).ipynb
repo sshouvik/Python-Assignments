{
 "cells": [
  {
   "cell_type": "markdown",
   "id": "dc343156",
   "metadata": {},
   "source": [
    "# Python Exercise (If statement , List Exercises)"
   ]
  },
  {
   "cell_type": "markdown",
   "id": "9084b8f3",
   "metadata": {},
   "source": [
    "# If Statement"
   ]
  },
  {
   "cell_type": "code",
   "execution_count": 1,
   "id": "e5899774",
   "metadata": {},
   "outputs": [
    {
     "name": "stdout",
     "output_type": "stream",
     "text": [
      "Enter an integer: 12\n",
      "12 is an even number.\n"
     ]
    }
   ],
   "source": [
    "###1. Write a program that reads an integer from the user. \n",
    "##Then your program should display a message indicating whether the integer is even or odd.\n",
    "\n",
    "user_input = int(input(\"Enter an integer: \"))\n",
    "\n",
    "if user_input % 2 == 0:\n",
    "    print(f\"{user_input} is an even number.\")\n",
    "else:\n",
    "    print(f\"{user_input} is an odd number.\")\n"
   ]
  },
  {
   "cell_type": "code",
   "execution_count": 2,
   "id": "c0353085",
   "metadata": {},
   "outputs": [
    {
     "name": "stdout",
     "output_type": "stream",
     "text": [
      "Enter the number of human years: 26\n",
      "26.0 human years is approximately 117.00 dog years.\n"
     ]
    }
   ],
   "source": [
    "###2. Write a program that implements the conversion from human years to dog years described in the previous paragraph.\n",
    "##Ensure that your program works correctly for conversions of less than two human years and for conversions of \n",
    "##two or more human years. Your program should display an appropriate error message if the user enters a negative number.\n",
    "\n",
    "\n",
    "human_years = float(input(\"Enter the number of human years: \"))\n",
    "\n",
    "\n",
    "if human_years < 0:\n",
    "    print(\"Error: Please enter a non-negative number.\")\n",
    "else:\n",
    "    if human_years < 2:\n",
    "        dog_years = human_years * 10.5\n",
    "    else:\n",
    "        dog_years = 2 * 10.5 + (human_years - 2) * 4\n",
    "\n",
    "  \n",
    "    print(f\"{human_years} human years is approximately {dog_years:.2f} dog years.\")\n"
   ]
  },
  {
   "cell_type": "code",
   "execution_count": 3,
   "id": "a7fcbbd0",
   "metadata": {},
   "outputs": [
    {
     "name": "stdout",
     "output_type": "stream",
     "text": [
      "Enter a letter of the alphabet: j\n",
      "j is a consonant.\n"
     ]
    }
   ],
   "source": [
    "###3. Create a program that reads a letter of the alphabet from the user. If the user enters a, e, i, o or u then your \n",
    "##program should display a message indicating that the entered letter is a vowel. \n",
    "##If the user enters y then your program should display a message indicating that sometimes y is a vowel, \n",
    "##and sometimes y is a consonant. Otherwise your program should display a message indicating that the letter is a consonant.\n",
    "\n",
    "letter = input(\"Enter a letter of the alphabet: \").lower()\n",
    "\n",
    "if letter in ['a', 'e', 'i', 'o', 'u']:\n",
    "    print(f\"{letter} is a vowel.\")\n",
    "elif letter == 'y':\n",
    "    print(f\"Sometimes, {letter} is a vowel, and sometimes it is a consonant.\")\n",
    "else:\n",
    "    print(f\"{letter} is a consonant.\")\n"
   ]
  },
  {
   "cell_type": "code",
   "execution_count": 4,
   "id": "9a60758e",
   "metadata": {},
   "outputs": [
    {
     "name": "stdout",
     "output_type": "stream",
     "text": [
      "Enter the number of sides (3 to 10): 7\n",
      "A shape with 7 sides is a Heptagon.\n"
     ]
    }
   ],
   "source": [
    "###4. Write a program that determines the name of a shape from its number of sides.\n",
    "###Read the number of sides from the user and then report the appropriate name as part of a meaningful message. \n",
    "###Your program should support shapes with anywhere from 3 up to (and including) 10 sides. \n",
    "##If a number of sides outside of this range is entered then your program should display an appropriate error message.\n",
    "\n",
    "\n",
    "num_sides = int(input(\"Enter the number of sides (3 to 10): \"))\n",
    "\n",
    "\n",
    "if 3 <= num_sides <= 10:\n",
    "    if num_sides == 3:\n",
    "        shape_name = \"Triangle\"\n",
    "    elif num_sides == 4:\n",
    "        shape_name = \"Quadrilateral\"\n",
    "    elif num_sides == 5:\n",
    "        shape_name = \"Pentagon\"\n",
    "    elif num_sides == 6:\n",
    "        shape_name = \"Hexagon\"\n",
    "    elif num_sides == 7:\n",
    "        shape_name = \"Heptagon\"\n",
    "    elif num_sides == 8:\n",
    "        shape_name = \"Octagon\"\n",
    "    elif num_sides == 9:\n",
    "        shape_name = \"Nonagon\"\n",
    "    else:\n",
    "        shape_name = \"Decagon\"\n",
    "\n",
    "\n",
    "    print(f\"A shape with {num_sides} sides is a {shape_name}.\")\n",
    "else:\n",
    "    print(\"Error: Please enter a number of sides between 3 and 10.\")\n"
   ]
  },
  {
   "cell_type": "code",
   "execution_count": 5,
   "id": "d6499034",
   "metadata": {},
   "outputs": [
    {
     "name": "stdout",
     "output_type": "stream",
     "text": [
      "Enter the name of the month: august\n",
      "The month of August has 31 days.\n"
     ]
    }
   ],
   "source": [
    "####5. The length of a month varies from 28 to 31 days. In this exercise you will create a program that reads the name \n",
    "###of a month from the user as a string. Then your program should display the number of days in that month. \n",
    "##Display “28 or 29 days” for February so that leap years are addressed.\n",
    "\n",
    "\n",
    "month = input(\"Enter the name of the month: \").lower()\n",
    "\n",
    "\n",
    "if month in [\"january\", \"march\", \"may\", \"july\", \"august\", \"october\", \"december\"]:\n",
    "    days = 31\n",
    "elif month in [\"april\", \"june\", \"september\", \"november\"]:\n",
    "    days = 30\n",
    "elif month == \"february\":\n",
    "    year = int(input(\"Enter the year: \"))\n",
    "    if (year % 4 == 0 and year % 100 != 0) or (year % 400 == 0):\n",
    "        days = 29  # Leap year\n",
    "    else:\n",
    "        days = 28  # Non-leap year\n",
    "else:\n",
    "    print(\"Invalid month entered.\")\n",
    "    exit()\n",
    "\n",
    "\n",
    "print(f\"The month of {month.capitalize()} has {days} days.\")\n"
   ]
  },
  {
   "cell_type": "code",
   "execution_count": 6,
   "id": "6b2dd632",
   "metadata": {},
   "outputs": [
    {
     "name": "stdout",
     "output_type": "stream",
     "text": [
      "Enter the sound level in decibels: 60\n",
      "The noise at 60.0 decibels is: Between Quiet room and Alarm clock\n"
     ]
    }
   ],
   "source": [
    "###6. The following table lists the sound level in decibels for several common noises.\n",
    "#Noise Decibel level (dB) Jackhammer 130 Gas lawnmower 106 Alarm clock 70 Quiet room 40\n",
    "#Write a program that reads a sound level in decibels from the user. If the user enters a decibel level\n",
    "##that matches one of the noises in the table then your program should display a message containing only that noise.\n",
    "##If the user enters a number of decibels between the noises listed then your program should display a message indicating\n",
    "##which noises the level is between. Ensure that your program also generates reasonable output for a value smaller than the \n",
    "##quietest noise in the table, and for a value larger than the loudest noise in the table.\n",
    "\n",
    "\n",
    "\n",
    "decibel_level = float(input(\"Enter the sound level in decibels: \"))\n",
    "\n",
    "\n",
    "jackhammer_level = 130\n",
    "lawnmower_level = 106\n",
    "alarm_clock_level = 70\n",
    "quiet_room_level = 40\n",
    "\n",
    "\n",
    "if decibel_level == jackhammer_level:\n",
    "    noise = \"Jackhammer\"\n",
    "elif decibel_level == lawnmower_level:\n",
    "    noise = \"Gas lawnmower\"\n",
    "elif decibel_level == alarm_clock_level:\n",
    "    noise = \"Alarm clock\"\n",
    "elif decibel_level == quiet_room_level:\n",
    "    noise = \"Quiet room\"\n",
    "elif decibel_level < quiet_room_level:\n",
    "    noise = \"Below the range of noises\"\n",
    "elif decibel_level < alarm_clock_level:\n",
    "    noise = \"Between Quiet room and Alarm clock\"\n",
    "elif decibel_level < lawnmower_level:\n",
    "    noise = \"Between Alarm clock and Gas lawnmower\"\n",
    "elif decibel_level < jackhammer_level:\n",
    "    noise = \"Between Gas lawnmower and Jackhammer\"\n",
    "else:\n",
    "    noise = \"Above the range of noises\"\n",
    "\n",
    "\n",
    "print(f\"The noise at {decibel_level} decibels is: {noise}\")\n"
   ]
  },
  {
   "cell_type": "code",
   "execution_count": 7,
   "id": "640ad74d",
   "metadata": {},
   "outputs": [
    {
     "name": "stdout",
     "output_type": "stream",
     "text": [
      "Enter the note (e.g., C4): C3\n",
      "The frequency of C3 is: 130.81 Hz\n"
     ]
    }
   ],
   "source": [
    "# Problem no. 7\n",
    "\n",
    "\n",
    "note_frequencies = {\n",
    "    'C': 261.63,\n",
    "    'D': 293.66,\n",
    "    'E': 329.63,\n",
    "    'F': 349.23,\n",
    "    'G': 392.00,\n",
    "    'A': 440.00,\n",
    "    'B': 493.88\n",
    "}\n",
    "\n",
    "\n",
    "note = input(\"Enter the note (e.g., C4): \")\n",
    "\n",
    "note_letter = note[:-1]\n",
    "octave = int(note[-1])\n",
    "\n",
    "if note_letter in note_frequencies:\n",
    "    frequency = note_frequencies[note_letter]\n",
    "    frequency /= 2 ** (4 - octave)\n",
    "\n",
    "    \n",
    "    print(f\"The frequency of {note} is: {frequency:.2f} Hz\")\n",
    "else:\n",
    "    print(\"Invalid note. Please enter a valid note (e.g., C4).\")\n"
   ]
  },
  {
   "cell_type": "code",
   "execution_count": 8,
   "id": "263e0646",
   "metadata": {},
   "outputs": [
    {
     "name": "stdout",
     "output_type": "stream",
     "text": [
      "Enter the frequency in Hertz: 216.20\n",
      "The frequency does not correspond to a known note.\n"
     ]
    }
   ],
   "source": [
    "####8. In the previous question you converted from note name to frequency. In this question you will write a program \n",
    "##that reverses that process. Begin by reading a frequency from the user. If the frequency is within one Hertz of a \n",
    "##value listed in the table in the previous question then report the name of the note. Otherwise report that the \n",
    "##frequency does not correspond to a known note. In this exercise you only need to consider the notes listed in the table. \n",
    "##There is no need to consider notes from other octaves.\n",
    "\n",
    "\n",
    "note_frequencies = {\n",
    "    'C': 261.63,\n",
    "    'D': 293.66,\n",
    "    'E': 329.63,\n",
    "    'F': 349.23,\n",
    "    'G': 392.00,\n",
    "    'A': 440.00,\n",
    "    'B': 493.88\n",
    "}\n",
    "\n",
    "frequency = float(input(\"Enter the frequency in Hertz: \"))\n",
    "\n",
    "for note, freq in note_frequencies.items():\n",
    "    if abs(frequency - freq) <= 1:\n",
    "        print(f\"The frequency {frequency:.2f} Hz corresponds to the note {note}\")\n",
    "        break\n",
    "else:\n",
    "    print(\"The frequency does not correspond to a known note.\")\n"
   ]
  },
  {
   "cell_type": "code",
   "execution_count": 9,
   "id": "68b80a56",
   "metadata": {},
   "outputs": [
    {
     "name": "stdout",
     "output_type": "stream",
     "text": [
      "Enter the wavelength in nanometers: 425\n",
      "The color corresponding to 425.0 nm is Violet.\n"
     ]
    }
   ],
   "source": [
    "###9. The wavelength of visible light ranges from 380 to 750 nanometers (nm). While the spectrum is continuous, \n",
    "##it is often divided into 6 colors as shown below:\n",
    "##Write a program that reads a wavelength from the user and reports its color.\n",
    "##Display an appropriate error message if the wavelength entered by the user is outside of the visible spectrum.\n",
    "\n",
    "\n",
    "wavelength = float(input(\"Enter the wavelength in nanometers: \"))\n",
    "\n",
    "\n",
    "if 380 <= wavelength < 450:\n",
    "    color = \"Violet\"\n",
    "elif 450 <= wavelength < 495:\n",
    "    color = \"Blue\"\n",
    "elif 495 <= wavelength < 570:\n",
    "    color = \"Green\"\n",
    "elif 570 <= wavelength < 590:\n",
    "    color = \"Yellow\"\n",
    "elif 590 <= wavelength < 620:\n",
    "    color = \"Orange\"\n",
    "elif 620 <= wavelength <= 750:\n",
    "    color = \"Red\"\n",
    "else:\n",
    "    print(\"Error: Wavelength outside the visible spectrum.\")\n",
    "    color = None\n",
    "\n",
    "\n",
    "if color is not None:\n",
    "    print(f\"The color corresponding to {wavelength} nm is {color}.\")\n"
   ]
  },
  {
   "cell_type": "markdown",
   "id": "d8d017f9",
   "metadata": {},
   "source": [
    "# LIST Exercises"
   ]
  },
  {
   "cell_type": "code",
   "execution_count": 10,
   "id": "f1c75aff",
   "metadata": {},
   "outputs": [
    {
     "name": "stdout",
     "output_type": "stream",
     "text": [
      "Enter a list of numbers separated by spaces: 1 5 7 8 4 2 3 6 \n",
      "Enter a non-negative integer, n: 2\n",
      "\n",
      "List with 2 largest and 2 smallest values removed: [3.0, 4.0, 5.0, 6.0]\n",
      "Original list: [1.0, 5.0, 7.0, 8.0, 4.0, 2.0, 3.0, 6.0]\n"
     ]
    }
   ],
   "source": [
    "##1. When analysing data collected as part of a science experiment it may be desirable to remove the most extreme values \n",
    "##before performing other calculations. Write a function that takes a list of values and an non-negative integer, n, \n",
    "##as its parameters. The function should create a new copy of the list with the n largest elements and the n smallest \n",
    "##elements removed. Then it should return the new copy of the list as the function’s only result. The order of the elements \n",
    "##in the returned list does not have to match the order of the elements in the original list.\n",
    "##Write a main program that demonstrates your function. Your function should read a list of numbers from the user and \n",
    "##remove the two largest Color Wavelength (nm) Violet 380 to less than 450 Blue 450 to less than 495 Green 495 to less \n",
    "##than 570 Yellow 570 to less than 590 Orange 590 to less than 620 Red 620 to 750\n",
    "##and two smallest values from it. Display the list with the outliers removed, followed by the original list. \n",
    "##Your program should generate an appropriate error message if the user enters less than 4 values.\n",
    "\n",
    "def remove_extreme_values(lst, n):\n",
    "    if len(lst) < 4:\n",
    "        raise ValueError(\"Error: List must have at least 4 values.\")\n",
    "\n",
    "\n",
    "    sorted_lst = sorted(lst)\n",
    "\n",
    "    trimmed_lst = sorted_lst[n:-n]\n",
    "\n",
    "    return trimmed_lst\n",
    "\n",
    "def main():\n",
    "    try:\n",
    "        values = [float(x) for x in input(\"Enter a list of numbers separated by spaces: \").split()]\n",
    "        n = int(input(\"Enter a non-negative integer, n: \"))\n",
    "        result = remove_extreme_values(values, n)\n",
    "\n",
    "    \n",
    "        print(f\"\\nList with {n} largest and {n} smallest values removed: {result}\")\n",
    "        print(f\"Original list: {values}\")\n",
    "\n",
    "    except ValueError as e:\n",
    "        print(e)\n",
    "\n",
    "if __name__ == \"__main__\":\n",
    "    main()\n"
   ]
  },
  {
   "cell_type": "code",
   "execution_count": 11,
   "id": "720969a1",
   "metadata": {},
   "outputs": [
    {
     "name": "stdout",
     "output_type": "stream",
     "text": [
      "Enter a string: S H O U V I K\n",
      "\n",
      "Words with punctuation marks removed:\n",
      "['S', 'H', 'O', 'U', 'V', 'I', 'K']\n"
     ]
    }
   ],
   "source": [
    "###2. In this exercise you will create a program that identifies all of the words in a string entered by the user. \n",
    "##Begin by writing a function that takes a string of text as its only parameter. Your function should return a list \n",
    "##of the words in the string with the punctuation marks at the edges of the words removed. The punctuation marks that \n",
    "##you must remove include commas, periods, question marks, hyphens, apostrophes, exclamation points, colons, and semicolons.\n",
    "##Do not remove punctuation marks that appear in the middle of a words, such as the apostrophes used to form a contraction. \n",
    "##For example, if your function is provided with the string \"Examples of contractions include: don’t, isn’t, and wouldn’t.\n",
    "##\" then your function should return the list [\"Examples\", \"of\",\"contractions\",\"include\",\"don’t\",\"isn’t\",\"and\",\"wouldn’t\"].\n",
    "##Write a main program that demonstrates your function. It should read a string from the user and display all of the words \n",
    "###in the string with the punctuation marks removed. You will need to import your solution to this exercise when completing\n",
    "##Exercise 158. As a result, you should ensure that your main program only runs when your file has not been imported into \n",
    "#another program.\n",
    "\n",
    "import string\n",
    "\n",
    "def extract_words(text):\n",
    "    translator = str.maketrans(\"\", \"\", string.punctuation)\n",
    "    words = [word.translate(translator) for word in text.split()]\n",
    "\n",
    "    return words\n",
    "\n",
    "def main():\n",
    "    try:\n",
    "        user_input = input(\"Enter a string: \")\n",
    "        result = extract_words(user_input)\n",
    "\n",
    "       \n",
    "        print(\"\\nWords with punctuation marks removed:\")\n",
    "        print(result)\n",
    "\n",
    "    except Exception as e:\n",
    "        print(f\"An error occurred: {e}\")\n",
    "\n",
    "if __name__ == \"__main__\":\n",
    "    main()\n"
   ]
  },
  {
   "cell_type": "code",
   "execution_count": null,
   "id": "e419deeb",
   "metadata": {},
   "outputs": [],
   "source": []
  }
 ],
 "metadata": {
  "kernelspec": {
   "display_name": "Python 3 (ipykernel)",
   "language": "python",
   "name": "python3"
  },
  "language_info": {
   "codemirror_mode": {
    "name": "ipython",
    "version": 3
   },
   "file_extension": ".py",
   "mimetype": "text/x-python",
   "name": "python",
   "nbconvert_exporter": "python",
   "pygments_lexer": "ipython3",
   "version": "3.11.5"
  }
 },
 "nbformat": 4,
 "nbformat_minor": 5
}
