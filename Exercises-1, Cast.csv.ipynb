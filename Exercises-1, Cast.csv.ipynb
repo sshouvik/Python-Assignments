{
 "cells": [
  {
   "cell_type": "code",
   "execution_count": 3,
   "metadata": {},
   "outputs": [],
   "source": [
    "%matplotlib inline\n",
    "import pandas as pd"
   ]
  },
  {
   "cell_type": "code",
   "execution_count": 8,
   "metadata": {},
   "outputs": [
    {
     "data": {
      "text/html": [
       "<div>\n",
       "<style scoped>\n",
       "    .dataframe tbody tr th:only-of-type {\n",
       "        vertical-align: middle;\n",
       "    }\n",
       "\n",
       "    .dataframe tbody tr th {\n",
       "        vertical-align: top;\n",
       "    }\n",
       "\n",
       "    .dataframe thead th {\n",
       "        text-align: right;\n",
       "    }\n",
       "</style>\n",
       "<table border=\"1\" class=\"dataframe\">\n",
       "  <thead>\n",
       "    <tr style=\"text-align: right;\">\n",
       "      <th></th>\n",
       "      <th>title</th>\n",
       "      <th>year</th>\n",
       "      <th>name</th>\n",
       "      <th>type</th>\n",
       "      <th>character</th>\n",
       "      <th>n</th>\n",
       "    </tr>\n",
       "  </thead>\n",
       "  <tbody>\n",
       "    <tr>\n",
       "      <th>0</th>\n",
       "      <td>Closet Monster</td>\n",
       "      <td>2015</td>\n",
       "      <td>Buffy #1</td>\n",
       "      <td>actor</td>\n",
       "      <td>Buffy 4</td>\n",
       "      <td>NaN</td>\n",
       "    </tr>\n",
       "    <tr>\n",
       "      <th>1</th>\n",
       "      <td>Suuri illusioni</td>\n",
       "      <td>1985</td>\n",
       "      <td>Homo $</td>\n",
       "      <td>actor</td>\n",
       "      <td>Guests</td>\n",
       "      <td>22.0</td>\n",
       "    </tr>\n",
       "    <tr>\n",
       "      <th>2</th>\n",
       "      <td>Battle of the Sexes</td>\n",
       "      <td>2017</td>\n",
       "      <td>$hutter</td>\n",
       "      <td>actor</td>\n",
       "      <td>Bobby Riggs Fan</td>\n",
       "      <td>10.0</td>\n",
       "    </tr>\n",
       "    <tr>\n",
       "      <th>3</th>\n",
       "      <td>Secret in Their Eyes</td>\n",
       "      <td>2015</td>\n",
       "      <td>$hutter</td>\n",
       "      <td>actor</td>\n",
       "      <td>2002 Dodger Fan</td>\n",
       "      <td>NaN</td>\n",
       "    </tr>\n",
       "    <tr>\n",
       "      <th>4</th>\n",
       "      <td>Steve Jobs</td>\n",
       "      <td>2015</td>\n",
       "      <td>$hutter</td>\n",
       "      <td>actor</td>\n",
       "      <td>1988 Opera House Patron</td>\n",
       "      <td>NaN</td>\n",
       "    </tr>\n",
       "  </tbody>\n",
       "</table>\n",
       "</div>"
      ],
      "text/plain": [
       "                  title  year      name   type                character     n\n",
       "0        Closet Monster  2015  Buffy #1  actor                  Buffy 4   NaN\n",
       "1       Suuri illusioni  1985    Homo $  actor                   Guests  22.0\n",
       "2   Battle of the Sexes  2017   $hutter  actor          Bobby Riggs Fan  10.0\n",
       "3  Secret in Their Eyes  2015   $hutter  actor          2002 Dodger Fan   NaN\n",
       "4            Steve Jobs  2015   $hutter  actor  1988 Opera House Patron   NaN"
      ]
     },
     "execution_count": 8,
     "metadata": {},
     "output_type": "execute_result"
    }
   ],
   "source": [
    "cast = pd.read_csv('E:/TOP MENTOR DATA SCIENCE/8th October 2023(python advance)/batch88assignmentsanddatasets/cast.csv')\n",
    "cast.head()"
   ]
  },
  {
   "cell_type": "markdown",
   "metadata": {
    "collapsed": true
   },
   "source": [
    "### How many movies are listed in the titles dataframe?"
   ]
  },
  {
   "cell_type": "code",
   "execution_count": 9,
   "metadata": {},
   "outputs": [
    {
     "name": "stdout",
     "output_type": "stream",
     "text": [
      "Number of movies listed: 3611212\n"
     ]
    }
   ],
   "source": [
    "\n",
    "num_movies = cast.shape[0]\n",
    "print(\"Number of movies listed:\", num_movies)\n"
   ]
  },
  {
   "cell_type": "code",
   "execution_count": null,
   "metadata": {
    "collapsed": true
   },
   "outputs": [],
   "source": []
  },
  {
   "cell_type": "markdown",
   "metadata": {
    "collapsed": true
   },
   "source": [
    "### What are the earliest two films listed in the titles dataframe?"
   ]
  },
  {
   "cell_type": "code",
   "execution_count": 10,
   "metadata": {},
   "outputs": [
    {
     "name": "stdout",
     "output_type": "stream",
     "text": [
      "              title  year\n",
      "2514470  Miss Jerry  1894\n",
      "555929   Miss Jerry  1894\n"
     ]
    }
   ],
   "source": [
    "\n",
    "earliest_films = cast.sort_values(by='year').head(2)\n",
    "print(earliest_films[['title', 'year']])\n"
   ]
  },
  {
   "cell_type": "code",
   "execution_count": null,
   "metadata": {
    "collapsed": true
   },
   "outputs": [],
   "source": []
  },
  {
   "cell_type": "markdown",
   "metadata": {
    "collapsed": true
   },
   "source": [
    "### How many movies have the title \"Hamlet\"?"
   ]
  },
  {
   "cell_type": "code",
   "execution_count": 11,
   "metadata": {},
   "outputs": [
    {
     "name": "stdout",
     "output_type": "stream",
     "text": [
      "Number of movies with the title 'Hamlet': 313\n"
     ]
    }
   ],
   "source": [
    "\n",
    "num_hamlet_movies = cast[cast['title'] == 'Hamlet'].shape[0]\n",
    "print(\"Number of movies with the title 'Hamlet':\", num_hamlet_movies)\n"
   ]
  },
  {
   "cell_type": "code",
   "execution_count": null,
   "metadata": {
    "collapsed": true
   },
   "outputs": [],
   "source": []
  },
  {
   "cell_type": "markdown",
   "metadata": {
    "collapsed": true
   },
   "source": [
    "### How many movies are titled \"North by Northwest\"?"
   ]
  },
  {
   "cell_type": "code",
   "execution_count": 12,
   "metadata": {},
   "outputs": [
    {
     "name": "stdout",
     "output_type": "stream",
     "text": [
      "Number of movies with the title 'North by Northwest': 112\n"
     ]
    }
   ],
   "source": [
    "\n",
    "num_north_by_northwest_movies = cast[cast['title'] == 'North by Northwest'].shape[0]\n",
    "print(\"Number of movies with the title 'North by Northwest':\", num_north_by_northwest_movies)\n"
   ]
  },
  {
   "cell_type": "code",
   "execution_count": null,
   "metadata": {
    "collapsed": true
   },
   "outputs": [],
   "source": []
  },
  {
   "cell_type": "markdown",
   "metadata": {
    "collapsed": true
   },
   "source": [
    "### When was the first movie titled \"Hamlet\" made?"
   ]
  },
  {
   "cell_type": "code",
   "execution_count": 13,
   "metadata": {},
   "outputs": [
    {
     "name": "stdout",
     "output_type": "stream",
     "text": [
      "The first movie titled 'Hamlet' was made in: 1910\n"
     ]
    }
   ],
   "source": [
    "\n",
    "hamlet_movies = cast[cast['title'] == 'Hamlet']\n",
    "earliest_hamlet_movie_year = hamlet_movies['year'].min()\n",
    "print(\"The first movie titled 'Hamlet' was made in:\", earliest_hamlet_movie_year)\n"
   ]
  },
  {
   "cell_type": "code",
   "execution_count": null,
   "metadata": {
    "collapsed": true
   },
   "outputs": [],
   "source": []
  },
  {
   "cell_type": "markdown",
   "metadata": {
    "collapsed": true
   },
   "source": [
    "### List all of the \"Treasure Island\" movies from earliest to most recent."
   ]
  },
  {
   "cell_type": "code",
   "execution_count": 14,
   "metadata": {},
   "outputs": [
    {
     "name": "stdout",
     "output_type": "stream",
     "text": [
      "                   title  year\n",
      "830114   Treasure Island  1918\n",
      "840745   Treasure Island  1918\n",
      "909157   Treasure Island  1918\n",
      "3298306  Treasure Island  1918\n",
      "1715014  Treasure Island  1918\n",
      "...                  ...   ...\n",
      "2420089  Treasure Island  1999\n",
      "1637661  Treasure Island  1999\n",
      "1375015  Treasure Island  1999\n",
      "1797264  Treasure Island  1999\n",
      "307749   Treasure Island  1999\n",
      "\n",
      "[190 rows x 2 columns]\n"
     ]
    }
   ],
   "source": [
    "\n",
    "treasure_island_movies = cast[cast['title'] == 'Treasure Island']\n",
    "treasure_island_movies_sorted = treasure_island_movies.sort_values(by='year')\n",
    "print(treasure_island_movies_sorted[['title', 'year']])\n"
   ]
  },
  {
   "cell_type": "code",
   "execution_count": null,
   "metadata": {
    "collapsed": true
   },
   "outputs": [],
   "source": []
  },
  {
   "cell_type": "markdown",
   "metadata": {
    "collapsed": true
   },
   "source": [
    "### How many movies were made in the year 1950?"
   ]
  },
  {
   "cell_type": "code",
   "execution_count": 15,
   "metadata": {},
   "outputs": [
    {
     "name": "stdout",
     "output_type": "stream",
     "text": [
      "Number of movies made in the year 1950: 22006\n"
     ]
    }
   ],
   "source": [
    "\n",
    "movies_1950 = cast[cast['year'] == 1950]\n",
    "num_movies_1950 = movies_1950.shape[0]\n",
    "print(\"Number of movies made in the year 1950:\", num_movies_1950)\n"
   ]
  },
  {
   "cell_type": "code",
   "execution_count": null,
   "metadata": {
    "collapsed": true
   },
   "outputs": [],
   "source": []
  },
  {
   "cell_type": "markdown",
   "metadata": {
    "collapsed": true
   },
   "source": [
    "### How many movies were made in the year 1960?"
   ]
  },
  {
   "cell_type": "code",
   "execution_count": 16,
   "metadata": {},
   "outputs": [
    {
     "name": "stdout",
     "output_type": "stream",
     "text": [
      "Number of movies made in the year 1960: 18456\n"
     ]
    }
   ],
   "source": [
    "movies_1960 = cast[cast['year'] == 1960]\n",
    "num_movies_1960 = movies_1960.shape[0]\n",
    "print(\"Number of movies made in the year 1960:\", num_movies_1960)\n"
   ]
  },
  {
   "cell_type": "code",
   "execution_count": null,
   "metadata": {
    "collapsed": true
   },
   "outputs": [],
   "source": []
  },
  {
   "cell_type": "markdown",
   "metadata": {
    "collapsed": true
   },
   "source": [
    "### How many movies were made from 1950 through 1959?"
   ]
  },
  {
   "cell_type": "code",
   "execution_count": 17,
   "metadata": {},
   "outputs": [
    {
     "name": "stdout",
     "output_type": "stream",
     "text": [
      "Number of movies made from 1950 through 1959: 210986\n"
     ]
    }
   ],
   "source": [
    "\n",
    "movies_1950_to_1959 = cast[(cast['year'] >= 1950) & (cast['year'] <= 1959)]\n",
    "num_movies_1950_to_1959 = movies_1950_to_1959.shape[0]\n",
    "print(\"Number of movies made from 1950 through 1959:\", num_movies_1950_to_1959)\n"
   ]
  },
  {
   "cell_type": "code",
   "execution_count": null,
   "metadata": {
    "collapsed": true
   },
   "outputs": [],
   "source": []
  },
  {
   "cell_type": "markdown",
   "metadata": {
    "collapsed": true
   },
   "source": [
    "### In what years has a movie titled \"Batman\" been released?"
   ]
  },
  {
   "cell_type": "code",
   "execution_count": 18,
   "metadata": {},
   "outputs": [
    {
     "name": "stdout",
     "output_type": "stream",
     "text": [
      "Years in which a movie titled 'Batman' has been released: [1943 1989]\n"
     ]
    }
   ],
   "source": [
    "\n",
    "batman_movies = cast[cast['title'] == 'Batman']\n",
    "batman_years = batman_movies['year'].unique()\n",
    "print(\"Years in which a movie titled 'Batman' has been released:\", batman_years)\n"
   ]
  },
  {
   "cell_type": "code",
   "execution_count": null,
   "metadata": {
    "collapsed": true
   },
   "outputs": [],
   "source": []
  },
  {
   "cell_type": "markdown",
   "metadata": {
    "collapsed": true
   },
   "source": [
    "### How many roles were there in the movie \"Inception\"?"
   ]
  },
  {
   "cell_type": "code",
   "execution_count": 19,
   "metadata": {},
   "outputs": [
    {
     "name": "stdout",
     "output_type": "stream",
     "text": [
      "Number of roles in the movie 'Inception': 55\n"
     ]
    }
   ],
   "source": [
    "\n",
    "inception_roles = cast[cast['title'] == 'Inception']['character']\n",
    "num_inception_roles = inception_roles.nunique()\n",
    "print(\"Number of roles in the movie 'Inception':\", num_inception_roles)\n"
   ]
  },
  {
   "cell_type": "code",
   "execution_count": null,
   "metadata": {
    "collapsed": true
   },
   "outputs": [],
   "source": []
  },
  {
   "cell_type": "markdown",
   "metadata": {
    "collapsed": true
   },
   "source": [
    "### How many roles in the movie \"Inception\" are NOT ranked by an \"n\" value?"
   ]
  },
  {
   "cell_type": "code",
   "execution_count": 20,
   "metadata": {},
   "outputs": [
    {
     "name": "stdout",
     "output_type": "stream",
     "text": [
      "Number of roles in the movie 'Inception' that are not ranked by an 'n' value: 26\n"
     ]
    }
   ],
   "source": [
    "\n",
    "inception_roles = cast[(cast['title'] == 'Inception') & (cast['n'].isnull())]\n",
    "num_inception_roles_no_rank = inception_roles.shape[0]\n",
    "print(\"Number of roles in the movie 'Inception' that are not ranked by an 'n' value:\", num_inception_roles_no_rank)\n"
   ]
  },
  {
   "cell_type": "code",
   "execution_count": null,
   "metadata": {
    "collapsed": true
   },
   "outputs": [],
   "source": []
  },
  {
   "cell_type": "markdown",
   "metadata": {
    "collapsed": true
   },
   "source": [
    "### But how many roles in the movie \"Inception\" did receive an \"n\" value?"
   ]
  },
  {
   "cell_type": "code",
   "execution_count": 21,
   "metadata": {},
   "outputs": [
    {
     "name": "stdout",
     "output_type": "stream",
     "text": [
      "Number of roles in the movie 'Inception' that received an 'n' value: 51\n"
     ]
    }
   ],
   "source": [
    "\n",
    "inception_roles_with_rank = cast[(cast['title'] == 'Inception') & (~cast['n'].isnull())]\n",
    "num_inception_roles_with_rank = inception_roles_with_rank.shape[0]\n",
    "print(\"Number of roles in the movie 'Inception' that received an 'n' value:\", num_inception_roles_with_rank)\n"
   ]
  },
  {
   "cell_type": "code",
   "execution_count": null,
   "metadata": {
    "collapsed": true
   },
   "outputs": [],
   "source": []
  },
  {
   "cell_type": "markdown",
   "metadata": {
    "collapsed": true
   },
   "source": [
    "### Display the cast of \"North by Northwest\" in their correct \"n\"-value order, ignoring roles that did not earn a numeric \"n\" value."
   ]
  },
  {
   "cell_type": "code",
   "execution_count": 22,
   "metadata": {},
   "outputs": [
    {
     "name": "stdout",
     "output_type": "stream",
     "text": [
      "                         name                    character     n\n",
      "840374             Cary Grant           Roger O. Thornhill   1.0\n",
      "3361396       Eva Marie Saint                  Eve Kendall   2.0\n",
      "1404704           James Mason              Phillip Vandamm   3.0\n",
      "3024085   Jessie Royce Landis              Clara Thornhill   4.0\n",
      "343701         Leo G. Carroll                The Professor   5.0\n",
      "2923056  Josephine Hutchinson                Mrs. Townsend   6.0\n",
      "1634552           Philip Ober              Lester Townsend   7.0\n",
      "1229083         Martin Landau                      Leonard   8.0\n",
      "2357939         Adam Williams                     Valerian   9.0\n",
      "1746383          Edward Platt              Victor Larrabee  10.0\n",
      "642085      Robert Ellenstein                        Licht  11.0\n",
      "2212083          Les Tremayne                   Auctioneer  12.0\n",
      "447893        Philip Coolidge                    Dr. Cross  13.0\n",
      "1454363         Patrick McVey               Sergeant Flamm  14.0\n",
      "198496           Edward Binns               Captain Junket  15.0\n",
      "1334726             Ken Lynch  Charley - Chicago Policeman  16.0\n"
     ]
    }
   ],
   "source": [
    "\n",
    "north_by_northwest_cast = cast[(cast['title'] == 'North by Northwest') & (~cast['n'].isnull())]\n",
    "north_by_northwest_cast_sorted = north_by_northwest_cast.sort_values(by='n')\n",
    "print(north_by_northwest_cast_sorted[['name', 'character', 'n']])\n"
   ]
  },
  {
   "cell_type": "code",
   "execution_count": null,
   "metadata": {
    "collapsed": true
   },
   "outputs": [],
   "source": []
  },
  {
   "cell_type": "markdown",
   "metadata": {
    "collapsed": true
   },
   "source": [
    "### Display the entire cast, in \"n\"-order, of the 1972 film \"Sleuth\"."
   ]
  },
  {
   "cell_type": "code",
   "execution_count": 23,
   "metadata": {},
   "outputs": [
    {
     "name": "stdout",
     "output_type": "stream",
     "text": [
      "                       name                   character    n\n",
      "1644328    Laurence Olivier                 Andrew Wyke  1.0\n",
      "314691        Michael Caine                 Milo Tindle  2.0\n",
      "360365       Alec Cawthorne           Inspector Doppler  3.0\n",
      "1412647  John (II) Matthews  Detective Sergeant Tarrant  4.0\n",
      "2619278  Eve (III) Channing             Marguerite Wyke  5.0\n",
      "1396572        Teddy Martin      Police Constable Higgs  6.0\n"
     ]
    }
   ],
   "source": [
    "\n",
    "sleuth_1972_cast = cast[(cast['title'] == 'Sleuth') & (cast['year'] == 1972)]\n",
    "sleuth_1972_cast_sorted = sleuth_1972_cast.sort_values(by='n')\n",
    "print(sleuth_1972_cast_sorted[['name', 'character', 'n']])\n"
   ]
  },
  {
   "cell_type": "code",
   "execution_count": null,
   "metadata": {
    "collapsed": true
   },
   "outputs": [],
   "source": []
  },
  {
   "cell_type": "markdown",
   "metadata": {
    "collapsed": true
   },
   "source": [
    "### Now display the entire cast, in \"n\"-order, of the 2007 version of \"Sleuth\"."
   ]
  },
  {
   "cell_type": "code",
   "execution_count": 24,
   "metadata": {},
   "outputs": [
    {
     "name": "stdout",
     "output_type": "stream",
     "text": [
      "                        name          character    n\n",
      "314692         Michael Caine             Andrew  1.0\n",
      "1246855             Jude Law               Milo  2.0\n",
      "1741124        Harold Pinter        Man on T.V.  3.0\n",
      "250297       Kenneth Branagh  Other Man on T.V.  NaN\n",
      "360366   Alec (II) Cawthorne  Inspector Doppler  NaN\n",
      "2619277    Eve (II) Channing    Marguerite Wyke  NaN\n",
      "3223502    Carmel O'Sullivan             Maggie  NaN\n"
     ]
    }
   ],
   "source": [
    "\n",
    "sleuth_2007_cast = cast[(cast['title'] == 'Sleuth') & (cast['year'] == 2007)]\n",
    "sleuth_2007_cast_sorted = sleuth_2007_cast.sort_values(by='n')\n",
    "print(sleuth_2007_cast_sorted[['name', 'character', 'n']])\n"
   ]
  },
  {
   "cell_type": "code",
   "execution_count": null,
   "metadata": {
    "collapsed": true
   },
   "outputs": [],
   "source": []
  },
  {
   "cell_type": "markdown",
   "metadata": {
    "collapsed": true
   },
   "source": [
    "### How many roles were credited in the silent 1921 version of Hamlet?"
   ]
  },
  {
   "cell_type": "code",
   "execution_count": 25,
   "metadata": {},
   "outputs": [
    {
     "name": "stdout",
     "output_type": "stream",
     "text": [
      "Number of roles credited in the silent 1921 version of 'Hamlet': 9\n"
     ]
    }
   ],
   "source": [
    "\n",
    "hamlet_1921_roles = cast[(cast['title'] == 'Hamlet') & (cast['year'] == 1921)]\n",
    "num_hamlet_1921_roles = hamlet_1921_roles['character'].nunique()\n",
    "print(\"Number of roles credited in the silent 1921 version of 'Hamlet':\", num_hamlet_1921_roles)\n"
   ]
  },
  {
   "cell_type": "code",
   "execution_count": null,
   "metadata": {
    "collapsed": true
   },
   "outputs": [],
   "source": []
  },
  {
   "cell_type": "markdown",
   "metadata": {
    "collapsed": true
   },
   "source": [
    "### How many roles were credited in Branagh’s 1996 Hamlet?"
   ]
  },
  {
   "cell_type": "code",
   "execution_count": 26,
   "metadata": {},
   "outputs": [
    {
     "name": "stdout",
     "output_type": "stream",
     "text": [
      "Number of roles credited in Branagh's 1996 adaptation of 'Hamlet': 51\n"
     ]
    }
   ],
   "source": [
    "\n",
    "branagh_hamlet_roles = cast[(cast['title'].str.contains('Hamlet')) & (cast['year'] == 1996)]\n",
    "num_branagh_hamlet_roles = branagh_hamlet_roles['character'].nunique()\n",
    "print(\"Number of roles credited in Branagh's 1996 adaptation of 'Hamlet':\", num_branagh_hamlet_roles)\n"
   ]
  },
  {
   "cell_type": "code",
   "execution_count": null,
   "metadata": {
    "collapsed": true
   },
   "outputs": [],
   "source": []
  },
  {
   "cell_type": "markdown",
   "metadata": {
    "collapsed": true
   },
   "source": [
    "### How many \"Hamlet\" roles have been listed in all film credits through history?"
   ]
  },
  {
   "cell_type": "code",
   "execution_count": 28,
   "metadata": {},
   "outputs": [
    {
     "name": "stdout",
     "output_type": "stream",
     "text": [
      "Number of 'Hamlet' roles listed in all film credits through history: 474\n"
     ]
    }
   ],
   "source": [
    "\n",
    "cast['title'].fillna('', inplace=True)\n",
    "\n",
    "\n",
    "hamlet_roles = cast[cast['title'].str.contains('Hamlet')]\n",
    "\n",
    "\n",
    "num_hamlet_roles = hamlet_roles['character'].nunique()\n",
    "print(\"Number of 'Hamlet' roles listed in all film credits through history:\", num_hamlet_roles)\n",
    "\n"
   ]
  },
  {
   "cell_type": "code",
   "execution_count": null,
   "metadata": {
    "collapsed": true
   },
   "outputs": [],
   "source": []
  },
  {
   "cell_type": "markdown",
   "metadata": {
    "collapsed": true
   },
   "source": [
    "### How many people have played an \"Ophelia\"?"
   ]
  },
  {
   "cell_type": "code",
   "execution_count": 29,
   "metadata": {},
   "outputs": [
    {
     "name": "stdout",
     "output_type": "stream",
     "text": [
      "Number of people who have played 'Ophelia': 109\n"
     ]
    }
   ],
   "source": [
    "\n",
    "ophelia_actors = cast[cast['character'] == 'Ophelia']\n",
    "num_ophelia_actors = ophelia_actors['name'].nunique()\n",
    "print(\"Number of people who have played 'Ophelia':\", num_ophelia_actors)\n"
   ]
  },
  {
   "cell_type": "code",
   "execution_count": null,
   "metadata": {
    "collapsed": true
   },
   "outputs": [],
   "source": []
  },
  {
   "cell_type": "markdown",
   "metadata": {
    "collapsed": true
   },
   "source": [
    "### How many people have played a role called \"The Dude\"?"
   ]
  },
  {
   "cell_type": "code",
   "execution_count": 30,
   "metadata": {},
   "outputs": [
    {
     "name": "stdout",
     "output_type": "stream",
     "text": [
      "Number of people who have played a role called 'The Dude': 18\n"
     ]
    }
   ],
   "source": [
    "\n",
    "the_dude_actors = cast[cast['character'] == 'The Dude']\n",
    "num_the_dude_actors = the_dude_actors['name'].nunique()\n",
    "print(\"Number of people who have played a role called 'The Dude':\", num_the_dude_actors)\n"
   ]
  },
  {
   "cell_type": "code",
   "execution_count": null,
   "metadata": {
    "collapsed": true
   },
   "outputs": [],
   "source": []
  },
  {
   "cell_type": "markdown",
   "metadata": {
    "collapsed": true
   },
   "source": [
    "### How many people have played a role called \"The Stranger\"?"
   ]
  },
  {
   "cell_type": "code",
   "execution_count": 31,
   "metadata": {},
   "outputs": [
    {
     "name": "stdout",
     "output_type": "stream",
     "text": [
      "Number of people who have played a role called 'The Stranger': 197\n"
     ]
    }
   ],
   "source": [
    "\n",
    "the_stranger_actors = cast[cast['character'] == 'The Stranger']\n",
    "num_the_stranger_actors = the_stranger_actors['name'].nunique()\n",
    "print(\"Number of people who have played a role called 'The Stranger':\", num_the_stranger_actors)\n"
   ]
  },
  {
   "cell_type": "code",
   "execution_count": null,
   "metadata": {
    "collapsed": true
   },
   "outputs": [],
   "source": []
  },
  {
   "cell_type": "markdown",
   "metadata": {
    "collapsed": true
   },
   "source": [
    "### How many roles has Sidney Poitier played throughout his career?"
   ]
  },
  {
   "cell_type": "code",
   "execution_count": 32,
   "metadata": {},
   "outputs": [
    {
     "name": "stdout",
     "output_type": "stream",
     "text": [
      "Number of roles Sidney Poitier has played throughout his career: 41\n"
     ]
    }
   ],
   "source": [
    "\n",
    "sidney_poitier_roles = cast[cast['name'] == 'Sidney Poitier']\n",
    "num_sidney_poitier_roles = sidney_poitier_roles['character'].nunique()\n",
    "print(\"Number of roles Sidney Poitier has played throughout his career:\", num_sidney_poitier_roles)\n"
   ]
  },
  {
   "cell_type": "code",
   "execution_count": null,
   "metadata": {
    "collapsed": true
   },
   "outputs": [],
   "source": []
  },
  {
   "cell_type": "markdown",
   "metadata": {
    "collapsed": true
   },
   "source": [
    "### How many roles has Judi Dench played?"
   ]
  },
  {
   "cell_type": "code",
   "execution_count": 33,
   "metadata": {},
   "outputs": [
    {
     "name": "stdout",
     "output_type": "stream",
     "text": [
      "Number of roles Judi Dench has played: 46\n"
     ]
    }
   ],
   "source": [
    "\n",
    "judi_dench_roles = cast[cast['name'] == 'Judi Dench']\n",
    "num_judi_dench_roles = judi_dench_roles['character'].nunique()\n",
    "print(\"Number of roles Judi Dench has played:\", num_judi_dench_roles)\n"
   ]
  },
  {
   "cell_type": "code",
   "execution_count": null,
   "metadata": {
    "collapsed": true
   },
   "outputs": [],
   "source": []
  },
  {
   "cell_type": "markdown",
   "metadata": {
    "collapsed": true
   },
   "source": [
    "### List the supporting roles (having n=2) played by Cary Grant in the 1940s, in order by year."
   ]
  },
  {
   "cell_type": "code",
   "execution_count": 34,
   "metadata": {},
   "outputs": [
    {
     "name": "stdout",
     "output_type": "stream",
     "text": [
      "        year             title    character\n",
      "840371  1940  My Favorite Wife         Nick\n",
      "840381  1941    Penny Serenade  Roger Adams\n"
     ]
    }
   ],
   "source": [
    "\n",
    "cary_grant_supporting_roles_1940s = cast[(cast['name'] == 'Cary Grant') & (cast['n'] == 2) & (cast['year'] >= 1940) & (cast['year'] <= 1949)]\n",
    "cary_grant_supporting_roles_1940s_sorted = cary_grant_supporting_roles_1940s.sort_values(by='year')\n",
    "print(cary_grant_supporting_roles_1940s_sorted[['year', 'title', 'character']])\n"
   ]
  },
  {
   "cell_type": "code",
   "execution_count": null,
   "metadata": {
    "collapsed": true
   },
   "outputs": [],
   "source": []
  },
  {
   "cell_type": "markdown",
   "metadata": {
    "collapsed": true
   },
   "source": [
    "### List the leading roles that Cary Grant played in the 1940s in order by year."
   ]
  },
  {
   "cell_type": "code",
   "execution_count": 35,
   "metadata": {},
   "outputs": [
    {
     "name": "stdout",
     "output_type": "stream",
     "text": [
      "        year                                 title              character\n",
      "840397  1940               The Howards of Virginia            Matt Howard\n",
      "840353  1940                       His Girl Friday           Walter Burns\n",
      "840399  1940                The Philadelphia Story     C. K. Dexter Haven\n",
      "840386  1941                             Suspicion                Johnnie\n",
      "840401  1942                  The Talk of the Town           Leopold Dilg\n",
      "840377  1942                 Once Upon a Honeymoon  Patrick 'Pat' O'Toole\n",
      "840344  1943                     Destination Tokyo          Capt. Cassidy\n",
      "840369  1943                             Mr. Lucky              Joe Adams\n",
      "840370  1943                             Mr. Lucky        Joe Bascopolous\n",
      "840378  1944                      Once Upon a Time            Jerry Flynn\n",
      "840336  1944                  Arsenic and Old Lace      Mortimer Brewster\n",
      "840373  1944             None But the Lonely Heart             Ernie Mott\n",
      "840372  1946                         Night and Day            Cole Porter\n",
      "840375  1946                             Notorious                 Devlin\n",
      "840393  1947      The Bachelor and the Bobby-Soxer            Dick Nugent\n",
      "840394  1947                     The Bishop's Wife                 Dudley\n",
      "840368  1948  Mr. Blandings Builds His Dream House          Jim Blandings\n",
      "840348  1948          Every Girl Should Be Married      Dr. Madison Brown\n",
      "840357  1949                I Was a Male War Bride  Captain Henri Rochard\n"
     ]
    }
   ],
   "source": [
    "\n",
    "cary_grant_leading_roles_1940s = cast[(cast['name'] == 'Cary Grant') & (cast['n'] == 1) & (cast['year'] >= 1940) & (cast['year'] <= 1949)]\n",
    "cary_grant_leading_roles_1940s_sorted = cary_grant_leading_roles_1940s.sort_values(by='year')\n",
    "print(cary_grant_leading_roles_1940s_sorted[['year', 'title', 'character']])\n"
   ]
  },
  {
   "cell_type": "code",
   "execution_count": null,
   "metadata": {
    "collapsed": true
   },
   "outputs": [],
   "source": []
  },
  {
   "cell_type": "markdown",
   "metadata": {
    "collapsed": true
   },
   "source": [
    "### How many roles were available for actors in the 1950s?"
   ]
  },
  {
   "cell_type": "code",
   "execution_count": 36,
   "metadata": {},
   "outputs": [
    {
     "name": "stdout",
     "output_type": "stream",
     "text": [
      "Number of roles available for actors in the 1950s: 154727\n"
     ]
    }
   ],
   "source": [
    "\n",
    "roles_1950s = cast[(cast['year'] >= 1950) & (cast['year'] <= 1959) & (cast['type'] == 'actor')]\n",
    "num_roles_1950s = roles_1950s.shape[0]\n",
    "print(\"Number of roles available for actors in the 1950s:\", num_roles_1950s)\n"
   ]
  },
  {
   "cell_type": "code",
   "execution_count": null,
   "metadata": {
    "collapsed": true
   },
   "outputs": [],
   "source": []
  },
  {
   "cell_type": "markdown",
   "metadata": {
    "collapsed": true
   },
   "source": [
    "### How many roles were available for actresses in the 1950s?"
   ]
  },
  {
   "cell_type": "code",
   "execution_count": 37,
   "metadata": {},
   "outputs": [
    {
     "name": "stdout",
     "output_type": "stream",
     "text": [
      "Number of roles available for actresses in the 1950s: 56259\n"
     ]
    }
   ],
   "source": [
    "\n",
    "roles_1950s_actresses = cast[(cast['year'] >= 1950) & (cast['year'] <= 1959) & (cast['type'] == 'actress')]\n",
    "num_roles_1950s_actresses = roles_1950s_actresses.shape[0]\n",
    "print(\"Number of roles available for actresses in the 1950s:\", num_roles_1950s_actresses)\n"
   ]
  },
  {
   "cell_type": "code",
   "execution_count": null,
   "metadata": {
    "collapsed": true
   },
   "outputs": [],
   "source": []
  },
  {
   "cell_type": "markdown",
   "metadata": {
    "collapsed": true
   },
   "source": [
    "### How many leading roles (n=1) were available from the beginning of film history through 1980?"
   ]
  },
  {
   "cell_type": "code",
   "execution_count": 38,
   "metadata": {},
   "outputs": [
    {
     "name": "stdout",
     "output_type": "stream",
     "text": [
      "Number of leading roles (n=1) available from the beginning of film history through 1980: 63924\n"
     ]
    }
   ],
   "source": [
    "\n",
    "leading_roles_until_1980 = cast[(cast['n'] == 1) & (cast['year'] <= 1980)]\n",
    "num_leading_roles_until_1980 = leading_roles_until_1980.shape[0]\n",
    "print(\"Number of leading roles (n=1) available from the beginning of film history through 1980:\", num_leading_roles_until_1980)\n"
   ]
  },
  {
   "cell_type": "code",
   "execution_count": null,
   "metadata": {
    "collapsed": true
   },
   "outputs": [],
   "source": []
  },
  {
   "cell_type": "markdown",
   "metadata": {
    "collapsed": true
   },
   "source": [
    "### How many non-leading roles were available through from the beginning of film history through 1980?"
   ]
  },
  {
   "cell_type": "code",
   "execution_count": 39,
   "metadata": {},
   "outputs": [
    {
     "name": "stdout",
     "output_type": "stream",
     "text": [
      "Number of non-leading roles available from the beginning of film history through 1980: 1094780\n"
     ]
    }
   ],
   "source": [
    "\n",
    "non_leading_roles_until_1980 = cast[(cast['n'] != 1) & (cast['year'] <= 1980)]\n",
    "num_non_leading_roles_until_1980 = non_leading_roles_until_1980.shape[0]\n",
    "print(\"Number of non-leading roles available from the beginning of film history through 1980:\", num_non_leading_roles_until_1980)\n"
   ]
  },
  {
   "cell_type": "code",
   "execution_count": null,
   "metadata": {
    "collapsed": true
   },
   "outputs": [],
   "source": []
  },
  {
   "cell_type": "markdown",
   "metadata": {
    "collapsed": true
   },
   "source": [
    "### How many roles through 1980 were minor enough that they did not warrant a numeric \"n\" rank?"
   ]
  },
  {
   "cell_type": "code",
   "execution_count": 40,
   "metadata": {},
   "outputs": [
    {
     "name": "stdout",
     "output_type": "stream",
     "text": [
      "Number of roles through 1980 that did not warrant a numeric 'n' rank: 438086\n"
     ]
    }
   ],
   "source": [
    "\n",
    "roles_without_rank_until_1980 = cast[(cast['n'].isnull()) & (cast['year'] <= 1980)]\n",
    "num_roles_without_rank_until_1980 = roles_without_rank_until_1980.shape[0]\n",
    "print(\"Number of roles through 1980 that did not warrant a numeric 'n' rank:\", num_roles_without_rank_until_1980)\n"
   ]
  },
  {
   "cell_type": "code",
   "execution_count": null,
   "metadata": {
    "collapsed": true
   },
   "outputs": [],
   "source": []
  }
 ],
 "metadata": {
  "kernelspec": {
   "display_name": "Python 3 (ipykernel)",
   "language": "python",
   "name": "python3"
  },
  "language_info": {
   "codemirror_mode": {
    "name": "ipython",
    "version": 3
   },
   "file_extension": ".py",
   "mimetype": "text/x-python",
   "name": "python",
   "nbconvert_exporter": "python",
   "pygments_lexer": "ipython3",
   "version": "3.11.5"
  }
 },
 "nbformat": 4,
 "nbformat_minor": 1
}
