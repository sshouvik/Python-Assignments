{
 "cells": [
  {
   "cell_type": "code",
   "execution_count": 1,
   "id": "28f31cd2",
   "metadata": {},
   "outputs": [
    {
     "name": "stdout",
     "output_type": "stream",
     "text": [
      "Sum of all items = 26\n"
     ]
    }
   ],
   "source": [
    "##1. Write a Python program to sum all the items \n",
    "#Sample Output [1,7,-10,34,2,-8] \n",
    "#Sum all the items = 26\n",
    "\n",
    "numbers  = [1,7,-10,34,2,-8]\n",
    "sum_of_items = sum(numbers)\n",
    "\n",
    "print(\"Sum of all items =\", sum_of_items)\n"
   ]
  },
  {
   "cell_type": "code",
   "execution_count": 3,
   "id": "d89dd68b",
   "metadata": {},
   "outputs": [
    {
     "name": "stdout",
     "output_type": "stream",
     "text": [
      "Multiply all the items in a list is 1680\n"
     ]
    }
   ],
   "source": [
    "###2. Write a Python program to multiply all the items in a list \n",
    "#Sample Output [3,4,5,4,7] \n",
    "#Multiply all the items in a list : 1680\n",
    "\n",
    "numbers = [3,4,5,4,7]\n",
    "\n",
    "sample_of_items = 1\n",
    "\n",
    "for num in numbers:\n",
    "    sample_of_items *=num\n",
    "print(\"Multiply all the items in a list is\", sample_of_items)"
   ]
  },
  {
   "cell_type": "code",
   "execution_count": 4,
   "id": "b9c6baf6",
   "metadata": {},
   "outputs": [
    {
     "name": "stdout",
     "output_type": "stream",
     "text": [
      "Largest number is 34\n"
     ]
    }
   ],
   "source": [
    "###3. Write a Python program to get the largest number from a list \n",
    "#Sample Output [1,7,10,34,2,8] \n",
    "#Largest Number : 34\n",
    "\n",
    "numbers = [1,7,10,34,2,8]\n",
    "largest_number = max(numbers)\n",
    "\n",
    "print(\"Largest number is\", largest_number)"
   ]
  },
  {
   "cell_type": "code",
   "execution_count": 5,
   "id": "11db7715",
   "metadata": {},
   "outputs": [
    {
     "name": "stdout",
     "output_type": "stream",
     "text": [
      "Smallest number is 2\n"
     ]
    }
   ],
   "source": [
    "###4. Write a Python program to get the smallest number from a list \n",
    "##Sample Output [51,7,10,34,2,8] \n",
    "##Smallest Number : 2\n",
    "\n",
    "numbers = [51,7,10,34,2,8]\n",
    "smallest_number = min(numbers)\n",
    "\n",
    "print(\"Smallest number is\", smallest_number)"
   ]
  },
  {
   "cell_type": "code",
   "execution_count": 6,
   "id": "6b4cf24f",
   "metadata": {},
   "outputs": [
    {
     "name": "stdout",
     "output_type": "stream",
     "text": [
      "First and last Character are same : 2\n"
     ]
    }
   ],
   "source": [
    "####5. Write a Python program to count the number of strings where the string length is 2 or more and \n",
    "#the first and last character are same from a given list of strings \n",
    "#Sample Output\n",
    "#['abc', 'xyz', 'aba', '1221'] \n",
    "#First and Last Character are same : 2\n",
    "\n",
    "\n",
    "list_data = ['abc', 'xyz', 'aba', '1221']\n",
    "count_strings = sum(1 for s in list_data if len(s) >= 2 and s[0] == s[-1])\n",
    "\n",
    "print(\"First and last Character are same :\", count_strings)"
   ]
  },
  {
   "cell_type": "code",
   "execution_count": 7,
   "id": "252e77a5",
   "metadata": {},
   "outputs": [
    {
     "name": "stdout",
     "output_type": "stream",
     "text": [
      "{1, 2, 3, 4, 5, 6, 7, 8}\n"
     ]
    }
   ],
   "source": [
    "####6. Write a Python program to remove duplicates from a list \n",
    "#Sample Output [1,2,3,7,2,1,5,6,4,8,5,4] \n",
    "##{1,2,3,4,5,6,7,8}\n",
    "\n",
    "numbers = [1, 2, 3, 7, 2, 1, 5, 6, 4, 8, 5, 4]\n",
    "unique_numbers = set(numbers)\n",
    "unique_numbers_list = list(unique_numbers)\n",
    "\n",
    "print(unique_numbers)"
   ]
  },
  {
   "cell_type": "code",
   "execution_count": 9,
   "id": "3038ec8c",
   "metadata": {},
   "outputs": [
    {
     "name": "stdout",
     "output_type": "stream",
     "text": [
      "List is not empty\n"
     ]
    }
   ],
   "source": [
    "####7. Write a Python program to check a list is empty or not \n",
    "#Sample Output [34,45,6,5,4,56,7] \n",
    "#List is Not Empty\n",
    "\n",
    "the_list = [34,45,6,5,4,56,7]\n",
    "if not the_list:\n",
    "    print(\"List is empty\")\n",
    "else:\n",
    "    print(\"List is not empty\")"
   ]
  },
  {
   "cell_type": "code",
   "execution_count": 12,
   "id": "0357cd5d",
   "metadata": {},
   "outputs": [
    {
     "name": "stdout",
     "output_type": "stream",
     "text": [
      "Clone or Copy List: [10, 22, 44, 23, 4]\n"
     ]
    }
   ],
   "source": [
    "###8. Write a Python program to clone or copy a list \n",
    "##Sample Output [10, 22, 44, 23, 4] \n",
    "#Clone or Copy a List : [10, 22, 44, 23, 4]\n",
    "\n",
    "a_list = [10,22,44,23,4]\n",
    "\n",
    "cloned_list = a_list.copy()\n",
    "\n",
    "print(\"Clone or Copy List:\", cloned_list)"
   ]
  },
  {
   "cell_type": "code",
   "execution_count": 14,
   "id": "2b4c09db",
   "metadata": {},
   "outputs": [
    {
     "name": "stdout",
     "output_type": "stream",
     "text": [
      "Given value of n = 4\n",
      "['Words', 'Longer', 'others']\n"
     ]
    }
   ],
   "source": [
    "###9. Write a Python program to find the list of words that are longer than n from a given list of words \n",
    "#Sample Output \n",
    "#Find the List of Words that are Longer than n from a given \n",
    "#List of Words Given value of n = 4 ['Words', 'Longer', 'given', 'Words']\n",
    "\n",
    "word_list = ['Find', 'the', 'List', 'of', 'Words', 'that', 'are', 'Longer', 'than', 'the', 'others']\n",
    "\n",
    "n = 4\n",
    "\n",
    "longer_words = [word for word in word_list if len(word) > n]\n",
    "\n",
    "print(\"Given value of n = 4\")\n",
    "print(longer_words)"
   ]
  },
  {
   "cell_type": "code",
   "execution_count": 17,
   "id": "1bdd1d74",
   "metadata": {},
   "outputs": [
    {
     "name": "stdout",
     "output_type": "stream",
     "text": [
      "Enter the first list (comma-separated values): 1,2,3,4,5,6\n",
      "Enter the second list (comma-separated values): 5,6,7,8,9\n",
      "Lists have at least one common member\n"
     ]
    }
   ],
   "source": [
    "###10. Write a Program that get two lists as input and check if they have at least one common member \n",
    "##Sample Output [1,2,3,4,5] [5,6,7,8,9] \n",
    "##Lists have at least one common member\n",
    "\n",
    "list1 = input(\"Enter the first list (comma-separated values): \").split(',')\n",
    "list2 = input(\"Enter the second list (comma-separated values): \").split(',')\n",
    "\n",
    "list1 = [int(item) for item in list1]\n",
    "list2 = [int(item) for item in list2]\n",
    "\n",
    "common_member = any(item in list1 for item in list2)\n",
    "\n",
    "if common_member:\n",
    "    print(\"Lists have at least one common member\")\n",
    "else:\n",
    "    print(\"Lists do not have any common members\")"
   ]
  },
  {
   "cell_type": "code",
   "execution_count": 18,
   "id": "87aba14c",
   "metadata": {},
   "outputs": [
    {
     "name": "stdout",
     "output_type": "stream",
     "text": [
      "['Cat', 'Dog', 'Elephant', 'Fox', 'Tiger', 'Lion', 'Ponda']\n",
      "['Dog', 'Elephant', 'Fox', 'Ponda']\n"
     ]
    }
   ],
   "source": [
    "#####11. Write a Python program to print a specified list after removing the 0th, 4th and 5th elements. (enumerate) \n",
    "###Sample Output [\"Cat\", \"Dog\", \"Elephant\", \"Fox\", \"Tiger\", \"Lion\", \"Ponda\"]\n",
    "#['Dog', 'Elephant', 'Fox', 'Ponda']\n",
    "\n",
    "\n",
    "original_list = [\"Cat\", \"Dog\", \"Elephant\", \"Fox\", \"Tiger\", \"Lion\", \"Ponda\"]\n",
    "\n",
    "indices_to_remove = [0, 4, 5]\n",
    "\n",
    "filtered_list = [value for index, value in enumerate(original_list) if index not in indices_to_remove]\n",
    "\n",
    "print(original_list)\n",
    "print(filtered_list)\n"
   ]
  },
  {
   "cell_type": "code",
   "execution_count": 19,
   "id": "a7a514d0",
   "metadata": {},
   "outputs": [
    {
     "name": "stdout",
     "output_type": "stream",
     "text": [
      "[7, 32, 81, 20, 25, 14, 23, 27]\n",
      "[7, 81, 25, 23, 27]\n"
     ]
    }
   ],
   "source": [
    "###12. Write a Python program to print the numbers of a specified list after removing even numbers from it \n",
    "###Sample Output [7,32,81,20,25,14,23,27] \n",
    "##[7, 81, 25, 23, 27]\n",
    "\n",
    "\n",
    "numbers_list = [7, 32, 81, 20, 25, 14, 23, 27]\n",
    "\n",
    "filtered_numbers = [num for num in numbers_list if num % 2 != 0]\n",
    "\n",
    "print(numbers_list)\n",
    "print(filtered_numbers)\n"
   ]
  },
  {
   "cell_type": "code",
   "execution_count": 20,
   "id": "eb858639",
   "metadata": {},
   "outputs": [
    {
     "name": "stdout",
     "output_type": "stream",
     "text": [
      "['Dog', 'Cat', 'Lion', 'Ponda', 'Tiger', 'Fox', 'Elephant']\n"
     ]
    }
   ],
   "source": [
    "###13. Write a Python program to shuffle and print a specified list (shuffle) \n",
    "##Sample Output [\"Cat\", \"Dog\", \"Elephant\", \"Fox\", \"Tiger\", \"Lion\", \"Ponda\"]\n",
    "##['Fox', 'Cat', 'Tiger', 'Lion', 'Dog', 'Ponda', 'Elephant']\n",
    "\n",
    "import random\n",
    "\n",
    "animals_list = [\"Cat\", \"Dog\", \"Elephant\", \"Fox\", \"Tiger\", \"Lion\", \"Ponda\"]\n",
    "\n",
    "random.shuffle(animals_list)\n",
    "\n",
    "print(animals_list)\n"
   ]
  },
  {
   "cell_type": "code",
   "execution_count": 25,
   "id": "64c14f4e",
   "metadata": {},
   "outputs": [
    {
     "name": "stdout",
     "output_type": "stream",
     "text": [
      "First 5 elements: [1, 4, 9, 16, 25]\n",
      "Last 5 elements: [625, 676, 729, 784, 841]\n"
     ]
    }
   ],
   "source": [
    "####14. Write a Python program to generate and print a list of first and last 5 elements \n",
    "#where the values are square of numbers between 1 and 30 \n",
    "#Sample Output First 5 elements : [1, 4, 9, 16, 25] Last 5 \n",
    "#elements : [625, 676, 729, 784, 841]\n",
    "\n",
    "squares_list = [num**2 for num in range(1, 30)]\n",
    "\n",
    "first_5_elements = squares_list[:5]\n",
    "last_5_elements = squares_list[-5:]\n",
    "\n",
    "print(\"First 5 elements:\", first_5_elements)\n",
    "print(\"Last 5 elements:\", last_5_elements)\n",
    "\n"
   ]
  },
  {
   "cell_type": "code",
   "execution_count": 26,
   "id": "53bc972f",
   "metadata": {},
   "outputs": [
    {
     "name": "stdout",
     "output_type": "stream",
     "text": [
      "[1, 2, 3]\n",
      "[(1, 2, 3), (1, 3, 2), (2, 1, 3), (2, 3, 1), (3, 1, 2), (3, 2, 1)]\n"
     ]
    }
   ],
   "source": [
    "###15. Write a Python program to generate all permutations of a list in Python. (itertools) \n",
    "##Sample Output [1,2,3] [(1, 2, 3), (1, 3, 2), (2, 1, 3), (2, 3, 1), (3, 1, 2), (3, 2, 1)]\n",
    "\n",
    "from itertools import permutations\n",
    "\n",
    "my_list = [1, 2, 3]\n",
    "\n",
    "all_permutations = list(permutations(my_list))\n",
    "\n",
    "print(my_list)\n",
    "print(all_permutations)\n"
   ]
  },
  {
   "cell_type": "code",
   "execution_count": 27,
   "id": "135da383",
   "metadata": {},
   "outputs": [
    {
     "name": "stdout",
     "output_type": "stream",
     "text": [
      "['T', 'u', 't', 'o', 'r', ' ', 'J', 'o', 'e', 's']\n",
      "Tutor Joes\n"
     ]
    }
   ],
   "source": [
    "###16. Write a Python program to convert a list of characters into a string \n",
    "##Sample Output ['T','u','t','o','r',' ','J','o','e','s'] Tutor Joes\n",
    "\n",
    "\n",
    "char_list = ['T', 'u', 't', 'o', 'r', ' ', 'J', 'o', 'e', 's']\n",
    "\n",
    "result_string = ''.join(char_list)\n",
    "\n",
    "print(char_list)\n",
    "print(result_string)\n"
   ]
  },
  {
   "cell_type": "code",
   "execution_count": 28,
   "id": "9726116f",
   "metadata": {},
   "outputs": [
    {
     "name": "stdout",
     "output_type": "stream",
     "text": [
      "Item to find the index of: 30\n",
      "Index Number of Item: 2\n"
     ]
    }
   ],
   "source": [
    "####17. Write a Python program to find the index of an item in a specified list \n",
    "##Sample Output [20, 70, 30, 90, 10, 30, 90, 10, 80] Item to find the index of 30 Index Number of Item = 2\n",
    "\n",
    "\n",
    "my_list = [20, 70, 30, 90, 10, 30, 90, 10, 80]\n",
    "\n",
    "item_to_find = 30\n",
    "\n",
    "index_of_item = my_list.index(item_to_find)\n",
    "\n",
    "print(\"Item to find the index of:\", item_to_find)\n",
    "print(\"Index Number of Item:\", index_of_item)\n"
   ]
  },
  {
   "cell_type": "code",
   "execution_count": 29,
   "id": "88f45a65",
   "metadata": {},
   "outputs": [
    {
     "name": "stdout",
     "output_type": "stream",
     "text": [
      "[[20, 30, 70], [30, 90, 10], [30, 20], [70, 90, 10, 80]]\n",
      "[20, 30, 70, 30, 90, 10, 30, 20, 70, 90, 10, 80]\n"
     ]
    }
   ],
   "source": [
    "####18. Write a Python program to flatten a shallow list \n",
    "##Sample Output [[20,30,70],[30,90,10], [30,20], [70,90,10,80]] [20, 30, 70, 30, 90, 10, 30, 20, 70, 90, 10, 80]\n",
    "\n",
    "shallow_list = [[20, 30, 70], [30, 90, 10], [30, 20], [70, 90, 10, 80]]\n",
    "\n",
    "flattened_list = [item for sublist in shallow_list for item in sublist]\n",
    "\n",
    "print(shallow_list)\n",
    "print(flattened_list)\n"
   ]
  },
  {
   "cell_type": "code",
   "execution_count": 30,
   "id": "aae54e2f",
   "metadata": {},
   "outputs": [
    {
     "name": "stdout",
     "output_type": "stream",
     "text": [
      "[10, 20, 30, 40]\n",
      "['Cat', 'Dog', 'Lion', 'Ponda']\n",
      "[10, 20, 30, 40, 'Cat', 'Dog', 'Lion', 'Ponda']\n"
     ]
    }
   ],
   "source": [
    "####19. Write a Python program to add a list to the second list \n",
    "##Sample Output [10, 20, 30, 40] [\"Cat\", \"Dog\", \"Lion\", \"Ponda\"] [10, 20, 30, 40, 'Cat', 'Dog', 'Lion', 'Ponda']\n",
    "\n",
    "list1 = [10, 20, 30, 40]\n",
    "\n",
    "list2 = [\"Cat\", \"Dog\", \"Lion\", \"Ponda\"]\n",
    "\n",
    "result_list = list1 + list2\n",
    "\n",
    "print(list1)\n",
    "print(list2)\n",
    "print(result_list)\n"
   ]
  },
  {
   "cell_type": "code",
   "execution_count": 31,
   "id": "2ec00d67",
   "metadata": {},
   "outputs": [
    {
     "name": "stdout",
     "output_type": "stream",
     "text": [
      "['Cat', 'Dog', 'Elephant', 'Fox', 'Tiger', 'Lion', 'Ponda']\n",
      "Item randomly from a list: Elephant\n"
     ]
    }
   ],
   "source": [
    "###20. Write a Python program to select an item randomly from a list Using random.choice() \n",
    "###Sample Output [\"Cat\", \"Dog\", \"Elephant\", \"Fox\", \"Tiger\", \"Lion\", \"Ponda\"] Item randomly from a list : Fox\n",
    "\n",
    "animal_list = [\"Cat\", \"Dog\", \"Elephant\", \"Fox\", \"Tiger\", \"Lion\", \"Ponda\"]\n",
    "\n",
    "random_item = random.choice(animal_list)\n",
    "\n",
    "print(animal_list)\n",
    "print(\"Item randomly from a list:\", random_item)\n"
   ]
  },
  {
   "cell_type": "code",
   "execution_count": 1,
   "id": "f5f955e7",
   "metadata": {},
   "outputs": [
    {
     "name": "stdout",
     "output_type": "stream",
     "text": [
      "Compare List1 and List2: True\n",
      "Compare List1 and List3: False\n"
     ]
    }
   ],
   "source": [
    "###21. Write a python program to check whether two lists are circularly identical \n",
    "#Sample Output [8, 8, 12, 12, 8] [8, 8, 8, 12, 12] [1, 8, 8, 12, 12] \n",
    "#Compare List1 and List2 : True \n",
    "#Compare List1 and List3 : False\n",
    "\n",
    "def are_circularly_identical(list1, list2):\n",
    "    if len(list1) != len(list2):\n",
    "        return False\n",
    "    \n",
    "    concatenated_list1 = ''.join(map(str, list1 * 2))\n",
    "    return ''.join(map(str, list2)) in concatenated_list1\n",
    "\n",
    "\n",
    "list1 = [8, 8, 12, 12, 8]\n",
    "list2 = [8, 8, 8, 12, 12]\n",
    "list3 = [1, 8, 8, 12, 12]\n",
    "\n",
    "result1 = are_circularly_identical(list1, list2)\n",
    "result2 = are_circularly_identical(list1, list3)\n",
    "\n",
    "\n",
    "print(f\"Compare List1 and List2: {result1}\")\n",
    "print(f\"Compare List1 and List3: {result2}\")"
   ]
  },
  {
   "cell_type": "code",
   "execution_count": 3,
   "id": "3e6c18cd",
   "metadata": {},
   "outputs": [
    {
     "name": "stdout",
     "output_type": "stream",
     "text": [
      "Second Smallest Number: 4\n"
     ]
    }
   ],
   "source": [
    "##### 22. Write a Python program to find the second smallest number in a list \n",
    "###Sample Output [2,4,56,78,4,34,5,8,9] \n",
    "###Second Smallest Number : 4\n",
    "\n",
    "numbers_list = [2, 4, 56, 78, 4, 34, 5, 8, 9]\n",
    "\n",
    "sorted_list = sorted(set(numbers_list))\n",
    "\n",
    "\n",
    "if len(sorted_list) >= 2:\n",
    "    second_smallest = sorted_list[1]\n",
    "    print(\"Second Smallest Number:\", second_smallest)\n",
    "else:\n",
    "    print(\"There is no second smallest number.\")\n"
   ]
  },
  {
   "cell_type": "code",
   "execution_count": 10,
   "id": "824f09ea",
   "metadata": {},
   "outputs": [
    {
     "name": "stdout",
     "output_type": "stream",
     "text": [
      "Second Largest Number: 82\n"
     ]
    }
   ],
   "source": [
    "###23. Write a Python program to find the second largest number in a list \n",
    "###Sample Output [82,4,56,78,4,34,5,100,9] \n",
    "##Second Largest Number : 82\n",
    "\n",
    "numbers_list = [82,4,56,78,4,34,5,100,9]\n",
    "\n",
    "sorted_list = sorted(set(numbers_list), reverse=True)\n",
    "\n",
    "if len(sorted_list) >= 2:\n",
    "    second_largest = sorted_list[1]\n",
    "    print(\"Second Largest Number:\", second_largest)\n",
    "else:\n",
    "    print(\"There is no second largest number.\")"
   ]
  },
  {
   "cell_type": "code",
   "execution_count": 11,
   "id": "777a2762",
   "metadata": {},
   "outputs": [
    {
     "name": "stdout",
     "output_type": "stream",
     "text": [
      "[34, 4, 5, 9, 10, 78, 82, 56]\n"
     ]
    }
   ],
   "source": [
    "###24. Write a Python program to get unique values from a list \n",
    "#Sample Output [82, 4, 10, 56, 78, 4, 34, 5, 10, 9] [34, 4, 5, 9, 10, 78, 82, 56]\n",
    "\n",
    "numbers_list = [82, 4, 10, 56, 78, 4, 34, 5, 10, 9]\n",
    "\n",
    "unique_values = list(set(numbers_list))\n",
    "\n",
    "print(unique_values)"
   ]
  },
  {
   "cell_type": "code",
   "execution_count": 13,
   "id": "84d8aa38",
   "metadata": {},
   "outputs": [
    {
     "name": "stdout",
     "output_type": "stream",
     "text": [
      "Counter({50: 3, 10: 2, 30: 2, 20: 2, 60: 2, 40: 2})\n"
     ]
    }
   ],
   "source": [
    "###25. Write a Python program to get the frequency of the elements in a list.\n",
    "##Sample Output [10, 30, 50, 10, 20, 60, 20, 60, 40, 40, 50, 50, 30] \n",
    "##Counter({50: 3, 10: 2, 30: 2, 20: 2, 60: 2, 40: 2})\n",
    "\n",
    "from collections import Counter\n",
    "\n",
    "numbers_list = [10, 30, 50, 10, 20, 60, 20, 60, 40, 40, 50, 50, 30]\n",
    "\n",
    "counter_numbers = Counter(numbers_list)\n",
    "\n",
    "print(counter_numbers)"
   ]
  },
  {
   "cell_type": "code",
   "execution_count": 15,
   "id": "01ec4472",
   "metadata": {},
   "outputs": [
    {
     "name": "stdout",
     "output_type": "stream",
     "text": [
      "['T1', 'J1', 'T2', 'J2', 'T3', 'J3', 'T4', 'J4', 'T5', 'J5', 'T6', 'J6', 'T7', 'J7', 'T8', 'J8', 'T9', 'J9', 'T10', 'J10']\n"
     ]
    }
   ],
   "source": [
    "##26. Create a list by concatenating a given list which range goes from 1 to n \n",
    "##Sample Output ['T', 'J'] N = 10\n",
    "#['T1', 'J1', 'T2', 'J2', 'T3', 'J3', 'T4', 'J4', 'T5', 'J5', 'T6', 'J6', 'T7', 'J7', 'T8', 'J8', 'T9', 'J9', 'T10', 'J10']\n",
    "\n",
    "given_list = ['T', 'J']\n",
    "\n",
    "N = 10\n",
    "\n",
    "result_list = [elem + str(i) for i in range(1, N+1) for elem in given_list]\n",
    "\n",
    "\n",
    "print(result_list)"
   ]
  },
  {
   "cell_type": "code",
   "execution_count": 19,
   "id": "093f2067",
   "metadata": {},
   "outputs": [
    {
     "name": "stdout",
     "output_type": "stream",
     "text": [
      "x = 30\n",
      "s = \"Tutor Joes\"\n",
      "Unique Identification Number for x: 0x7ffbe05996c8\n",
      "Unique Identification Number for s: 0x172224e8370\n"
     ]
    }
   ],
   "source": [
    "###27. Write a Python program to get variable unique identification number or string \n",
    "#Sample Output x = 30 s = \"Tutor Joes\" \n",
    "#Unique Identification Number : 7005f980 Unique Identification String : c24bb0\n",
    "\n",
    "x = 30\n",
    "unique_id_x = id(x)\n",
    "\n",
    "s = \"Tutor Joes\"\n",
    "unique_id_s = id(s)\n",
    "\n",
    "print(f\"x = {x}\")\n",
    "print(f\"s = \\\"{s}\\\"\")\n",
    "print(f\"Unique Identification Number for x: {hex(unique_id_x)}\")\n",
    "print(f\"Unique Identification Number for s: {hex(unique_id_s)}\")"
   ]
  },
  {
   "cell_type": "code",
   "execution_count": 20,
   "id": "05be3bae",
   "metadata": {},
   "outputs": [
    {
     "name": "stdout",
     "output_type": "stream",
     "text": [
      "[23, 45, 67, 78, 89, 34]\n",
      "[34, 89, 55, 56, 39, 67]\n",
      "Common items from two lists: {89, 34, 67}\n"
     ]
    }
   ],
   "source": [
    "###28. Write a Python program to find common items from two lists \n",
    "##Sample Output [23,45,67,78,89,34] [34,89,55,56,39,67] \n",
    "##Common items from two lists : {89, 34, 67}\n",
    "\n",
    "list1 = [23, 45, 67, 78, 89, 34]\n",
    "list2 = [34, 89, 55, 56, 39, 67]\n",
    "\n",
    "common_items = set(list1) & set(list2)\n",
    "\n",
    "print(list1)\n",
    "print(list2)\n",
    "print(\"Common items from two lists:\", common_items)"
   ]
  },
  {
   "cell_type": "code",
   "execution_count": 21,
   "id": "fd4dac30",
   "metadata": {},
   "outputs": [
    {
     "name": "stdout",
     "output_type": "stream",
     "text": [
      "['cat', 'dog', 'cow', 'tiger', 'lion', 'Fox', 'Shark', 'Snake', 'turtle', 'mouse', 'monkey', 'bear']\n",
      "b bear\n",
      "c cat, cow\n",
      "d dog\n",
      "f Fox\n",
      "l lion\n",
      "m mouse, monkey\n",
      "s Shark, Snake\n",
      "t tiger, turtle\n"
     ]
    }
   ],
   "source": [
    "#####29. Write a Python program to split a list based on first character of word \n",
    "###Sample Output [\"cat\", \"dog\", \"cow\", \"tiger\", \"lion\", \"Fox\", \"Shark\", \"Snake\", \"turtle\", \"mouse\", \"monkey\", \"bear\"] \n",
    "##F Fox S Shark Snake b bear c cat\n",
    "##cow d dog l lion m monkey mouse t tiger turtle\n",
    "\n",
    "\n",
    "word_list = [\"cat\", \"dog\", \"cow\", \"tiger\", \"lion\", \"Fox\", \"Shark\", \"Snake\", \"turtle\", \"mouse\", \"monkey\", \"bear\"]\n",
    "\n",
    "word_dict = {}\n",
    "\n",
    "for word in word_list:\n",
    "    first_char = word[0].lower()  \n",
    "    if first_char not in word_dict:\n",
    "        word_dict[first_char] = [word]\n",
    "    else:\n",
    "        word_dict[first_char].append(word)\n",
    "\n",
    "\n",
    "print(word_list)\n",
    "for key in sorted(word_dict.keys()):\n",
    "    print(f\"{key} {', '.join(word_dict[key])}\")\n"
   ]
  },
  {
   "cell_type": "code",
   "execution_count": 22,
   "id": "032d6456",
   "metadata": {},
   "outputs": [
    {
     "name": "stdout",
     "output_type": "stream",
     "text": [
      "[1, 2, 4, 3, 6, 7, 5, 8, 9, 7, 8, 9, 10]\n",
      "[1, 3, 7, 5, 9, 7, 9]\n"
     ]
    }
   ],
   "source": [
    "###30. Write a Python program to select the odd number of a list \n",
    "##Sample Output [1,2,4,3,6,7,5,8,9,7,8,9,10] [1, 3, 7, 5, 9, 7, 9]\n",
    "\n",
    "numbers_list = [1, 2, 4, 3, 6, 7, 5, 8, 9, 7, 8, 9, 10]\n",
    "\n",
    "\n",
    "odd_numbers = [num for num in numbers_list if num % 2 != 0]\n",
    "\n",
    "\n",
    "print(numbers_list)\n",
    "print(odd_numbers)\n"
   ]
  },
  {
   "cell_type": "code",
   "execution_count": 23,
   "id": "ac3a531f",
   "metadata": {},
   "outputs": [
    {
     "name": "stdout",
     "output_type": "stream",
     "text": [
      "[10, 20, 30, 50, 80, 70, 70, 80, 10]\n",
      "No of Unique Items in List: 6\n"
     ]
    }
   ],
   "source": [
    "###31. Write a Python Program to count unique values inside a list \n",
    "##Sample Output [10, 20, 30, 50, 80, 70, 70, 80, 10] No of Unique Items in List : 6\n",
    "\n",
    "numbers_list = [10, 20, 30, 50, 80, 70, 70, 80, 10]\n",
    "\n",
    "unique_values_count = len(set(numbers_list))\n",
    "\n",
    "print(numbers_list)\n",
    "print(f\"No of Unique Items in List: {unique_values_count}\")\n"
   ]
  },
  {
   "cell_type": "code",
   "execution_count": 24,
   "id": "25707c9b",
   "metadata": {},
   "outputs": [
    {
     "name": "stdout",
     "output_type": "stream",
     "text": [
      "[2, 1, 2, 4, 6, 4, 3, 2, 1]\n",
      "Duplication removal list product: 144\n"
     ]
    }
   ],
   "source": [
    "####32. Write a Python Program to List product excluding duplicates \n",
    "###Sample Output [2, 1, 2, 4, 6, 4, 3, 2, 1] \n",
    "##Duplication removal list product : 144\n",
    "\n",
    "from functools import reduce\n",
    "\n",
    "numbers_list = [2, 1, 2, 4, 6, 4, 3, 2, 1]\n",
    "\n",
    "unique_values_product = reduce(lambda x, y: x * y, set(numbers_list))\n",
    "\n",
    "print(numbers_list)\n",
    "print(f\"Duplication removal list product: {unique_values_product}\")\n"
   ]
  },
  {
   "cell_type": "code",
   "execution_count": 26,
   "id": "4bbbf238",
   "metadata": {},
   "outputs": [
    {
     "name": "stdout",
     "output_type": "stream",
     "text": [
      "[4, 6, 4, 3, 3, 4, 3, 7, 8, 8]\n",
      "Elements with Frequency greater than 2: [4, 3, 8]\n"
     ]
    }
   ],
   "source": [
    "###33. Write a Python Program to Extract elements with Frequency greater than K \n",
    "##Sample Output [4, 6, 4, 3, 3, 4, 3, 7, 8, 8]\n",
    "\n",
    "\n",
    "numbers_list = [4, 6, 4, 3, 3, 4, 3, 7, 8, 8]\n",
    "frequency_threshold = 2\n",
    "\n",
    "element_frequencies = Counter(numbers_list)\n",
    "\n",
    "result_list = [elem for elem, freq in element_frequencies.items() if freq >= frequency_threshold]\n",
    "\n",
    "print(numbers_list)\n",
    "print(f\"Elements with Frequency greater than {frequency_threshold}: {result_list}\")\n"
   ]
  },
  {
   "cell_type": "code",
   "execution_count": 27,
   "id": "7f299738",
   "metadata": {},
   "outputs": [
    {
     "name": "stdout",
     "output_type": "stream",
     "text": [
      "[4, 5, 6, 7, 3, 9]\n",
      "Does list contain all elements in range: True\n"
     ]
    }
   ],
   "source": [
    "###34. Write a Python Program to Test if List contains elements in Range \n",
    "##Sample Output [4, 5, 6, 7, 3, 9] Does list contain all elements in range : True\n",
    "\n",
    "numbers_list = [4, 5, 6, 7, 3, 9]\n",
    "\n",
    "range_start = 3\n",
    "range_end = 10\n",
    "\n",
    "contains_elements_in_range = all(range_start <= num <= range_end for num in numbers_list)\n",
    "\n",
    "print(numbers_list)\n",
    "print(f\"Does list contain all elements in range: {contains_elements_in_range}\")\n"
   ]
  },
  {
   "cell_type": "code",
   "execution_count": 28,
   "id": "3d5f516c",
   "metadata": {},
   "outputs": [
    {
     "name": "stdout",
     "output_type": "stream",
     "text": [
      "[18, 18, 18, 6, 3, 4, 9, 9, 9]\n",
      "Three Consecutive common numbers: 18, 9\n"
     ]
    }
   ],
   "source": [
    "###35. Write a Python program to check if the list contains three consecutive common numbers in Python \n",
    "##Sample Output [18, 18, 18, 6, 3, 4, 9, 9, 9] Three Consecutive common numbers = 18, 9\n",
    "\n",
    "numbers_list = [18, 18, 18, 6, 3, 4, 9, 9, 9]\n",
    "\n",
    "consecutive_count = 3\n",
    "\n",
    "current_count = 1\n",
    "current_number = None\n",
    "consecutive_numbers = []\n",
    "\n",
    "for num in numbers_list:\n",
    "    if num == current_number:\n",
    "        current_count += 1\n",
    "    else:\n",
    "        current_count = 1\n",
    "        current_number = num\n",
    "    \n",
    "    if current_count == consecutive_count:\n",
    "        consecutive_numbers.append(num)\n",
    "\n",
    "print(numbers_list)\n",
    "print(f\"Three Consecutive common numbers: {', '.join(map(str, consecutive_numbers))}\")\n"
   ]
  },
  {
   "cell_type": "code",
   "execution_count": 29,
   "id": "339c4fcd",
   "metadata": {},
   "outputs": [
    {
     "name": "stdout",
     "output_type": "stream",
     "text": [
      "[10, 20, 30, 20, 30, 400]\n",
      "Strongest Neighbours: [20, 30, 20, 30, 400, 30]\n"
     ]
    }
   ],
   "source": [
    "##36. Write a Python program to find the Strongest Neighbour \n",
    "##Sample Output [10,20,30,20,30,400] 20 30 30 30 400\n",
    "\n",
    "numbers_list = [10, 20, 30, 20, 30, 400]\n",
    "\n",
    "strongest_neighbors = []\n",
    "\n",
    "for i in range(len(numbers_list)):\n",
    "    \n",
    "    if i == 0:\n",
    "        strongest_neighbors.append(numbers_list[i + 1])\n",
    "  \n",
    "    elif i == len(numbers_list) - 1:\n",
    "        strongest_neighbors.append(numbers_list[i - 1])\n",
    "    else:\n",
    "        strongest_neighbors.append(max(numbers_list[i - 1], numbers_list[i + 1]))\n",
    "\n",
    "\n",
    "print(numbers_list)\n",
    "print(\"Strongest Neighbours:\", strongest_neighbors)\n"
   ]
  },
  {
   "cell_type": "code",
   "execution_count": 30,
   "id": "9e0ed522",
   "metadata": {},
   "outputs": [
    {
     "name": "stdout",
     "output_type": "stream",
     "text": [
      "[1, 2, 3]\n",
      "1 1 1\n",
      "1 1 2\n",
      "1 1 3\n",
      "1 2 1\n",
      "1 2 2\n",
      "1 2 3\n",
      "1 3 1\n",
      "1 3 2\n",
      "1 3 3\n",
      "2 1 1\n",
      "2 1 2\n",
      "2 1 3\n",
      "2 2 1\n",
      "2 2 2\n",
      "2 2 3\n",
      "2 3 1\n",
      "2 3 2\n",
      "2 3 3\n",
      "3 1 1\n",
      "3 1 2\n",
      "3 1 3\n",
      "3 2 1\n",
      "3 2 2\n",
      "3 2 3\n",
      "3 3 1\n",
      "3 3 2\n",
      "3 3 3\n"
     ]
    }
   ],
   "source": [
    "###37. Write a Python Program to print all Possible Combinations from the three Digits \n",
    "##Sample Output [1, 2, 3] 1 2 3 1 3 2 2 1 3 2 3 1 3 1 2 3 2 1\n",
    "\n",
    "\n",
    "from itertools import product\n",
    "\n",
    "digits = [1, 2, 3]\n",
    "\n",
    "combinations = list(product(digits, repeat=len(digits)))\n",
    "\n",
    "\n",
    "print(digits)\n",
    "for combination in combinations:\n",
    "    print(*combination)\n"
   ]
  },
  {
   "cell_type": "code",
   "execution_count": 36,
   "id": "886548bb",
   "metadata": {},
   "outputs": [
    {
     "name": "stdout",
     "output_type": "stream",
     "text": [
      "[['Tutor Joes'], ['Software', 'Computer'], ['Solution', 'Education']]\n",
      "[['Tutor Joes', 'Software', 'Solution'], ['Tutor Joes', 'Software', 'Education'], ['Tutor Joes', 'Computer', 'Solution'], ['Tutor Joes', 'Computer', 'Education']]\n"
     ]
    }
   ],
   "source": [
    "####38. Write a Python program to find all the Combinations in the list with the given condition \n",
    "###Sample Output ['Tutor Joes', ['Software', 'Computer'], ['Solution', 'Education']] \n",
    "##[ ['Tutor Joes', 'Software', 'Solution'], ['Tutor Joes', 'Computer', 'Education'] ]\n",
    "\n",
    "from itertools import product\n",
    "\n",
    "\n",
    "my_list = [['Tutor Joes'], ['Software', 'Computer'], ['Solution', 'Education']]\n",
    "\n",
    "\n",
    "combinations = [\n",
    "    [my_list[0][0], sublist1, sublist2]\n",
    "    for sublist1, sublist2 in product(my_list[1], my_list[2])\n",
    "]\n",
    "\n",
    "\n",
    "print(my_list)\n",
    "print(combinations)\n"
   ]
  },
  {
   "cell_type": "code",
   "execution_count": 37,
   "id": "0d32e9ea",
   "metadata": {
    "collapsed": true
   },
   "outputs": [
    {
     "name": "stdout",
     "output_type": "stream",
     "text": [
      "['A', 'B', 'C']\n",
      "[1, 2, 3]\n",
      "[(('A', 1), ('A', 2), ('A', 3)), (('A', 1), ('A', 2), ('B', 1)), (('A', 1), ('A', 2), ('B', 2)), (('A', 1), ('A', 2), ('B', 3)), (('A', 1), ('A', 2), ('C', 1)), (('A', 1), ('A', 2), ('C', 2)), (('A', 1), ('A', 2), ('C', 3)), (('A', 1), ('A', 3), ('A', 2)), (('A', 1), ('A', 3), ('B', 1)), (('A', 1), ('A', 3), ('B', 2)), (('A', 1), ('A', 3), ('B', 3)), (('A', 1), ('A', 3), ('C', 1)), (('A', 1), ('A', 3), ('C', 2)), (('A', 1), ('A', 3), ('C', 3)), (('A', 1), ('B', 1), ('A', 2)), (('A', 1), ('B', 1), ('A', 3)), (('A', 1), ('B', 1), ('B', 2)), (('A', 1), ('B', 1), ('B', 3)), (('A', 1), ('B', 1), ('C', 1)), (('A', 1), ('B', 1), ('C', 2)), (('A', 1), ('B', 1), ('C', 3)), (('A', 1), ('B', 2), ('A', 2)), (('A', 1), ('B', 2), ('A', 3)), (('A', 1), ('B', 2), ('B', 1)), (('A', 1), ('B', 2), ('B', 3)), (('A', 1), ('B', 2), ('C', 1)), (('A', 1), ('B', 2), ('C', 2)), (('A', 1), ('B', 2), ('C', 3)), (('A', 1), ('B', 3), ('A', 2)), (('A', 1), ('B', 3), ('A', 3)), (('A', 1), ('B', 3), ('B', 1)), (('A', 1), ('B', 3), ('B', 2)), (('A', 1), ('B', 3), ('C', 1)), (('A', 1), ('B', 3), ('C', 2)), (('A', 1), ('B', 3), ('C', 3)), (('A', 1), ('C', 1), ('A', 2)), (('A', 1), ('C', 1), ('A', 3)), (('A', 1), ('C', 1), ('B', 1)), (('A', 1), ('C', 1), ('B', 2)), (('A', 1), ('C', 1), ('B', 3)), (('A', 1), ('C', 1), ('C', 2)), (('A', 1), ('C', 1), ('C', 3)), (('A', 1), ('C', 2), ('A', 2)), (('A', 1), ('C', 2), ('A', 3)), (('A', 1), ('C', 2), ('B', 1)), (('A', 1), ('C', 2), ('B', 2)), (('A', 1), ('C', 2), ('B', 3)), (('A', 1), ('C', 2), ('C', 1)), (('A', 1), ('C', 2), ('C', 3)), (('A', 1), ('C', 3), ('A', 2)), (('A', 1), ('C', 3), ('A', 3)), (('A', 1), ('C', 3), ('B', 1)), (('A', 1), ('C', 3), ('B', 2)), (('A', 1), ('C', 3), ('B', 3)), (('A', 1), ('C', 3), ('C', 1)), (('A', 1), ('C', 3), ('C', 2)), (('A', 2), ('A', 1), ('A', 3)), (('A', 2), ('A', 1), ('B', 1)), (('A', 2), ('A', 1), ('B', 2)), (('A', 2), ('A', 1), ('B', 3)), (('A', 2), ('A', 1), ('C', 1)), (('A', 2), ('A', 1), ('C', 2)), (('A', 2), ('A', 1), ('C', 3)), (('A', 2), ('A', 3), ('A', 1)), (('A', 2), ('A', 3), ('B', 1)), (('A', 2), ('A', 3), ('B', 2)), (('A', 2), ('A', 3), ('B', 3)), (('A', 2), ('A', 3), ('C', 1)), (('A', 2), ('A', 3), ('C', 2)), (('A', 2), ('A', 3), ('C', 3)), (('A', 2), ('B', 1), ('A', 1)), (('A', 2), ('B', 1), ('A', 3)), (('A', 2), ('B', 1), ('B', 2)), (('A', 2), ('B', 1), ('B', 3)), (('A', 2), ('B', 1), ('C', 1)), (('A', 2), ('B', 1), ('C', 2)), (('A', 2), ('B', 1), ('C', 3)), (('A', 2), ('B', 2), ('A', 1)), (('A', 2), ('B', 2), ('A', 3)), (('A', 2), ('B', 2), ('B', 1)), (('A', 2), ('B', 2), ('B', 3)), (('A', 2), ('B', 2), ('C', 1)), (('A', 2), ('B', 2), ('C', 2)), (('A', 2), ('B', 2), ('C', 3)), (('A', 2), ('B', 3), ('A', 1)), (('A', 2), ('B', 3), ('A', 3)), (('A', 2), ('B', 3), ('B', 1)), (('A', 2), ('B', 3), ('B', 2)), (('A', 2), ('B', 3), ('C', 1)), (('A', 2), ('B', 3), ('C', 2)), (('A', 2), ('B', 3), ('C', 3)), (('A', 2), ('C', 1), ('A', 1)), (('A', 2), ('C', 1), ('A', 3)), (('A', 2), ('C', 1), ('B', 1)), (('A', 2), ('C', 1), ('B', 2)), (('A', 2), ('C', 1), ('B', 3)), (('A', 2), ('C', 1), ('C', 2)), (('A', 2), ('C', 1), ('C', 3)), (('A', 2), ('C', 2), ('A', 1)), (('A', 2), ('C', 2), ('A', 3)), (('A', 2), ('C', 2), ('B', 1)), (('A', 2), ('C', 2), ('B', 2)), (('A', 2), ('C', 2), ('B', 3)), (('A', 2), ('C', 2), ('C', 1)), (('A', 2), ('C', 2), ('C', 3)), (('A', 2), ('C', 3), ('A', 1)), (('A', 2), ('C', 3), ('A', 3)), (('A', 2), ('C', 3), ('B', 1)), (('A', 2), ('C', 3), ('B', 2)), (('A', 2), ('C', 3), ('B', 3)), (('A', 2), ('C', 3), ('C', 1)), (('A', 2), ('C', 3), ('C', 2)), (('A', 3), ('A', 1), ('A', 2)), (('A', 3), ('A', 1), ('B', 1)), (('A', 3), ('A', 1), ('B', 2)), (('A', 3), ('A', 1), ('B', 3)), (('A', 3), ('A', 1), ('C', 1)), (('A', 3), ('A', 1), ('C', 2)), (('A', 3), ('A', 1), ('C', 3)), (('A', 3), ('A', 2), ('A', 1)), (('A', 3), ('A', 2), ('B', 1)), (('A', 3), ('A', 2), ('B', 2)), (('A', 3), ('A', 2), ('B', 3)), (('A', 3), ('A', 2), ('C', 1)), (('A', 3), ('A', 2), ('C', 2)), (('A', 3), ('A', 2), ('C', 3)), (('A', 3), ('B', 1), ('A', 1)), (('A', 3), ('B', 1), ('A', 2)), (('A', 3), ('B', 1), ('B', 2)), (('A', 3), ('B', 1), ('B', 3)), (('A', 3), ('B', 1), ('C', 1)), (('A', 3), ('B', 1), ('C', 2)), (('A', 3), ('B', 1), ('C', 3)), (('A', 3), ('B', 2), ('A', 1)), (('A', 3), ('B', 2), ('A', 2)), (('A', 3), ('B', 2), ('B', 1)), (('A', 3), ('B', 2), ('B', 3)), (('A', 3), ('B', 2), ('C', 1)), (('A', 3), ('B', 2), ('C', 2)), (('A', 3), ('B', 2), ('C', 3)), (('A', 3), ('B', 3), ('A', 1)), (('A', 3), ('B', 3), ('A', 2)), (('A', 3), ('B', 3), ('B', 1)), (('A', 3), ('B', 3), ('B', 2)), (('A', 3), ('B', 3), ('C', 1)), (('A', 3), ('B', 3), ('C', 2)), (('A', 3), ('B', 3), ('C', 3)), (('A', 3), ('C', 1), ('A', 1)), (('A', 3), ('C', 1), ('A', 2)), (('A', 3), ('C', 1), ('B', 1)), (('A', 3), ('C', 1), ('B', 2)), (('A', 3), ('C', 1), ('B', 3)), (('A', 3), ('C', 1), ('C', 2)), (('A', 3), ('C', 1), ('C', 3)), (('A', 3), ('C', 2), ('A', 1)), (('A', 3), ('C', 2), ('A', 2)), (('A', 3), ('C', 2), ('B', 1)), (('A', 3), ('C', 2), ('B', 2)), (('A', 3), ('C', 2), ('B', 3)), (('A', 3), ('C', 2), ('C', 1)), (('A', 3), ('C', 2), ('C', 3)), (('A', 3), ('C', 3), ('A', 1)), (('A', 3), ('C', 3), ('A', 2)), (('A', 3), ('C', 3), ('B', 1)), (('A', 3), ('C', 3), ('B', 2)), (('A', 3), ('C', 3), ('B', 3)), (('A', 3), ('C', 3), ('C', 1)), (('A', 3), ('C', 3), ('C', 2)), (('B', 1), ('A', 1), ('A', 2)), (('B', 1), ('A', 1), ('A', 3)), (('B', 1), ('A', 1), ('B', 2)), (('B', 1), ('A', 1), ('B', 3)), (('B', 1), ('A', 1), ('C', 1)), (('B', 1), ('A', 1), ('C', 2)), (('B', 1), ('A', 1), ('C', 3)), (('B', 1), ('A', 2), ('A', 1)), (('B', 1), ('A', 2), ('A', 3)), (('B', 1), ('A', 2), ('B', 2)), (('B', 1), ('A', 2), ('B', 3)), (('B', 1), ('A', 2), ('C', 1)), (('B', 1), ('A', 2), ('C', 2)), (('B', 1), ('A', 2), ('C', 3)), (('B', 1), ('A', 3), ('A', 1)), (('B', 1), ('A', 3), ('A', 2)), (('B', 1), ('A', 3), ('B', 2)), (('B', 1), ('A', 3), ('B', 3)), (('B', 1), ('A', 3), ('C', 1)), (('B', 1), ('A', 3), ('C', 2)), (('B', 1), ('A', 3), ('C', 3)), (('B', 1), ('B', 2), ('A', 1)), (('B', 1), ('B', 2), ('A', 2)), (('B', 1), ('B', 2), ('A', 3)), (('B', 1), ('B', 2), ('B', 3)), (('B', 1), ('B', 2), ('C', 1)), (('B', 1), ('B', 2), ('C', 2)), (('B', 1), ('B', 2), ('C', 3)), (('B', 1), ('B', 3), ('A', 1)), (('B', 1), ('B', 3), ('A', 2)), (('B', 1), ('B', 3), ('A', 3)), (('B', 1), ('B', 3), ('B', 2)), (('B', 1), ('B', 3), ('C', 1)), (('B', 1), ('B', 3), ('C', 2)), (('B', 1), ('B', 3), ('C', 3)), (('B', 1), ('C', 1), ('A', 1)), (('B', 1), ('C', 1), ('A', 2)), (('B', 1), ('C', 1), ('A', 3)), (('B', 1), ('C', 1), ('B', 2)), (('B', 1), ('C', 1), ('B', 3)), (('B', 1), ('C', 1), ('C', 2)), (('B', 1), ('C', 1), ('C', 3)), (('B', 1), ('C', 2), ('A', 1)), (('B', 1), ('C', 2), ('A', 2)), (('B', 1), ('C', 2), ('A', 3)), (('B', 1), ('C', 2), ('B', 2)), (('B', 1), ('C', 2), ('B', 3)), (('B', 1), ('C', 2), ('C', 1)), (('B', 1), ('C', 2), ('C', 3)), (('B', 1), ('C', 3), ('A', 1)), (('B', 1), ('C', 3), ('A', 2)), (('B', 1), ('C', 3), ('A', 3)), (('B', 1), ('C', 3), ('B', 2)), (('B', 1), ('C', 3), ('B', 3)), (('B', 1), ('C', 3), ('C', 1)), (('B', 1), ('C', 3), ('C', 2)), (('B', 2), ('A', 1), ('A', 2)), (('B', 2), ('A', 1), ('A', 3)), (('B', 2), ('A', 1), ('B', 1)), (('B', 2), ('A', 1), ('B', 3)), (('B', 2), ('A', 1), ('C', 1)), (('B', 2), ('A', 1), ('C', 2)), (('B', 2), ('A', 1), ('C', 3)), (('B', 2), ('A', 2), ('A', 1)), (('B', 2), ('A', 2), ('A', 3)), (('B', 2), ('A', 2), ('B', 1)), (('B', 2), ('A', 2), ('B', 3)), (('B', 2), ('A', 2), ('C', 1)), (('B', 2), ('A', 2), ('C', 2)), (('B', 2), ('A', 2), ('C', 3)), (('B', 2), ('A', 3), ('A', 1)), (('B', 2), ('A', 3), ('A', 2)), (('B', 2), ('A', 3), ('B', 1)), (('B', 2), ('A', 3), ('B', 3)), (('B', 2), ('A', 3), ('C', 1)), (('B', 2), ('A', 3), ('C', 2)), (('B', 2), ('A', 3), ('C', 3)), (('B', 2), ('B', 1), ('A', 1)), (('B', 2), ('B', 1), ('A', 2)), (('B', 2), ('B', 1), ('A', 3)), (('B', 2), ('B', 1), ('B', 3)), (('B', 2), ('B', 1), ('C', 1)), (('B', 2), ('B', 1), ('C', 2)), (('B', 2), ('B', 1), ('C', 3)), (('B', 2), ('B', 3), ('A', 1)), (('B', 2), ('B', 3), ('A', 2)), (('B', 2), ('B', 3), ('A', 3)), (('B', 2), ('B', 3), ('B', 1)), (('B', 2), ('B', 3), ('C', 1)), (('B', 2), ('B', 3), ('C', 2)), (('B', 2), ('B', 3), ('C', 3)), (('B', 2), ('C', 1), ('A', 1)), (('B', 2), ('C', 1), ('A', 2)), (('B', 2), ('C', 1), ('A', 3)), (('B', 2), ('C', 1), ('B', 1)), (('B', 2), ('C', 1), ('B', 3)), (('B', 2), ('C', 1), ('C', 2)), (('B', 2), ('C', 1), ('C', 3)), (('B', 2), ('C', 2), ('A', 1)), (('B', 2), ('C', 2), ('A', 2)), (('B', 2), ('C', 2), ('A', 3)), (('B', 2), ('C', 2), ('B', 1)), (('B', 2), ('C', 2), ('B', 3)), (('B', 2), ('C', 2), ('C', 1)), (('B', 2), ('C', 2), ('C', 3)), (('B', 2), ('C', 3), ('A', 1)), (('B', 2), ('C', 3), ('A', 2)), (('B', 2), ('C', 3), ('A', 3)), (('B', 2), ('C', 3), ('B', 1)), (('B', 2), ('C', 3), ('B', 3)), (('B', 2), ('C', 3), ('C', 1)), (('B', 2), ('C', 3), ('C', 2)), (('B', 3), ('A', 1), ('A', 2)), (('B', 3), ('A', 1), ('A', 3)), (('B', 3), ('A', 1), ('B', 1)), (('B', 3), ('A', 1), ('B', 2)), (('B', 3), ('A', 1), ('C', 1)), (('B', 3), ('A', 1), ('C', 2)), (('B', 3), ('A', 1), ('C', 3)), (('B', 3), ('A', 2), ('A', 1)), (('B', 3), ('A', 2), ('A', 3)), (('B', 3), ('A', 2), ('B', 1)), (('B', 3), ('A', 2), ('B', 2)), (('B', 3), ('A', 2), ('C', 1)), (('B', 3), ('A', 2), ('C', 2)), (('B', 3), ('A', 2), ('C', 3)), (('B', 3), ('A', 3), ('A', 1)), (('B', 3), ('A', 3), ('A', 2)), (('B', 3), ('A', 3), ('B', 1)), (('B', 3), ('A', 3), ('B', 2)), (('B', 3), ('A', 3), ('C', 1)), (('B', 3), ('A', 3), ('C', 2)), (('B', 3), ('A', 3), ('C', 3)), (('B', 3), ('B', 1), ('A', 1)), (('B', 3), ('B', 1), ('A', 2)), (('B', 3), ('B', 1), ('A', 3)), (('B', 3), ('B', 1), ('B', 2)), (('B', 3), ('B', 1), ('C', 1)), (('B', 3), ('B', 1), ('C', 2)), (('B', 3), ('B', 1), ('C', 3)), (('B', 3), ('B', 2), ('A', 1)), (('B', 3), ('B', 2), ('A', 2)), (('B', 3), ('B', 2), ('A', 3)), (('B', 3), ('B', 2), ('B', 1)), (('B', 3), ('B', 2), ('C', 1)), (('B', 3), ('B', 2), ('C', 2)), (('B', 3), ('B', 2), ('C', 3)), (('B', 3), ('C', 1), ('A', 1)), (('B', 3), ('C', 1), ('A', 2)), (('B', 3), ('C', 1), ('A', 3)), (('B', 3), ('C', 1), ('B', 1)), (('B', 3), ('C', 1), ('B', 2)), (('B', 3), ('C', 1), ('C', 2)), (('B', 3), ('C', 1), ('C', 3)), (('B', 3), ('C', 2), ('A', 1)), (('B', 3), ('C', 2), ('A', 2)), (('B', 3), ('C', 2), ('A', 3)), (('B', 3), ('C', 2), ('B', 1)), (('B', 3), ('C', 2), ('B', 2)), (('B', 3), ('C', 2), ('C', 1)), (('B', 3), ('C', 2), ('C', 3)), (('B', 3), ('C', 3), ('A', 1)), (('B', 3), ('C', 3), ('A', 2)), (('B', 3), ('C', 3), ('A', 3)), (('B', 3), ('C', 3), ('B', 1)), (('B', 3), ('C', 3), ('B', 2)), (('B', 3), ('C', 3), ('C', 1)), (('B', 3), ('C', 3), ('C', 2)), (('C', 1), ('A', 1), ('A', 2)), (('C', 1), ('A', 1), ('A', 3)), (('C', 1), ('A', 1), ('B', 1)), (('C', 1), ('A', 1), ('B', 2)), (('C', 1), ('A', 1), ('B', 3)), (('C', 1), ('A', 1), ('C', 2)), (('C', 1), ('A', 1), ('C', 3)), (('C', 1), ('A', 2), ('A', 1)), (('C', 1), ('A', 2), ('A', 3)), (('C', 1), ('A', 2), ('B', 1)), (('C', 1), ('A', 2), ('B', 2)), (('C', 1), ('A', 2), ('B', 3)), (('C', 1), ('A', 2), ('C', 2)), (('C', 1), ('A', 2), ('C', 3)), (('C', 1), ('A', 3), ('A', 1)), (('C', 1), ('A', 3), ('A', 2)), (('C', 1), ('A', 3), ('B', 1)), (('C', 1), ('A', 3), ('B', 2)), (('C', 1), ('A', 3), ('B', 3)), (('C', 1), ('A', 3), ('C', 2)), (('C', 1), ('A', 3), ('C', 3)), (('C', 1), ('B', 1), ('A', 1)), (('C', 1), ('B', 1), ('A', 2)), (('C', 1), ('B', 1), ('A', 3)), (('C', 1), ('B', 1), ('B', 2)), (('C', 1), ('B', 1), ('B', 3)), (('C', 1), ('B', 1), ('C', 2)), (('C', 1), ('B', 1), ('C', 3)), (('C', 1), ('B', 2), ('A', 1)), (('C', 1), ('B', 2), ('A', 2)), (('C', 1), ('B', 2), ('A', 3)), (('C', 1), ('B', 2), ('B', 1)), (('C', 1), ('B', 2), ('B', 3)), (('C', 1), ('B', 2), ('C', 2)), (('C', 1), ('B', 2), ('C', 3)), (('C', 1), ('B', 3), ('A', 1)), (('C', 1), ('B', 3), ('A', 2)), (('C', 1), ('B', 3), ('A', 3)), (('C', 1), ('B', 3), ('B', 1)), (('C', 1), ('B', 3), ('B', 2)), (('C', 1), ('B', 3), ('C', 2)), (('C', 1), ('B', 3), ('C', 3)), (('C', 1), ('C', 2), ('A', 1)), (('C', 1), ('C', 2), ('A', 2)), (('C', 1), ('C', 2), ('A', 3)), (('C', 1), ('C', 2), ('B', 1)), (('C', 1), ('C', 2), ('B', 2)), (('C', 1), ('C', 2), ('B', 3)), (('C', 1), ('C', 2), ('C', 3)), (('C', 1), ('C', 3), ('A', 1)), (('C', 1), ('C', 3), ('A', 2)), (('C', 1), ('C', 3), ('A', 3)), (('C', 1), ('C', 3), ('B', 1)), (('C', 1), ('C', 3), ('B', 2)), (('C', 1), ('C', 3), ('B', 3)), (('C', 1), ('C', 3), ('C', 2)), (('C', 2), ('A', 1), ('A', 2)), (('C', 2), ('A', 1), ('A', 3)), (('C', 2), ('A', 1), ('B', 1)), (('C', 2), ('A', 1), ('B', 2)), (('C', 2), ('A', 1), ('B', 3)), (('C', 2), ('A', 1), ('C', 1)), (('C', 2), ('A', 1), ('C', 3)), (('C', 2), ('A', 2), ('A', 1)), (('C', 2), ('A', 2), ('A', 3)), (('C', 2), ('A', 2), ('B', 1)), (('C', 2), ('A', 2), ('B', 2)), (('C', 2), ('A', 2), ('B', 3)), (('C', 2), ('A', 2), ('C', 1)), (('C', 2), ('A', 2), ('C', 3)), (('C', 2), ('A', 3), ('A', 1)), (('C', 2), ('A', 3), ('A', 2)), (('C', 2), ('A', 3), ('B', 1)), (('C', 2), ('A', 3), ('B', 2)), (('C', 2), ('A', 3), ('B', 3)), (('C', 2), ('A', 3), ('C', 1)), (('C', 2), ('A', 3), ('C', 3)), (('C', 2), ('B', 1), ('A', 1)), (('C', 2), ('B', 1), ('A', 2)), (('C', 2), ('B', 1), ('A', 3)), (('C', 2), ('B', 1), ('B', 2)), (('C', 2), ('B', 1), ('B', 3)), (('C', 2), ('B', 1), ('C', 1)), (('C', 2), ('B', 1), ('C', 3)), (('C', 2), ('B', 2), ('A', 1)), (('C', 2), ('B', 2), ('A', 2)), (('C', 2), ('B', 2), ('A', 3)), (('C', 2), ('B', 2), ('B', 1)), (('C', 2), ('B', 2), ('B', 3)), (('C', 2), ('B', 2), ('C', 1)), (('C', 2), ('B', 2), ('C', 3)), (('C', 2), ('B', 3), ('A', 1)), (('C', 2), ('B', 3), ('A', 2)), (('C', 2), ('B', 3), ('A', 3)), (('C', 2), ('B', 3), ('B', 1)), (('C', 2), ('B', 3), ('B', 2)), (('C', 2), ('B', 3), ('C', 1)), (('C', 2), ('B', 3), ('C', 3)), (('C', 2), ('C', 1), ('A', 1)), (('C', 2), ('C', 1), ('A', 2)), (('C', 2), ('C', 1), ('A', 3)), (('C', 2), ('C', 1), ('B', 1)), (('C', 2), ('C', 1), ('B', 2)), (('C', 2), ('C', 1), ('B', 3)), (('C', 2), ('C', 1), ('C', 3)), (('C', 2), ('C', 3), ('A', 1)), (('C', 2), ('C', 3), ('A', 2)), (('C', 2), ('C', 3), ('A', 3)), (('C', 2), ('C', 3), ('B', 1)), (('C', 2), ('C', 3), ('B', 2)), (('C', 2), ('C', 3), ('B', 3)), (('C', 2), ('C', 3), ('C', 1)), (('C', 3), ('A', 1), ('A', 2)), (('C', 3), ('A', 1), ('A', 3)), (('C', 3), ('A', 1), ('B', 1)), (('C', 3), ('A', 1), ('B', 2)), (('C', 3), ('A', 1), ('B', 3)), (('C', 3), ('A', 1), ('C', 1)), (('C', 3), ('A', 1), ('C', 2)), (('C', 3), ('A', 2), ('A', 1)), (('C', 3), ('A', 2), ('A', 3)), (('C', 3), ('A', 2), ('B', 1)), (('C', 3), ('A', 2), ('B', 2)), (('C', 3), ('A', 2), ('B', 3)), (('C', 3), ('A', 2), ('C', 1)), (('C', 3), ('A', 2), ('C', 2)), (('C', 3), ('A', 3), ('A', 1)), (('C', 3), ('A', 3), ('A', 2)), (('C', 3), ('A', 3), ('B', 1)), (('C', 3), ('A', 3), ('B', 2)), (('C', 3), ('A', 3), ('B', 3)), (('C', 3), ('A', 3), ('C', 1)), (('C', 3), ('A', 3), ('C', 2)), (('C', 3), ('B', 1), ('A', 1)), (('C', 3), ('B', 1), ('A', 2)), (('C', 3), ('B', 1), ('A', 3)), (('C', 3), ('B', 1), ('B', 2)), (('C', 3), ('B', 1), ('B', 3)), (('C', 3), ('B', 1), ('C', 1)), (('C', 3), ('B', 1), ('C', 2)), (('C', 3), ('B', 2), ('A', 1)), (('C', 3), ('B', 2), ('A', 2)), (('C', 3), ('B', 2), ('A', 3)), (('C', 3), ('B', 2), ('B', 1)), (('C', 3), ('B', 2), ('B', 3)), (('C', 3), ('B', 2), ('C', 1)), (('C', 3), ('B', 2), ('C', 2)), (('C', 3), ('B', 3), ('A', 1)), (('C', 3), ('B', 3), ('A', 2)), (('C', 3), ('B', 3), ('A', 3)), (('C', 3), ('B', 3), ('B', 1)), (('C', 3), ('B', 3), ('B', 2)), (('C', 3), ('B', 3), ('C', 1)), (('C', 3), ('B', 3), ('C', 2)), (('C', 3), ('C', 1), ('A', 1)), (('C', 3), ('C', 1), ('A', 2)), (('C', 3), ('C', 1), ('A', 3)), (('C', 3), ('C', 1), ('B', 1)), (('C', 3), ('C', 1), ('B', 2)), (('C', 3), ('C', 1), ('B', 3)), (('C', 3), ('C', 1), ('C', 2)), (('C', 3), ('C', 2), ('A', 1)), (('C', 3), ('C', 2), ('A', 2)), (('C', 3), ('C', 2), ('A', 3)), (('C', 3), ('C', 2), ('B', 1)), (('C', 3), ('C', 2), ('B', 2)), (('C', 3), ('C', 2), ('B', 3)), (('C', 3), ('C', 2), ('C', 1))]\n"
     ]
    }
   ],
   "source": [
    "###39. Write a Python program to get all unique combinations of two Lists \n",
    "##Sample Output ['A','B','C'] [1,2,3] [ [('A', 1), ('B', 2), ('C', 3)], [('A', 1), ('C', 2), ('B', 3)],\n",
    "#[('B', 1), ('A', 2), ('C', 3)], [('B', 1), ('C', 2), ('A', 3)], [('C', 1), ('A', 2),\n",
    "#('B', 3)], [('C', 1), ('B', 2), ('A', 3)] ]\n",
    "\n",
    "from itertools import permutations\n",
    "\n",
    "\n",
    "list1 = ['A', 'B', 'C']\n",
    "list2 = [1, 2, 3]\n",
    "\n",
    "\n",
    "unique_permutations = list(permutations(list(product(list1, list2)), len(list1)))\n",
    "\n",
    "\n",
    "print(list1)\n",
    "print(list2)\n",
    "print(unique_permutations)\n"
   ]
  },
  {
   "cell_type": "code",
   "execution_count": 38,
   "id": "884b4e49",
   "metadata": {},
   "outputs": [
    {
     "name": "stdout",
     "output_type": "stream",
     "text": [
      "[1, 3, 4, 6, 5, 1]\n",
      "[3, 4, 6, 5]\n"
     ]
    }
   ],
   "source": [
    "###40. Write a Python program to remove all the occurrences of an element from a list \n",
    "###Sample Output [1, 3, 4, 6, 5, 1] [3, 4, 6, 5]\n",
    "\n",
    "\n",
    "my_list = [1, 3, 4, 6, 5, 1]\n",
    "\n",
    "element_to_remove = 1\n",
    "\n",
    "\n",
    "new_list = [x for x in my_list if x != element_to_remove]\n",
    "\n",
    "\n",
    "print(my_list)\n",
    "print(new_list)\n"
   ]
  },
  {
   "cell_type": "code",
   "execution_count": 1,
   "id": "1718cf2b",
   "metadata": {},
   "outputs": [
    {
     "name": "stdout",
     "output_type": "stream",
     "text": [
      "[('A', 'B', 'C', 'D'), ('B', 'C', 'C', 'I'), ('H', 'D', 'B', 'C'), ('C', 'C', 'G', 'F')]\n",
      "[('A', 'B', 'C', 'D'), ('B', 'C', 'I'), ('H', 'D', 'B', 'C'), ('C', 'G', 'F')]\n"
     ]
    }
   ],
   "source": [
    "####41. Write a Python Program to Remove Consecutive K element records\n",
    "##Sample Output [ ('A', 'B', 'C', 'D'), ('B', 'C', 'C', 'I'), ('H', 'D', 'B', 'C'), ('C', 'C', 'G', 'F') ]\n",
    "##[ ('A', 'B', 'C', 'D'), ('H', 'D', 'B', 'C') ]\n",
    "\n",
    "\n",
    "original_list = [('A', 'B', 'C', 'D'), ('B', 'C', 'C', 'I'), ('H', 'D', 'B', 'C'), ('C', 'C', 'G', 'F')]\n",
    "\n",
    "\n",
    "element_to_remove = 'C'\n",
    "\n",
    "new_list = []\n",
    "for tpl in original_list:\n",
    "    temp_list = [tpl[0]]  \n",
    "    for i in range(1, len(tpl)):\n",
    "        if tpl[i] != element_to_remove or tpl[i] != tpl[i - 1]:\n",
    "            temp_list.append(tpl[i])\n",
    "    new_list.append(tuple(temp_list))\n",
    "\n",
    "\n",
    "print(original_list)\n",
    "print(new_list)\n"
   ]
  },
  {
   "cell_type": "code",
   "execution_count": 2,
   "id": "d2bcaafa",
   "metadata": {},
   "outputs": [
    {
     "name": "stdout",
     "output_type": "stream",
     "text": [
      "['Tutor Joes', 'Computer', 'Education']\n",
      "[2, 1, 0, 1, 0, 2, 2, 0, 1, 0, 1, 2]\n",
      "['Education', 'Computer', 'Tutor Joes']\n"
     ]
    }
   ],
   "source": [
    "###42. Write a Python Program to Replace index elements with elements in Other List \n",
    "##Sample Output ['Tutor Joes', 'Computer', 'Education'] [2, 1, 0, 1, 0, 2, 2, 0, 1, 0, 1, 2] \n",
    "##['Education', 'Computer', 'Tutor Joes', 'Computer', 'Tutor Joes', 'Education', 'Education',\n",
    "##'Tutor Joes', 'Computer', 'Tutor Joes', 'Computer', 'Education']\n",
    "\n",
    "\n",
    "original_list = ['Tutor Joes', 'Computer', 'Education']\n",
    "\n",
    "\n",
    "indices_to_replace = [2, 1, 0, 1, 0, 2, 2, 0, 1, 0, 1, 2]\n",
    "\n",
    "\n",
    "replacement_list = ['Education', 'Computer', 'Tutor Joes']\n",
    "\n",
    "\n",
    "new_list = original_list.copy()\n",
    "for i, index in enumerate(indices_to_replace):\n",
    "    new_list[index] = replacement_list[i % len(replacement_list)]\n",
    "\n",
    "\n",
    "print(original_list)\n",
    "print(indices_to_replace)\n",
    "print(new_list)\n"
   ]
  },
  {
   "cell_type": "code",
   "execution_count": 3,
   "id": "d3e93ce4",
   "metadata": {},
   "outputs": [
    {
     "name": "stdout",
     "output_type": "stream",
     "text": [
      "[(4, 5, 6, 5, 4), (4, 5, 3), (5, 5, 2), (3, 4, 9)]\n",
      "K = 5, N = 2\n",
      "[(4, 5, 6, 5, 4), (5, 5, 2)]\n"
     ]
    }
   ],
   "source": [
    "###43. Write a Python Program to Retain records with N occurrences of K \n",
    "##Sample Output [ (4, 5, 6, 5, 4), (4, 5, 3), (5, 5, 2), (3, 4, 9) ] K = 5 N = 2 [ (4, 5, 6, 5, 4), (5, 5, 2) ]\n",
    "\n",
    "\n",
    "original_list = [(4, 5, 6, 5, 4), (4, 5, 3), (5, 5, 2), (3, 4, 9)]\n",
    "\n",
    "\n",
    "element_k = 5\n",
    "occurrences_n = 2\n",
    "\n",
    "\n",
    "filtered_list = [tpl for tpl in original_list if tpl.count(element_k) == occurrences_n]\n",
    "\n",
    "\n",
    "print(original_list)\n",
    "print(f\"K = {element_k}, N = {occurrences_n}\")\n",
    "print(filtered_list)\n"
   ]
  },
  {
   "cell_type": "code",
   "execution_count": 4,
   "id": "882e27cc",
   "metadata": {},
   "outputs": [
    {
     "name": "stdout",
     "output_type": "stream",
     "text": [
      "['Tutor', 'joes', 'Computer', 'Education']\n",
      "['Tutor', \"Joe's\", 'Computer', 'Education']\n"
     ]
    }
   ],
   "source": [
    "###44. Write a Python Program to Swap elements in String list \n",
    "##Sample Output ['Tutor', 'joes', 'Computer', 'Education'] ['Tutor', \"Joe's\", 'Software', 'Solutions']\n",
    "\n",
    "\n",
    "original_list = ['Tutor', 'joes', 'Computer', 'Education']\n",
    "\n",
    "\n",
    "swaps = {'joes': \"Joe's\"}\n",
    "\n",
    "\n",
    "swapped_list = [swaps.get(element, element) for element in original_list]\n",
    "\n",
    "\n",
    "print(original_list)\n",
    "print(swapped_list)\n"
   ]
  },
  {
   "cell_type": "code",
   "execution_count": 5,
   "id": "6068509b",
   "metadata": {},
   "outputs": [
    {
     "name": "stdout",
     "output_type": "stream",
     "text": [
      "Original list = ['Tutor', 'joes', 'Computer', 'Education']\n",
      "Reversed list = ['rotuT', 'seoj', 'retupmoC', 'noitacudE']\n",
      "Reversed list = ['Education', 'Computer', 'joes', 'Tutor']\n"
     ]
    }
   ],
   "source": [
    "###45. Write a Python program to reverse All Strings in String List\n",
    "###Sample Output Original list = ['Tutor', 'joes', 'Computer', 'Education'] \n",
    "###Reversed list = ['rotuT', 'seoj', 'retupmoC', 'noitacudE'] Reversed list = ['Education', 'Computer', 'joes', 'Tutor']\n",
    "\n",
    "\n",
    "\n",
    "original_list = ['Tutor', 'joes', 'Computer', 'Education']\n",
    "\n",
    "\n",
    "reversed_list = [string[::-1] for string in original_list]\n",
    "\n",
    "\n",
    "print(f\"Original list = {original_list}\")\n",
    "print(f\"Reversed list = {reversed_list}\")\n",
    "\n",
    "\n",
    "reversed_order_list = reversed(original_list)\n",
    "\n",
    "\n",
    "print(f\"Reversed list = {list(reversed_order_list)}\")\n",
    "\n"
   ]
  },
  {
   "cell_type": "code",
   "execution_count": 11,
   "id": "e0be8d0f",
   "metadata": {},
   "outputs": [
    {
     "name": "stdout",
     "output_type": "stream",
     "text": [
      "['Tutor', 'joes', 'Computer', 'Education']\n",
      "K = 20\n",
      "Index of character at the Kth position word: 26\n"
     ]
    }
   ],
   "source": [
    "###46. Write a Python program to find the character position of Kth word from a list of strings \n",
    "##Sample Output ['Tutor', 'joes', 'Computer', 'Education'] K = 20 Index of character at Kth position word: 3\n",
    "\n",
    "\n",
    "\n",
    "string_list = ['Tutor', 'joes', 'Computer', 'Education']\n",
    "\n",
    "k_value = 20\n",
    "\n",
    "char_position = 0\n",
    "current_word_index = 0\n",
    "\n",
    "\n",
    "for word in string_list:\n",
    "    char_position += len(word)\n",
    "   \n",
    "    if current_word_index == k_value - 1:\n",
    "        break\n",
    "    \n",
    " \n",
    "    current_word_index += 1\n",
    "\n",
    "\n",
    "print(string_list)\n",
    "print(f\"K = {k_value}\")\n",
    "print(f\"Index of character at the Kth position word: {char_position}\")\n"
   ]
  },
  {
   "cell_type": "code",
   "execution_count": 12,
   "id": "bef9115d",
   "metadata": {},
   "outputs": [
    {
     "name": "stdout",
     "output_type": "stream",
     "text": [
      "['TjC', 'TjCpp', 'TjPython', 'Java']\n",
      "Prefix = 'Tj'\n",
      "Strings count with matching frequency: 3\n"
     ]
    }
   ],
   "source": [
    "####47. Write a Python Program to Prefix frequency in string List \n",
    "###Sample Output ['TjC', 'TjCpp', 'TjPython', 'Java'] Prefix = 'Tj' Strings count with matching frequency : 3\n",
    "\n",
    "\n",
    "string_list = ['TjC', 'TjCpp', 'TjPython', 'Java']\n",
    "\n",
    "prefix = 'Tj'\n",
    "\n",
    "prefix_counts = {}\n",
    "\n",
    "for string in string_list:\n",
    "    current_prefix = string[:len(prefix)]\n",
    "    if current_prefix == prefix:\n",
    "        if current_prefix in prefix_counts:\n",
    "            prefix_counts[current_prefix] += 1\n",
    "        else:\n",
    "            prefix_counts[current_prefix] = 1\n",
    "\n",
    "matching_frequency_count = sum(count for count in prefix_counts.values() if count > 1)\n",
    "\n",
    "print(string_list)\n",
    "print(f\"Prefix = '{prefix}'\")\n",
    "print(f\"Strings count with matching frequency: {matching_frequency_count}\")\n"
   ]
  },
  {
   "cell_type": "code",
   "execution_count": 13,
   "id": "f9a2108b",
   "metadata": {},
   "outputs": [
    {
     "name": "stdout",
     "output_type": "stream",
     "text": [
      "['TjC', 'TjCpp', 'TjPython', 'Java', 'tj']\n",
      "Prefix = 'Tj'\n",
      "[['TjC'], ['TjCpp'], ['TjPython', 'Java', 'tj']]\n"
     ]
    }
   ],
   "source": [
    "####48. Write a Python Program to Split Strings on Prefix Occurrence \n",
    "##Sample Output ['TjC', 'TjCpp', 'TjPython', 'Java', 'tj'] Prefix = 'Tj' [ ['TjC'], ['TjCpp'], ['TjPython', 'Java', 'tj'] ]\n",
    "\n",
    "string_list = ['TjC', 'TjCpp', 'TjPython', 'Java', 'tj']\n",
    "\n",
    "prefix = 'Tj'\n",
    "\n",
    "split_result = []\n",
    "\n",
    "current_sublist = []\n",
    "\n",
    "for string in string_list:\n",
    "    if string.startswith(prefix):\n",
    "        if current_sublist:\n",
    "            split_result.append(current_sublist)\n",
    "            current_sublist = [string]\n",
    "        else:\n",
    "            current_sublist.append(string)\n",
    "    else:\n",
    "        current_sublist.append(string)\n",
    "\n",
    "split_result.append(current_sublist)\n",
    "\n",
    "\n",
    "print(string_list)\n",
    "print(f\"Prefix = '{prefix}'\")\n",
    "print(split_result)\n"
   ]
  },
  {
   "cell_type": "code",
   "execution_count": 14,
   "id": "52a6d36f",
   "metadata": {},
   "outputs": [
    {
     "name": "stdout",
     "output_type": "stream",
     "text": [
      "['P', 'Y', 'T', 'H', 'O', 'N']\n",
      "['@', '@', 'T', '@', '@', '@']\n"
     ]
    }
   ],
   "source": [
    "####49. Write a Python program to Replace all Characters of a List Except the given character\n",
    "##Sample Output ['P', 'Y', 'T', 'H', 'O', 'N'] ['@', '@', 'T', '@', '@', '@']\n",
    "\n",
    "char_list = ['P', 'Y', 'T', 'H', 'O', 'N']\n",
    "\n",
    "given_char = 'T'\n",
    "\n",
    "replacement_list = [given_char if char == given_char else '@' for char in char_list]\n",
    "\n",
    "print(char_list)\n",
    "print(replacement_list)\n"
   ]
  },
  {
   "cell_type": "code",
   "execution_count": 15,
   "id": "13157890",
   "metadata": {},
   "outputs": [
    {
     "name": "stdout",
     "output_type": "stream",
     "text": [
      "['TutorJoes', 'ComputerEducations']\n",
      "[' T u t o r  J o e s', ' C o m p u t e r  E d u c a t i o n s']\n"
     ]
    }
   ],
   "source": [
    "###50. Write a Python Program to Add Space between Potential Words \n",
    "##Sample Output ['TutorJoes', 'ComputerEducations'] [' Tutor Joes', ' Computer Educations']\n",
    "\n",
    "\n",
    "string_list = ['TutorJoes', 'ComputerEducations']\n",
    "\n",
    "with_spaces_list = [' '.join([char if char.islower() else ' ' + char for char in string]) for string in string_list]\n",
    "\n",
    "print(string_list)\n",
    "print(with_spaces_list)\n"
   ]
  },
  {
   "cell_type": "code",
   "execution_count": null,
   "id": "5aead136",
   "metadata": {},
   "outputs": [],
   "source": []
  }
 ],
 "metadata": {
  "kernelspec": {
   "display_name": "Python 3 (ipykernel)",
   "language": "python",
   "name": "python3"
  },
  "language_info": {
   "codemirror_mode": {
    "name": "ipython",
    "version": 3
   },
   "file_extension": ".py",
   "mimetype": "text/x-python",
   "name": "python",
   "nbconvert_exporter": "python",
   "pygments_lexer": "ipython3",
   "version": "3.11.5"
  }
 },
 "nbformat": 4,
 "nbformat_minor": 5
}
