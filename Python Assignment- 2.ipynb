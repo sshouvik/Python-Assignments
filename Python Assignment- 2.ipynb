{
 "cells": [
  {
   "cell_type": "markdown",
   "id": "2b2c1c99",
   "metadata": {},
   "source": [
    "# TASK - 1"
   ]
  },
  {
   "cell_type": "code",
   "execution_count": 1,
   "id": "b0734700",
   "metadata": {},
   "outputs": [
    {
     "name": "stdout",
     "output_type": "stream",
     "text": [
      "Enter Ramesh's basic salary: 15000\n",
      "Ramesh's Gross Salary: 24000.0\n"
     ]
    }
   ],
   "source": [
    "###1. Ramesh's basic salary is input through the keyboard. \n",
    "##His dearness allowance is 40% of basic salary, and house rent allowance is 20% of basic salary. \n",
    "##Write a program to calculate his gross salary.\n",
    "\n",
    "\n",
    "basic_salary = float(input(\"Enter Ramesh's basic salary: \"))\n",
    "\n",
    "dearness_allowance = 0.4 * basic_salary\n",
    "\n",
    "house_rent_allowance = 0.2 * basic_salary\n",
    "\n",
    "gross_salary = basic_salary + dearness_allowance + house_rent_allowance\n",
    "\n",
    "print(f\"Ramesh's Gross Salary: {gross_salary}\")\n"
   ]
  },
  {
   "cell_type": "code",
   "execution_count": 2,
   "id": "1f327be9",
   "metadata": {},
   "outputs": [
    {
     "name": "stdout",
     "output_type": "stream",
     "text": [
      "Enter the distance between two cities in kilometers: 55\n",
      "Distance in Meters: 55000.0 m\n",
      "Distance in Feet: 180446.2 ft\n",
      "Distance in Inches: 2165355.5 in\n",
      "Distance in Centimeters: 5500000.0 cm\n"
     ]
    }
   ],
   "source": [
    "###2. The distance between two cities (in km.) is input through the keyboard. \n",
    "##Write a program to convert and print this distance in meters, feet, inches and centimeters.\n",
    "\n",
    "distance_km = float(input(\"Enter the distance between two cities in kilometers: \"))\n",
    "\n",
    "meters_conversion = distance_km * 1000\n",
    "feet_conversion = distance_km * 3280.84  # 1 kilometer = 3280.84 feet\n",
    "inches_conversion = distance_km * 39370.1  # 1 kilometer = 39370.1 inches\n",
    "centimeters_conversion = distance_km * 100000  # 1 kilometer = 100000 centimeters\n",
    "\n",
    "print(f\"Distance in Meters: {meters_conversion} m\")\n",
    "print(f\"Distance in Feet: {feet_conversion} ft\")\n",
    "print(f\"Distance in Inches: {inches_conversion} in\")\n",
    "print(f\"Distance in Centimeters: {centimeters_conversion} cm\")\n"
   ]
  },
  {
   "cell_type": "code",
   "execution_count": 3,
   "id": "2f21f0d4",
   "metadata": {},
   "outputs": [
    {
     "name": "stdout",
     "output_type": "stream",
     "text": [
      "Enter marks obtained in Subject 1 (out of 100): 76\n",
      "Enter marks obtained in Subject 2 (out of 100): 82\n",
      "Enter marks obtained in Subject 3 (out of 100): 89\n",
      "Enter marks obtained in Subject 4 (out of 100): 65\n",
      "Enter marks obtained in Subject 5 (out of 100): 56\n",
      "Aggregate Marks: 368.0 out of 500\n",
      "Percentage Marks: 73.60%\n"
     ]
    }
   ],
   "source": [
    "###3. If the marks obtained by a student in five different subjects are input through the keyboard, \n",
    "##find out the aggregate marks and percentage marks obtained by the student.\n",
    "##Assume that the maximum marks that can be obtained by a student in each subject is 100.\n",
    "\n",
    "subject1 = float(input(\"Enter marks obtained in Subject 1 (out of 100): \"))\n",
    "subject2 = float(input(\"Enter marks obtained in Subject 2 (out of 100): \"))\n",
    "subject3 = float(input(\"Enter marks obtained in Subject 3 (out of 100): \"))\n",
    "subject4 = float(input(\"Enter marks obtained in Subject 4 (out of 100): \"))\n",
    "subject5 = float(input(\"Enter marks obtained in Subject 5 (out of 100): \"))\n",
    "\n",
    "\n",
    "total_marks = subject1 + subject2 + subject3 + subject4 + subject5\n",
    "max_marks_per_subject = 100\n",
    "aggregate_marks = total_marks\n",
    "percentage_marks = (total_marks / (5 * max_marks_per_subject)) * 100\n",
    "\n",
    "\n",
    "print(f\"Aggregate Marks: {aggregate_marks} out of {5 * max_marks_per_subject}\")\n",
    "print(f\"Percentage Marks: {percentage_marks:.2f}%\")\n"
   ]
  },
  {
   "cell_type": "code",
   "execution_count": 4,
   "id": "958ee514",
   "metadata": {},
   "outputs": [
    {
     "name": "stdout",
     "output_type": "stream",
     "text": [
      "Enter temperature in Fahrenheit degrees: 103\n",
      "Temperature in Centigrade degrees: 39.44°C\n"
     ]
    }
   ],
   "source": [
    "###4. Temperature of a city in Fahrenheit degrees is input through the keyboard. \n",
    "##Write a program to convert this temperature into Centigrade degrees.\n",
    "\n",
    "temperature_fahrenheit = float(input(\"Enter temperature in Fahrenheit degrees: \"))\n",
    "\n",
    "temperature_centigrade = (temperature_fahrenheit - 32) * 5/9\n",
    "\n",
    "print(f\"Temperature in Centigrade degrees: {temperature_centigrade:.2f}°C\")\n"
   ]
  },
  {
   "cell_type": "code",
   "execution_count": 5,
   "id": "5dfc9da2",
   "metadata": {},
   "outputs": [
    {
     "name": "stdout",
     "output_type": "stream",
     "text": [
      "Enter the length of the rectangle: 42\n",
      "Enter the breadth of the rectangle: 23\n",
      "Enter the radius of the circle: 13\n",
      "Rectangle Area: 966.0\n",
      "Rectangle Perimeter: 130.0\n",
      "Circle Area: 530.93\n",
      "Circle Circumference: 81.68\n"
     ]
    }
   ],
   "source": [
    "###5. The length & breadth of a rectangle and radius of a circle are input through the keyboard. \n",
    "##Write a program to calculate the area & perimeter of the rectangle, and the area & circumference of the circle.\n",
    "\n",
    "import math\n",
    "\n",
    "length_rectangle = float(input(\"Enter the length of the rectangle: \"))\n",
    "breadth_rectangle = float(input(\"Enter the breadth of the rectangle: \"))\n",
    "\n",
    "radius_circle = float(input(\"Enter the radius of the circle: \"))\n",
    "\n",
    "area_rectangle = length_rectangle * breadth_rectangle\n",
    "perimeter_rectangle = 2 * (length_rectangle + breadth_rectangle)\n",
    "\n",
    "area_circle = math.pi * radius_circle**2\n",
    "circumference_circle = 2 * math.pi * radius_circle\n",
    "\n",
    "print(f\"Rectangle Area: {area_rectangle}\")\n",
    "print(f\"Rectangle Perimeter: {perimeter_rectangle}\")\n",
    "print(f\"Circle Area: {area_circle:.2f}\")\n",
    "print(f\"Circle Circumference: {circumference_circle:.2f}\")\n"
   ]
  },
  {
   "cell_type": "code",
   "execution_count": 6,
   "id": "f39a93af",
   "metadata": {},
   "outputs": [
    {
     "name": "stdout",
     "output_type": "stream",
     "text": [
      "Enter the value for C: 21\n",
      "Enter the value for D: 13\n",
      "Original values: C = 21.0, D = 13.0\n",
      "Values after interchange: C = 13.0, D = 21.0\n"
     ]
    }
   ],
   "source": [
    "###6. Two numbers are input through the keyboard into two locations C and D. \n",
    "###Write a program to interchange the contents of C and D.\n",
    "\n",
    "C = float(input(\"Enter the value for C: \"))\n",
    "D = float(input(\"Enter the value for D: \"))\n",
    "\n",
    "print(f\"Original values: C = {C}, D = {D}\")\n",
    "\n",
    "temp = C\n",
    "C = D\n",
    "D = temp\n",
    "\n",
    "print(f\"Values after interchange: C = {C}, D = {D}\")\n"
   ]
  },
  {
   "cell_type": "code",
   "execution_count": 7,
   "id": "74f96852",
   "metadata": {},
   "outputs": [
    {
     "name": "stdout",
     "output_type": "stream",
     "text": [
      "Enter a five-digit number: 45287\n",
      "Sum of digits: 26\n"
     ]
    }
   ],
   "source": [
    "###7. If a five-digit number is input through the keyboard, write a program to calculate the sum of its digits. \n",
    "##( Hint: Use the modulus operator '%')\n",
    "\n",
    "five_digit_number = int(input(\"Enter a five-digit number: \"))\n",
    "\n",
    "digit_1 = five_digit_number // 10000\n",
    "digit_2 = (five_digit_number // 1000) % 10\n",
    "digit_3 = (five_digit_number // 100) % 10\n",
    "digit_4 = (five_digit_number // 10) % 10\n",
    "digit_5 = five_digit_number % 10\n",
    "\n",
    "sum_of_digits = digit_1 + digit_2 + digit_3 + digit_4 + digit_5\n",
    "\n",
    "print(f\"Sum of digits: {sum_of_digits}\")\n"
   ]
  },
  {
   "cell_type": "code",
   "execution_count": 8,
   "id": "7bbce586",
   "metadata": {},
   "outputs": [
    {
     "name": "stdout",
     "output_type": "stream",
     "text": [
      "Enter a five-digit number: 44789\n",
      "Reversed number: 98744\n"
     ]
    }
   ],
   "source": [
    "###8. If a five-digit number is input through the keyboard, write a program to reverse the number.\n",
    "\n",
    "five_digit_number = int(input(\"Enter a five-digit number: \"))\n",
    "\n",
    "digit_1 = five_digit_number % 10\n",
    "digit_2 = (five_digit_number // 10) % 10\n",
    "digit_3 = (five_digit_number // 100) % 10\n",
    "digit_4 = (five_digit_number // 1000) % 10\n",
    "digit_5 = five_digit_number // 10000\n",
    "\n",
    "reversed_number = digit_1 * 10000 + digit_2 * 1000 + digit_3 * 100 + digit_4 * 10 + digit_5\n",
    "\n",
    "print(f\"Reversed number: {reversed_number}\")\n"
   ]
  },
  {
   "cell_type": "code",
   "execution_count": 9,
   "id": "7be5c870",
   "metadata": {},
   "outputs": [
    {
     "name": "stdout",
     "output_type": "stream",
     "text": [
      "Enter a four-digit number: 7584\n",
      "Sum of the first and last digit: 11\n"
     ]
    }
   ],
   "source": [
    "###9. If a four-digit number is input through the keyboard,\n",
    "##write a program to obtain the sum of the first and last digit of this number.\n",
    "\n",
    "four_digit_number = int(input(\"Enter a four-digit number: \"))\n",
    "\n",
    "first_digit = four_digit_number // 1000\n",
    "last_digit = four_digit_number % 10\n",
    "\n",
    "sum_of_first_last_digit = first_digit + last_digit\n",
    "\n",
    "print(f\"Sum of the first and last digit: {sum_of_first_last_digit}\")\n"
   ]
  },
  {
   "cell_type": "code",
   "execution_count": 10,
   "id": "b21f8bc5",
   "metadata": {},
   "outputs": [
    {
     "name": "stdout",
     "output_type": "stream",
     "text": [
      "Number of Illiterate Men: 13600\n",
      "Number of Illiterate Women: 41600\n"
     ]
    }
   ],
   "source": [
    "###10. In a town, the percentage of men is 52. The percentage of total literacy is 48. \n",
    "###If total percentage of literate men is 35 of the total population, \n",
    "##write a program to find the total number of illiterate men and women if the population of the town is 80,000.\n",
    "\n",
    "total_population = 80000\n",
    "percentage_men = 52\n",
    "percentage_total_literacy = 48\n",
    "percentage_literate_men = 35\n",
    "\n",
    "num_men = (percentage_men / 100) * total_population\n",
    "\n",
    "num_literate_men = (percentage_literate_men / 100) * total_population\n",
    "\n",
    "num_literate_women = (percentage_total_literacy / 100) * total_population - num_literate_men\n",
    "\n",
    "num_illiterate_men = num_men - num_literate_men\n",
    "num_illiterate_women = total_population - (num_literate_men + num_literate_women)\n",
    "\n",
    "print(f\"Number of Illiterate Men: {int(num_illiterate_men)}\")\n",
    "print(f\"Number of Illiterate Women: {int(num_illiterate_women)}\")\n"
   ]
  },
  {
   "cell_type": "code",
   "execution_count": 11,
   "id": "a77ad12f",
   "metadata": {},
   "outputs": [
    {
     "name": "stdout",
     "output_type": "stream",
     "text": [
      "Enter the amount to be withdrawn in hundreds: 12\n",
      "Number of 100 Rupee Notes: 12\n",
      "Number of 50 Rupee Notes: 0\n",
      "Number of 10 Rupee Notes: 0\n"
     ]
    }
   ],
   "source": [
    "###11. A cashier has currency notes of denominations 10, 50 and 100. \n",
    "##If the amount to be withdrawn is input through the keyboard in hundreds,\n",
    "##find the total number of currency notes of each denomination the cashier will have to give to the withdrawer.\n",
    "\n",
    "amount_in_hundreds = int(input(\"Enter the amount to be withdrawn in hundreds: \"))\n",
    "\n",
    "total_amount = amount_in_hundreds * 100\n",
    "\n",
    "num_100_notes = total_amount // 100\n",
    "remaining_amount = total_amount % 100\n",
    "\n",
    "num_50_notes = remaining_amount // 50\n",
    "remaining_amount %= 50\n",
    "\n",
    "num_10_notes = remaining_amount // 10\n",
    "\n",
    "print(f\"Number of 100 Rupee Notes: {num_100_notes}\")\n",
    "print(f\"Number of 50 Rupee Notes: {num_50_notes}\")\n",
    "print(f\"Number of 10 Rupee Notes: {num_10_notes}\")\n"
   ]
  },
  {
   "cell_type": "code",
   "execution_count": 12,
   "id": "48d357e0",
   "metadata": {},
   "outputs": [
    {
     "name": "stdout",
     "output_type": "stream",
     "text": [
      "Enter the total selling price of 15 items: 3243\n",
      "Enter the total profit earned on 15 items: 621\n",
      "Cost Price of One Item: 174.8\n"
     ]
    }
   ],
   "source": [
    "###12. If the total selling price of 15 items and the total profit earned on them is input through the keyboard, \n",
    "###write a program to find the cost price of one item.\n",
    "\n",
    "total_selling_price = float(input(\"Enter the total selling price of 15 items: \"))\n",
    "total_profit = float(input(\"Enter the total profit earned on 15 items: \"))\n",
    "\n",
    "num_items = 15\n",
    "cost_price_per_item = (total_selling_price - total_profit) / num_items\n",
    "\n",
    "print(f\"Cost Price of One Item: {cost_price_per_item}\")\n"
   ]
  },
  {
   "cell_type": "code",
   "execution_count": 13,
   "id": "8337b6ef",
   "metadata": {},
   "outputs": [
    {
     "name": "stdout",
     "output_type": "stream",
     "text": [
      "Enter a five-digit number: 47857\n",
      "New Number: 58968\n"
     ]
    }
   ],
   "source": [
    "###13. If a five-digit number is input through the keyboard,\n",
    "###write a program to print a new number by adding one to each of its digits. \n",
    "##For example, if the number that is input is 12391 then the output should be displayed as 23402.\n",
    "\n",
    "\n",
    "five_digit_number = int(input(\"Enter a five-digit number: \"))\n",
    "\n",
    "\n",
    "digit_1 = (five_digit_number // 10000 + 1) % 10\n",
    "digit_2 = (five_digit_number // 1000 + 1) % 10\n",
    "digit_3 = (five_digit_number // 100 + 1) % 10\n",
    "digit_4 = (five_digit_number // 10 + 1) % 10\n",
    "digit_5 = (five_digit_number + 1) % 10\n",
    "\n",
    "\n",
    "new_number = digit_1 * 10000 + digit_2 * 1000 + digit_3 * 100 + digit_4 * 10 + digit_5\n",
    "\n",
    "\n",
    "print(f\"New Number: {new_number}\")\n"
   ]
  },
  {
   "cell_type": "markdown",
   "id": "1d580de7",
   "metadata": {},
   "source": [
    "# Task - 2"
   ]
  },
  {
   "cell_type": "code",
   "execution_count": 14,
   "id": "2633d7bc",
   "metadata": {},
   "outputs": [
    {
     "name": "stdout",
     "output_type": "stream",
     "text": [
      "Enter the quantity purchased: 4748\n",
      "Enter the price per item: 245\n",
      "Total Expenses: 1046934.0\n"
     ]
    }
   ],
   "source": [
    "####1. While purchasing certain items, a discount of 10% is offered if the quantity purchased is more than 10. \n",
    "###If quantity and price per item are input through the keyboard, write a program to calculate the total expenses.\n",
    "\n",
    "\n",
    "quantity = int(input(\"Enter the quantity purchased: \"))\n",
    "price_per_item = float(input(\"Enter the price per item: \"))\n",
    "\n",
    "\n",
    "if quantity > 10:\n",
    "    discount = 0.10  # 10%\n",
    "    discounted_price_per_item = price_per_item - (price_per_item * discount)\n",
    "    total_expenses = quantity * discounted_price_per_item\n",
    "else:\n",
    "    total_expenses = quantity * price_per_item\n",
    "\n",
    "\n",
    "print(f\"Total Expenses: {total_expenses}\")\n"
   ]
  },
  {
   "cell_type": "code",
   "execution_count": 16,
   "id": "9fe8abca",
   "metadata": {},
   "outputs": [
    {
     "name": "stdout",
     "output_type": "stream",
     "text": [
      "Enter the current year: 4\n",
      "Enter the year of joining the organization: 2020\n"
     ]
    }
   ],
   "source": [
    "###2. The current year and the year in which the employee joined the organization are entered through the keyboard. \n",
    "###If the number of years for which the employee has served the organization is \n",
    "##greater than 3 then a bonus of Rs. 2500/- is given to the employee. \n",
    "###If the years of service are not greater than 3, then the program should do nothing.\n",
    "\n",
    "\n",
    "current_year = int(input(\"Enter the current year: \"))\n",
    "year_of_joining = int(input(\"Enter the year of joining the organization: \"))\n",
    "\n",
    "\n",
    "years_of_service = current_year - year_of_joining\n",
    "\n",
    "\n",
    "if years_of_service > 3:\n",
    "    bonus_amount = 2500\n",
    "    print(f\"Congratulations! You qualify for a bonus of Rs. {bonus_amount}\")\n",
    "\n",
    "\n",
    "# If the employee has served for 3 years or less, the program does nothing\n",
    "\n",
    "# Note: If you want to take some action for employees who have served for 3 years or less, you can add an 'else' block here.\n"
   ]
  },
  {
   "cell_type": "code",
   "execution_count": 17,
   "id": "694b3ef4",
   "metadata": {},
   "outputs": [
    {
     "name": "stdout",
     "output_type": "stream",
     "text": [
      "Enter the employee's salary: 14252\n",
      "Gross Salary: 28718.96\n"
     ]
    }
   ],
   "source": [
    "###3. If his basic salary is less than Rs. 1500, then HRA = 10% of basic salary and DA = 90% of basic salary. \n",
    "###If his salary is either equal to or above Rs. 1500, then HRA = Rs. 500 and DA = 98% of basic salary. \n",
    "###If the employee's salary is input through the keyboard write a program to find his gross salary\n",
    "\n",
    "\n",
    "basic_salary = float(input(\"Enter the employee's salary: \"))\n",
    "\n",
    "if basic_salary < 1500:\n",
    "    HRA = 0.10 * basic_salary\n",
    "    DA = 0.90 * basic_salary\n",
    "else:\n",
    "    HRA = 500\n",
    "    DA = 0.98 * basic_salary\n",
    "\n",
    "\n",
    "gross_salary = basic_salary + HRA + DA\n",
    "\n",
    "\n",
    "print(f\"Gross Salary: {gross_salary}\")\n"
   ]
  },
  {
   "cell_type": "code",
   "execution_count": 18,
   "id": "1f165d93",
   "metadata": {},
   "outputs": [
    {
     "name": "stdout",
     "output_type": "stream",
     "text": [
      "Enter marks obtained in Subject 1: 47\n",
      "Enter marks obtained in Subject 2: 72\n",
      "Enter marks obtained in Subject 3: 82\n",
      "Enter marks obtained in Subject 4: 69\n",
      "Enter marks obtained in Subject 5: 42\n",
      "Percentage: 62.40%\n",
      "Division: First Division\n"
     ]
    }
   ],
   "source": [
    "##4. The marks obtained by a student in 5 different subjects are input through the keyboard. \n",
    "#The student gets a division as per the following rules: Write a program to calculate the division obtained by the student.\n",
    "#a. Percentage above or equal to 60 - First division\n",
    "#b. Percentage between 50 and 59 - Second division\n",
    "#c. Percentage between 40 and 49 - Third division\n",
    "#d. Percentage less than 40 – Fail\n",
    "\n",
    "\n",
    "subject1 = float(input(\"Enter marks obtained in Subject 1: \"))\n",
    "subject2 = float(input(\"Enter marks obtained in Subject 2: \"))\n",
    "subject3 = float(input(\"Enter marks obtained in Subject 3: \"))\n",
    "subject4 = float(input(\"Enter marks obtained in Subject 4: \"))\n",
    "subject5 = float(input(\"Enter marks obtained in Subject 5: \"))\n",
    "\n",
    "\n",
    "total_marks = subject1 + subject2 + subject3 + subject4 + subject5\n",
    "total_subjects = 5\n",
    "percentage = (total_marks / (total_subjects * 100)) * 100\n",
    "\n",
    "\n",
    "if percentage >= 60:\n",
    "    division = \"First Division\"\n",
    "elif 50 <= percentage <= 59:\n",
    "    division = \"Second Division\"\n",
    "elif 40 <= percentage <= 49:\n",
    "    division = \"Third Division\"\n",
    "else:\n",
    "    division = \"Fail\"\n",
    "\n",
    "\n",
    "print(f\"Percentage: {percentage:.2f}%\")\n",
    "print(f\"Division: {division}\")\n"
   ]
  },
  {
   "cell_type": "code",
   "execution_count": 19,
   "id": "fa2fb6fb",
   "metadata": {},
   "outputs": [
    {
     "name": "stdout",
     "output_type": "stream",
     "text": [
      "Enter marital status (married/unmarried): married\n",
      "Enter gender (male/female): male\n",
      "Enter age: 42\n",
      "Eligible for insurance\n"
     ]
    }
   ],
   "source": [
    "###5. A company insures its drivers in the following cases:\n",
    "##a. If the driver is married.\n",
    "##b. If the driver is unmarried, male & above 30 years of age.\n",
    "##c. If the driver is unmarried, female & above 25 years of age.\n",
    "\n",
    "\n",
    "marital_status = input(\"Enter marital status (married/unmarried): \").lower()\n",
    "gender = input(\"Enter gender (male/female): \").lower()\n",
    "age = int(input(\"Enter age: \"))\n",
    "\n",
    "\n",
    "if marital_status == \"married\":\n",
    "    eligibility = \"Eligible for insurance\"\n",
    "elif marital_status == \"unmarried\" and gender == \"male\" and age > 30:\n",
    "    eligibility = \"Eligible for insurance\"\n",
    "elif marital_status == \"unmarried\" and gender == \"female\" and age > 25:\n",
    "    eligibility = \"Eligible for insurance\"\n",
    "else:\n",
    "    eligibility = \"Not eligible for insurance\"\n",
    "\n",
    "\n",
    "print(eligibility)\n"
   ]
  },
  {
   "cell_type": "code",
   "execution_count": 20,
   "id": "0ba94ad8",
   "metadata": {},
   "outputs": [
    {
     "name": "stdout",
     "output_type": "stream",
     "text": [
      "Enter gender (Male/Female): Male\n",
      "Enter years of service: 4\n",
      "Enter qualifications (Post-Graduate/Graduate): Graduate\n",
      "Calculated Salary: 7000\n"
     ]
    }
   ],
   "source": [
    "##6. Write a program to calculate the salary as per the following table:\n",
    "\n",
    "\n",
    "gender = input(\"Enter gender (Male/Female): \").lower()\n",
    "years_of_service = int(input(\"Enter years of service: \"))\n",
    "qualifications = input(\"Enter qualifications (Post-Graduate/Graduate): \").lower()\n",
    "\n",
    "\n",
    "if gender == \"male\":\n",
    "    if years_of_service >= 10 and qualifications == \"post-graduate\":\n",
    "        salary = 15000\n",
    "    elif years_of_service >= 10 and qualifications == \"graduate\":\n",
    "        salary = 10000\n",
    "    elif years_of_service < 10 and qualifications == \"post-graduate\":\n",
    "        salary = 10000\n",
    "    elif years_of_service < 10 and qualifications == \"graduate\":\n",
    "        salary = 7000\n",
    "    else:\n",
    "        salary = \"Invalid input\"\n",
    "elif gender == \"female\":\n",
    "    if years_of_service >= 10 and qualifications == \"post-graduate\":\n",
    "        salary = 12000\n",
    "    elif years_of_service >= 10 and qualifications == \"graduate\":\n",
    "        salary = 9000\n",
    "    elif years_of_service < 10 and qualifications == \"post-graduate\":\n",
    "        salary = 10000\n",
    "    elif years_of_service < 10 and qualifications == \"graduate\":\n",
    "        salary = 6000\n",
    "    else:\n",
    "        salary = \"Invalid input\"\n",
    "else:\n",
    "    salary = \"Invalid input\"\n",
    "\n",
    "\n",
    "print(f\"Calculated Salary: {salary}\")\n",
    "\n"
   ]
  },
  {
   "cell_type": "code",
   "execution_count": 21,
   "id": "1dc8b4ee",
   "metadata": {},
   "outputs": [
    {
     "name": "stdout",
     "output_type": "stream",
     "text": [
      "Enter the cost price of the item: 4785\n",
      "Enter the selling price of the item: 255\n",
      "The seller has made a Loss of Rs. 4530.0\n"
     ]
    }
   ],
   "source": [
    "###7. If cost price and selling price of an item is input through the keyboard, \n",
    "##write a program to determine whether the seller has made profit or incurred loss. \n",
    "##Also determine how much profit he made or loss he incurred.\n",
    "\n",
    "\n",
    "cost_price = float(input(\"Enter the cost price of the item: \"))\n",
    "selling_price = float(input(\"Enter the selling price of the item: \"))\n",
    "\n",
    "\n",
    "profit_or_loss = selling_price - cost_price\n",
    "\n",
    "\n",
    "if profit_or_loss > 0:\n",
    "    result = \"Profit\"\n",
    "elif profit_or_loss < 0:\n",
    "    result = \"Loss\"\n",
    "else:\n",
    "    result = \"No Profit, No Loss\"\n",
    "\n",
    "\n",
    "print(f\"The seller has made a {result} of Rs. {abs(profit_or_loss)}\")\n"
   ]
  },
  {
   "cell_type": "code",
   "execution_count": 22,
   "id": "1a1be9ba",
   "metadata": {},
   "outputs": [
    {
     "name": "stdout",
     "output_type": "stream",
     "text": [
      "Enter an integer: 42\n",
      "42 is an even number.\n"
     ]
    }
   ],
   "source": [
    "###8. Any integer is input through the keyboard. Write a program to find out whether it is an odd number or even number. \n",
    "##(Hint: Use the % (modulus) operator)\n",
    "\n",
    "\n",
    "number = int(input(\"Enter an integer: \"))\n",
    "\n",
    "\n",
    "if number % 2 == 0:\n",
    "    print(f\"{number} is an even number.\")\n",
    "else:\n",
    "    print(f\"{number} is an odd number.\")\n"
   ]
  },
  {
   "cell_type": "code",
   "execution_count": 23,
   "id": "9d6183e9",
   "metadata": {},
   "outputs": [
    {
     "name": "stdout",
     "output_type": "stream",
     "text": [
      "Enter a five-digit number: 47896\n",
      "The original number 47896 and reversed number 69874 are not equal.\n"
     ]
    }
   ],
   "source": [
    "###9. A five-digit number is entered through the keyboard. \n",
    "##Write a program to obtain the reversed number and to determine whether the original and reversed numbers are equal or not.\n",
    "\n",
    "\n",
    "\n",
    "original_number = int(input(\"Enter a five-digit number: \"))\n",
    "\n",
    "\n",
    "digit_1 = original_number % 10\n",
    "digit_2 = (original_number // 10) % 10\n",
    "digit_3 = (original_number // 100) % 10\n",
    "digit_4 = (original_number // 1000) % 10\n",
    "digit_5 = original_number // 10000\n",
    "\n",
    "\n",
    "reversed_number = digit_1 * 10000 + digit_2 * 1000 + digit_3 * 100 + digit_4 * 10 + digit_5\n",
    "\n",
    "\n",
    "if original_number == reversed_number:\n",
    "    print(f\"The original number {original_number} and reversed number {reversed_number} are equal.\")\n",
    "else:\n",
    "    print(f\"The original number {original_number} and reversed number {reversed_number} are not equal.\")\n"
   ]
  },
  {
   "cell_type": "code",
   "execution_count": 24,
   "id": "074d3616",
   "metadata": {},
   "outputs": [
    {
     "name": "stdout",
     "output_type": "stream",
     "text": [
      "Enter the age of Ram: 51\n",
      "Enter the age of Shyam: 26\n",
      "Enter the age of Ajay: 74\n",
      "Shyam is the youngest.\n"
     ]
    }
   ],
   "source": [
    "###10. If the ages of Ram, Shyam and Ajay are input through the keyboard, \n",
    "###write a program to determine the youngest of the three.\n",
    "\n",
    "\n",
    "ram_age = int(input(\"Enter the age of Ram: \"))\n",
    "shyam_age = int(input(\"Enter the age of Shyam: \"))\n",
    "ajay_age = int(input(\"Enter the age of Ajay: \"))\n",
    "\n",
    "\n",
    "youngest_age = min(ram_age, shyam_age, ajay_age)\n",
    "\n",
    "\n",
    "if youngest_age == ram_age:\n",
    "    print(\"Ram is the youngest.\")\n",
    "elif youngest_age == shyam_age:\n",
    "    print(\"Shyam is the youngest.\")\n",
    "else:\n",
    "    print(\"Ajay is the youngest.\")\n"
   ]
  },
  {
   "cell_type": "code",
   "execution_count": 25,
   "id": "b29b3500",
   "metadata": {},
   "outputs": [
    {
     "name": "stdout",
     "output_type": "stream",
     "text": [
      "Enter the first angle of the triangle: 72\n",
      "Enter the second angle of the triangle: 45\n",
      "Enter the third angle of the triangle: 82\n",
      "The triangle is not valid.\n"
     ]
    }
   ],
   "source": [
    "###11. Write a program to check whether a triangle is valid or not, \n",
    "###when the three angles of the triangle are entered through the keyboard.\n",
    "###A triangle is valid if the sum of all the three angles is equal to 180 degrees.\n",
    "\n",
    "\n",
    "angle1 = int(input(\"Enter the first angle of the triangle: \"))\n",
    "angle2 = int(input(\"Enter the second angle of the triangle: \"))\n",
    "angle3 = int(input(\"Enter the third angle of the triangle: \"))\n",
    "\n",
    "\n",
    "if angle1 + angle2 + angle3 == 180:\n",
    "    print(\"The triangle is valid.\")\n",
    "else:\n",
    "    print(\"The triangle is not valid.\")\n"
   ]
  },
  {
   "cell_type": "code",
   "execution_count": 26,
   "id": "cf2b792f",
   "metadata": {},
   "outputs": [
    {
     "name": "stdout",
     "output_type": "stream",
     "text": [
      "Enter a number: 45\n",
      "The absolute value of 45.0 is: 45.0\n"
     ]
    }
   ],
   "source": [
    "###12. Find the absolute value of a number entered through the keyboard.\n",
    "\n",
    "\n",
    "number = float(input(\"Enter a number: \"))\n",
    "\n",
    "\n",
    "absolute_value = abs(number)\n",
    "\n",
    "\n",
    "print(f\"The absolute value of {number} is: {absolute_value}\")\n"
   ]
  },
  {
   "cell_type": "code",
   "execution_count": 27,
   "id": "1da6bea4",
   "metadata": {},
   "outputs": [
    {
     "name": "stdout",
     "output_type": "stream",
     "text": [
      "Enter the length of the rectangle: 42\n",
      "Enter the breadth of the rectangle: 24\n",
      "The area of the rectangle is greater than its perimeter.\n"
     ]
    }
   ],
   "source": [
    "###13. Given the length and breadth of a rectangle, write a program to find whether the area of the rectangle is \n",
    "###greater than its perimeter. For example, \n",
    "##the area of the rectangle with length = 5 and breadth = 4 is greater than its perimeter\n",
    "\n",
    "\n",
    "length = float(input(\"Enter the length of the rectangle: \"))\n",
    "breadth = float(input(\"Enter the breadth of the rectangle: \"))\n",
    "\n",
    "\n",
    "area = length * breadth\n",
    "perimeter = 2 * (length + breadth)\n",
    "\n",
    "\n",
    "if area > perimeter:\n",
    "    print(\"The area of the rectangle is greater than its perimeter.\")\n",
    "else:\n",
    "    print(\"The area of the rectangle is not greater than its perimeter.\")\n"
   ]
  },
  {
   "cell_type": "code",
   "execution_count": 28,
   "id": "dbf64feb",
   "metadata": {},
   "outputs": [
    {
     "name": "stdout",
     "output_type": "stream",
     "text": [
      "Enter a year: 2021\n",
      "2021 is not a leap year.\n"
     ]
    }
   ],
   "source": [
    "###14. Any year is entered through the keyboard, write a program to determine whether the year is leap or not. \n",
    "###Use the logical operators && and ||.\n",
    "\n",
    "\n",
    "year = int(input(\"Enter a year: \"))\n",
    "\n",
    "\n",
    "is_leap_year = (year % 4 == 0 and year % 100 != 0) or (year % 400 == 0)\n",
    "\n",
    "\n",
    "if is_leap_year:\n",
    "    print(f\"{year} is a leap year.\")\n",
    "else:\n",
    "    print(f\"{year} is not a leap year.\")\n"
   ]
  },
  {
   "cell_type": "code",
   "execution_count": 29,
   "id": "e9bb69ff",
   "metadata": {},
   "outputs": [
    {
     "name": "stdout",
     "output_type": "stream",
     "text": [
      "Enter the hardness of the steel: 52\n",
      "Enter the carbon content of the steel: 25\n",
      "Enter the tensile strength of the steel: 11\n",
      "The grade of the steel is: 6\n"
     ]
    }
   ],
   "source": [
    "#15. A certain grade of steel is graded according to the following conditions:\n",
    "#i. Hardness must be greater than 50\n",
    "#ii. Carbon content must be less than 0.7\n",
    "#iii. Tensile strength must be greater than 5600 The grades are as follows:\n",
    "#i. Grade is 10 if all three conditions are met\n",
    "#ii. Grade is 9 if conditions (i) and (ii) are met\n",
    "#iii. Grade is 8 if conditions (ii) and (iii) are met\n",
    "#iv. Grade is 7 if conditions (i) and (iii) are met\n",
    "#v. Grade is 6 if only one condition is met\n",
    "#vi. Grade is 5 if none of the conditions are met Write a program, which will require the user to give values of hardness, \n",
    "##carbon content and tensile strength of the steel under consideration and output the grade of the steel.\n",
    "\n",
    "\n",
    "\n",
    "hardness = float(input(\"Enter the hardness of the steel: \"))\n",
    "carbon_content = float(input(\"Enter the carbon content of the steel: \"))\n",
    "tensile_strength = float(input(\"Enter the tensile strength of the steel: \"))\n",
    "\n",
    "\n",
    "if hardness > 50 and carbon_content < 0.7 and tensile_strength > 5600:\n",
    "    grade = 10\n",
    "elif hardness > 50 and carbon_content < 0.7:\n",
    "    grade = 9\n",
    "elif carbon_content < 0.7 and tensile_strength > 5600:\n",
    "    grade = 8\n",
    "elif hardness > 50 and tensile_strength > 5600:\n",
    "    grade = 7\n",
    "elif hardness > 50 or carbon_content < 0.7 or tensile_strength > 5600:\n",
    "    grade = 6\n",
    "else:\n",
    "    grade = 5\n",
    "\n",
    "\n",
    "print(f\"The grade of the steel is: {grade}\")\n"
   ]
  },
  {
   "cell_type": "code",
   "execution_count": 30,
   "id": "1f295017",
   "metadata": {},
   "outputs": [
    {
     "name": "stdout",
     "output_type": "stream",
     "text": [
      "Enter the number of days the member is late: 12\n",
      "The fine for 12 days late return is: Rs. 5.00\n"
     ]
    }
   ],
   "source": [
    "###16. A library charges a fine for every book returned late. For first 5 days the fine is 50 paise, \n",
    "##for 6-10 days fine is one rupee and above 10 days fine is 5 rupees. \n",
    "##If you return the book after 30 days your membership will be cancelled. \n",
    "##Write a program to accept the number of days the member is late to return the book and display the fine or \n",
    "##the appropriate message.\n",
    "\n",
    "\n",
    "days_late = int(input(\"Enter the number of days the member is late: \"))\n",
    "\n",
    "\n",
    "if days_late <= 5:\n",
    "    fine = 0.50 * days_late\n",
    "elif 6 <= days_late <= 10:\n",
    "    fine = 1.00 * days_late\n",
    "elif days_late > 10 and days_late <= 30:\n",
    "    fine = 5.00\n",
    "else:\n",
    "    print(\"Membership cancelled. Book returned after 30 days.\")\n",
    "    exit()\n",
    "\n",
    "\n",
    "if days_late <= 30:\n",
    "    print(f\"The fine for {days_late} days late return is: Rs. {fine:.2f}\")\n"
   ]
  },
  {
   "cell_type": "code",
   "execution_count": 32,
   "id": "a9a243a5",
   "metadata": {},
   "outputs": [
    {
     "name": "stdout",
     "output_type": "stream",
     "text": [
      "Enter the time taken by the worker (in hours): 3\n",
      "The efficiency of the worker is: Highly Efficient\n"
     ]
    }
   ],
   "source": [
    "##17. In a company, worker efficiency is determined on the basis of the time required for a worker to complete a particular job.\n",
    "##If the time taken by the worker is between 2 – 3 hours, then the worker is said to be highly efficient.\n",
    "##If the time required by the worker is between 3 – 4 hours, then the worker is ordered to improve speed. \n",
    "##If the time taken is between 4 – 5 hours, the worker is given training to improve his speed,\n",
    "##and if the time taken by the worker is more than 5 hours, then the worker has to leave the company.\n",
    "##If the time taken by the worker is input through the keyboard, find the efficiency of the worker.\n",
    "\n",
    "\n",
    "\n",
    "time_taken = float(input(\"Enter the time taken by the worker (in hours): \"))\n",
    "\n",
    "\n",
    "if 2 <= time_taken <= 3:\n",
    "    efficiency = \"Highly Efficient\"\n",
    "elif 3 < time_taken <= 4:\n",
    "    efficiency = \"Improve Speed\"\n",
    "elif 4 < time_taken <= 5:\n",
    "    efficiency = \"Training Required\"\n",
    "else:\n",
    "    efficiency = \"Leave the Company\"\n",
    "\n",
    "\n",
    "print(f\"The efficiency of the worker is: {efficiency}\")\n"
   ]
  },
  {
   "cell_type": "markdown",
   "id": "1c28f668",
   "metadata": {},
   "source": [
    "# Task - 3"
   ]
  },
  {
   "cell_type": "code",
   "execution_count": 33,
   "id": "1965bb99",
   "metadata": {},
   "outputs": [
    {
     "name": "stdout",
     "output_type": "stream",
     "text": [
      "Enter a number: 14\n",
      "The factors of 14 are: [1, 2, 7, 14]\n"
     ]
    }
   ],
   "source": [
    "###1. Write a program to find the factor of the given number.\n",
    "\n",
    "\n",
    "number = int(input(\"Enter a number: \"))\n",
    "\n",
    "\n",
    "factors = []\n",
    "for i in range(1, number + 1):\n",
    "    if number % i == 0:\n",
    "        factors.append(i)\n",
    "\n",
    "\n",
    "print(f\"The factors of {number} are: {factors}\")\n"
   ]
  },
  {
   "cell_type": "code",
   "execution_count": 34,
   "id": "f428ae35",
   "metadata": {},
   "outputs": [
    {
     "name": "stdout",
     "output_type": "stream",
     "text": [
      "Enter a number: 23\n",
      "23 is a prime number.\n"
     ]
    }
   ],
   "source": [
    "###2. Write a program to find whether the given number is prime or not.\n",
    "\n",
    "\n",
    "number = int(input(\"Enter a number: \"))\n",
    "\n",
    "\n",
    "is_prime = True\n",
    "\n",
    "if number <= 1:\n",
    "    is_prime = False\n",
    "else:\n",
    "    for i in range(2, int(number**0.5) + 1):\n",
    "        if number % i == 0:\n",
    "            is_prime = False\n",
    "            break\n",
    "\n",
    "\n",
    "if is_prime:\n",
    "    print(f\"{number} is a prime number.\")\n",
    "else:\n",
    "    print(f\"{number} is not a prime number.\")\n"
   ]
  },
  {
   "cell_type": "code",
   "execution_count": 35,
   "id": "d9dffdd6",
   "metadata": {},
   "outputs": [
    {
     "name": "stdout",
     "output_type": "stream",
     "text": [
      "Enter a number: 13\n",
      "13 is not an Armstrong number.\n"
     ]
    }
   ],
   "source": [
    "###3. Write a program to find the given number is Armstrong number or not.\n",
    "\n",
    "\n",
    "number = int(input(\"Enter a number: \"))\n",
    "\n",
    "\n",
    "num_digits = len(str(number))\n",
    "\n",
    "\n",
    "sum_of_powers = sum(int(digit) ** num_digits for digit in str(number))\n",
    "\n",
    "\n",
    "is_armstrong = number == sum_of_powers\n",
    "\n",
    "\n",
    "if is_armstrong:\n",
    "    print(f\"{number} is an Armstrong number.\")\n",
    "else:\n",
    "    print(f\"{number} is not an Armstrong number.\")\n"
   ]
  },
  {
   "cell_type": "code",
   "execution_count": 36,
   "id": "7f13d252",
   "metadata": {},
   "outputs": [
    {
     "name": "stdout",
     "output_type": "stream",
     "text": [
      "Armstrong numbers between 100 and 999 are:\n",
      "[153, 370, 371, 407]\n"
     ]
    }
   ],
   "source": [
    "###4. Write a program to print the Armstrong numbers between 100 to 999.\n",
    "\n",
    "\n",
    "def is_armstrong(num):\n",
    "    num_digits = len(str(num))\n",
    "    return num == sum(int(digit) ** num_digits for digit in str(num))\n",
    "\n",
    "\n",
    "armstrong_numbers = [num for num in range(100, 1000) if is_armstrong(num)]\n",
    "\n",
    "print(\"Armstrong numbers between 100 and 999 are:\")\n",
    "print(armstrong_numbers)\n"
   ]
  },
  {
   "cell_type": "code",
   "execution_count": 37,
   "id": "53c8a98e",
   "metadata": {},
   "outputs": [
    {
     "name": "stdout",
     "output_type": "stream",
     "text": [
      "Enter a list of numbers separated by space: 1 5 6 7 5 4 \n",
      "Number of even numbers: 2\n",
      "Number of odd numbers: 4\n"
     ]
    }
   ],
   "source": [
    "###5. Write a program to count and print the number of odd and even numbers.\n",
    "\n",
    "\n",
    "numbers = list(map(int, input(\"Enter a list of numbers separated by space: \").split()))\n",
    "\n",
    "\n",
    "odd_count = 0\n",
    "even_count = 0\n",
    "\n",
    "\n",
    "for number in numbers:\n",
    "    if number % 2 == 0:\n",
    "        even_count += 1\n",
    "    else:\n",
    "        odd_count += 1\n",
    "\n",
    "\n",
    "print(f\"Number of even numbers: {even_count}\")\n",
    "print(f\"Number of odd numbers: {odd_count}\")\n"
   ]
  },
  {
   "cell_type": "code",
   "execution_count": 38,
   "id": "773b7564",
   "metadata": {},
   "outputs": [
    {
     "name": "stdout",
     "output_type": "stream",
     "text": [
      "Enter an n-digit number: 42\n",
      "The reverse of 42 is: 24\n"
     ]
    }
   ],
   "source": [
    "##6. Write a program to find the reverse of n digit number using While loop\n",
    "\n",
    "\n",
    "n_digit_number = int(input(\"Enter an n-digit number: \"))\n",
    "\n",
    "\n",
    "original_number = n_digit_number\n",
    "reverse_number = 0\n",
    "\n",
    "\n",
    "while n_digit_number > 0:\n",
    "    digit = n_digit_number % 10\n",
    "    reverse_number = reverse_number * 10 + digit\n",
    "    n_digit_number //= 10\n",
    "\n",
    "\n",
    "print(f\"The reverse of {original_number} is: {reverse_number}\")\n"
   ]
  },
  {
   "cell_type": "code",
   "execution_count": 39,
   "id": "cfb0b377",
   "metadata": {},
   "outputs": [
    {
     "name": "stdout",
     "output_type": "stream",
     "text": [
      "Enter a decimal number: 41\n",
      "The binary representation of 41 is: 0b101001\n"
     ]
    }
   ],
   "source": [
    "##7. Write a program to find the binary number from given decimal number.\n",
    "\n",
    "\n",
    "decimal_number = int(input(\"Enter a decimal number: \"))\n",
    "\n",
    "\n",
    "binary_number = bin(decimal_number)\n",
    "\n",
    "\n",
    "print(f\"The binary representation of {decimal_number} is: {binary_number}\")\n"
   ]
  },
  {
   "cell_type": "code",
   "execution_count": 41,
   "id": "d9c2ffb1",
   "metadata": {},
   "outputs": [
    {
     "name": "stdout",
     "output_type": "stream",
     "text": [
      "Enter a binary number: 1\n",
      "The decimal representation of 1 is: 1\n"
     ]
    }
   ],
   "source": [
    "###8. Write a program to find the decimal number from given Binary number.\n",
    "\n",
    "\n",
    "binary_number = input(\"Enter a binary number: \")\n",
    "\n",
    "\n",
    "decimal_number = int(binary_number, 2)\n",
    "\n",
    "\n",
    "print(f\"The decimal representation of {binary_number} is: {decimal_number}\")\n"
   ]
  },
  {
   "cell_type": "code",
   "execution_count": 42,
   "id": "1e01e28b",
   "metadata": {},
   "outputs": [
    {
     "name": "stdout",
     "output_type": "stream",
     "text": [
      "Enter a number: 13\n",
      "The factorial of 13 is: 6227020800\n"
     ]
    }
   ],
   "source": [
    "###9. Write a program to find the factorial of the given number.\n",
    "\n",
    "\n",
    "def factorial(n):\n",
    "    if n == 0 or n == 1:\n",
    "        return 1\n",
    "    else:\n",
    "        return n * factorial(n - 1)\n",
    "\n",
    "\n",
    "number = int(input(\"Enter a number: \"))\n",
    "\n",
    "\n",
    "result = factorial(number)\n",
    "\n",
    "\n",
    "print(f\"The factorial of {number} is: {result}\")\n"
   ]
  },
  {
   "cell_type": "code",
   "execution_count": 43,
   "id": "363f771e",
   "metadata": {},
   "outputs": [
    {
     "name": "stdout",
     "output_type": "stream",
     "text": [
      "Enter a number: 12\n",
      "The Fibonacci series up to 12 is: [0, 1, 1, 2, 3, 5, 8]\n"
     ]
    }
   ],
   "source": [
    "###10. Write a program to find the Fibonacci Series of the given number.\n",
    "\n",
    "\n",
    "def fibonacci_series(n):\n",
    "    fib_series = [0, 1]\n",
    "    while fib_series[-1] + fib_series[-2] <= n:\n",
    "        fib_series.append(fib_series[-1] + fib_series[-2])\n",
    "    return fib_series\n",
    "\n",
    "\n",
    "number = int(input(\"Enter a number: \"))\n",
    "\n",
    "\n",
    "result = fibonacci_series(number)\n",
    "\n",
    "\n",
    "print(f\"The Fibonacci series up to {number} is: {result}\")\n"
   ]
  },
  {
   "cell_type": "code",
   "execution_count": 44,
   "id": "547d0b60",
   "metadata": {},
   "outputs": [
    {
     "name": "stdout",
     "output_type": "stream",
     "text": [
      "Enter a number: 11\n",
      "11 is not a perfect number.\n"
     ]
    }
   ],
   "source": [
    "###11. Write a program to find the given number is perfect number\n",
    "\n",
    "\n",
    "def is_perfect_number(num):\n",
    "    divisors = [i for i in range(1, num) if num % i == 0]\n",
    "    return sum(divisors) == num\n",
    "\n",
    "number = int(input(\"Enter a number: \"))\n",
    "\n",
    "\n",
    "if is_perfect_number(number):\n",
    "    print(f\"{number} is a perfect number.\")\n",
    "else:\n",
    "    print(f\"{number} is not a perfect number.\")\n"
   ]
  },
  {
   "cell_type": "code",
   "execution_count": 45,
   "id": "bdd6873c",
   "metadata": {},
   "outputs": [
    {
     "name": "stdout",
     "output_type": "stream",
     "text": [
      "Perfect numbers between 1 and 1000 are:\n",
      "[6, 28, 496]\n"
     ]
    }
   ],
   "source": [
    "###12. Write a program to print the perfect number between 1-1000\n",
    "\n",
    "\n",
    "def is_perfect_number(num):\n",
    "    divisors = [i for i in range(1, num) if num % i == 0]\n",
    "    return sum(divisors) == num\n",
    "\n",
    "\n",
    "perfect_numbers = [num for num in range(1, 1001) if is_perfect_number(num)]\n",
    "\n",
    "print(\"Perfect numbers between 1 and 1000 are:\")\n",
    "print(perfect_numbers)\n"
   ]
  },
  {
   "cell_type": "code",
   "execution_count": 46,
   "id": "08cdd5e0",
   "metadata": {},
   "outputs": [
    {
     "name": "stdout",
     "output_type": "stream",
     "text": [
      "Enter a number: 11\n",
      "11 is not a strong number.\n"
     ]
    }
   ],
   "source": [
    "####13. Write a program to find the given number is strong number\n",
    "\n",
    "\n",
    "def factorial(n):\n",
    "    if n == 0 or n == 1:\n",
    "        return 1\n",
    "    else:\n",
    "        return n * factorial(n - 1)\n",
    "\n",
    "\n",
    "def is_strong_number(num):\n",
    "    original_number = num\n",
    "    digit_factorial_sum = sum(factorial(int(digit)) for digit in str(num))\n",
    "    return digit_factorial_sum == original_number\n",
    "\n",
    "\n",
    "number = int(input(\"Enter a number: \"))\n",
    "\n",
    "\n",
    "if is_strong_number(number):\n",
    "    print(f\"{number} is a strong number.\")\n",
    "else:\n",
    "    print(f\"{number} is not a strong number.\")\n"
   ]
  },
  {
   "cell_type": "code",
   "execution_count": 47,
   "id": "dbe2cda4",
   "metadata": {},
   "outputs": [
    {
     "name": "stdout",
     "output_type": "stream",
     "text": [
      "Enter the base number: 2\n",
      "Enter the exponent number: 1\n",
      "The result of 2.0 raised to the power of 1.0 is: 2.0\n"
     ]
    }
   ],
   "source": [
    "####14. Two numbers are entered through the keyboard. Write a program to find the value of one number raised to \n",
    "##the power of another.\n",
    "\n",
    "\n",
    "base_number = float(input(\"Enter the base number: \"))\n",
    "exponent_number = float(input(\"Enter the exponent number: \"))\n",
    "\n",
    "\n",
    "result = base_number ** exponent_number\n",
    "\n",
    "\n",
    "print(f\"The result of {base_number} raised to the power of {exponent_number} is: {result}\")\n"
   ]
  },
  {
   "cell_type": "code",
   "execution_count": null,
   "id": "714cd2b7",
   "metadata": {},
   "outputs": [],
   "source": []
  }
 ],
 "metadata": {
  "kernelspec": {
   "display_name": "Python 3 (ipykernel)",
   "language": "python",
   "name": "python3"
  },
  "language_info": {
   "codemirror_mode": {
    "name": "ipython",
    "version": 3
   },
   "file_extension": ".py",
   "mimetype": "text/x-python",
   "name": "python",
   "nbconvert_exporter": "python",
   "pygments_lexer": "ipython3",
   "version": "3.11.5"
  }
 },
 "nbformat": 4,
 "nbformat_minor": 5
}
