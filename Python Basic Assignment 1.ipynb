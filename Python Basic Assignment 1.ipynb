{
 "cells": [
  {
   "cell_type": "code",
   "execution_count": 1,
   "id": "52ccbd1d",
   "metadata": {},
   "outputs": [
    {
     "name": "stdout",
     "output_type": "stream",
     "text": [
      "Data Science\n"
     ]
    }
   ],
   "source": [
    "### 1. Simple Message: Store a message in a variable, and then print that message.\n",
    "\n",
    "a = \"Data Science\"\n",
    "print(a)"
   ]
  },
  {
   "cell_type": "code",
   "execution_count": 3,
   "id": "67057042",
   "metadata": {},
   "outputs": [
    {
     "name": "stdout",
     "output_type": "stream",
     "text": [
      "Data Science\n",
      " Data Science is Interesting\n"
     ]
    }
   ],
   "source": [
    "### 2. Store a message in a variable and print that message. Then change the value of your variable to a \n",
    "#new message and print the new message.\n",
    "\n",
    "a = \"Data Science\"\n",
    "print(a)\n",
    "a = \" Data Science is Interesting\"\n",
    "print(a)"
   ]
  },
  {
   "cell_type": "code",
   "execution_count": 5,
   "id": "1a8eb599",
   "metadata": {},
   "outputs": [
    {
     "name": "stdout",
     "output_type": "stream",
     "text": [
      "Hello Eric, would you like to learn some Python today?\n"
     ]
    }
   ],
   "source": [
    "#### 3. Store a person’s name in a variable and print a message to that person. \n",
    "##Your message should be simple, such as, “Hello Eric, would you like to learn some Python today?”\n",
    "\n",
    "person_name = \"Hello Eric,\"\n",
    "print(person_name, 'would you like to learn some Python today?')"
   ]
  },
  {
   "cell_type": "code",
   "execution_count": 4,
   "id": "0ee56d95",
   "metadata": {},
   "outputs": [
    {
     "name": "stdout",
     "output_type": "stream",
     "text": [
      "Albert Einstein once said, A person who never made a mistake never tried anything new.\n"
     ]
    }
   ],
   "source": [
    "##4. Find a quote from a famous person you admire. Print the quote and the name of its author. \n",
    "##Your output should look something like the following, including the quotation marks: \n",
    "    ##Albert Einstein once said, “A person who never made a mistake never tried anything new.”\n",
    "    \n",
    "a = \"Albert Einstein once said,\"    \n",
    "b = \"A person who never made a mistake never tried anything new.\"\n",
    "print(a , b)"
   ]
  },
  {
   "cell_type": "code",
   "execution_count": 9,
   "id": "50515725",
   "metadata": {},
   "outputs": [
    {
     "name": "stdout",
     "output_type": "stream",
     "text": [
      "Albert Einstein once said, A person who never made a mistake never tried anything new\n"
     ]
    }
   ],
   "source": [
    "###5. Repeat Exercise 4, but this time store the famous person’s name in a variable called famous_person. \n",
    "#Then compose your message and store it in a new variable called message. Print your message.\n",
    "\n",
    "famous_person = \"Albert Einstein\"\n",
    "message = f\"{famous_person} once said, A person who never made a mistake never tried anything new\"\n",
    "print(message)"
   ]
  },
  {
   "cell_type": "code",
   "execution_count": 1,
   "id": "f31dfe6a",
   "metadata": {},
   "outputs": [
    {
     "name": "stdout",
     "output_type": "stream",
     "text": [
      "8\n",
      "8\n",
      "8\n",
      "8.0\n"
     ]
    }
   ],
   "source": [
    "#### 6. Write addition, subtraction, multiplication, and division operations that each result in the number 8. \n",
    "#Be sure to enclose your operations in print statements to see the results.\n",
    "#You should create four lines that look like this: print (5 + 3)\n",
    "#Your output should simply be four lines with the number 8 appearing once on each line.\n",
    "\n",
    "print(5 + 3)   #Addition\n",
    "print(10 - 2)   #Substraction\n",
    "print(4 * 2)    #Multiplication\n",
    "print(16 / 2)   #Division"
   ]
  },
  {
   "cell_type": "code",
   "execution_count": 10,
   "id": "b34b4adf",
   "metadata": {},
   "outputs": [
    {
     "name": "stdout",
     "output_type": "stream",
     "text": [
      "My favorite number is- 9\n"
     ]
    }
   ],
   "source": [
    "####7. Store your favourite number in a variable. \n",
    "#Then, using that variable, create a message that reveals your favourite number. Print that message.\n",
    "\n",
    "\n",
    "favorite_number = 9\n",
    "message = f\"My favorite number is- {favorite_number}\"\n",
    "print(message)\n"
   ]
  },
  {
   "cell_type": "code",
   "execution_count": null,
   "id": "62f983b2",
   "metadata": {},
   "outputs": [],
   "source": [
    "###8. Choose two of the programs you’ve written and add at least one comment to each. \n",
    "#If you don’t have anything specific to write because your programs are too simple at this point, \n",
    "#just add your name and the current date at the top of each program file. \n",
    "#Then write one sentence describing what the program does.\n",
    "\n",
    "#Program -1\n",
    "\n",
    "famous_person = \"Albert Einstein\"\n",
    "message = f\"{famous_person} once said, A person who never made a mistake never tried anything new\"\n",
    "print(message)\n",
    "\n",
    "##Description: This program stores a person's name in a variable named as famous_persion\n",
    "#and prints a message using an f-string.\n",
    "\n",
    "\n",
    "\n",
    "#Program-2\n",
    "\n",
    "favorite_number = 9\n",
    "message = f\"My favorite number is- {favorite_number}\"\n",
    "print(message)\n",
    "\n",
    "##Description: This program stores a favorite number in a variable, \n",
    "    #creates a message revealing the favorite number using an f-string, and prints the message.\n"
   ]
  },
  {
   "cell_type": "code",
   "execution_count": 12,
   "id": "03ab1bb8",
   "metadata": {},
   "outputs": [
    {
     "name": "stdout",
     "output_type": "stream",
     "text": [
      "Shouvik\n",
      "Risav\n",
      "Sagnik\n",
      "Sudip\n"
     ]
    }
   ],
   "source": [
    "####9. Store the names of a few of your friends in a list called names. \n",
    "#Print each person’s name by accessing each element in the list, one at a time.\n",
    "\n",
    "names = [\"Shouvik\" , \"Risav\" , \"Sagnik\" , \"Sudip\"]\n",
    "\n",
    "for name in names:\n",
    "    print(name)"
   ]
  },
  {
   "cell_type": "code",
   "execution_count": 13,
   "id": "3d45adfd",
   "metadata": {},
   "outputs": [
    {
     "name": "stdout",
     "output_type": "stream",
     "text": [
      "Hello Shouvik, hope you are doing good...!\n",
      "Hello Risav, hope you are doing good...!\n",
      "Hello Sagnik, hope you are doing good...!\n",
      "Hello Sudip, hope you are doing good...!\n"
     ]
    }
   ],
   "source": [
    "###10. Start with the list you used in Exercise 9, but instead of just printing each person’s name, print a message to them.\n",
    "#The text of each message should be the same, but each message should be personalized with the person’s name.\n",
    "\n",
    "for name in names:\n",
    "    print(f\"Hello {name}, hope you are doing good...!\")"
   ]
  },
  {
   "cell_type": "code",
   "execution_count": 16,
   "id": "1769ea19",
   "metadata": {},
   "outputs": [
    {
     "name": "stdout",
     "output_type": "stream",
     "text": [
      "I would like to own a, Train.\n",
      "I would like to own a, Car.\n",
      "I would like to own a, Bike.\n",
      "I would like to own a, Ship.\n"
     ]
    }
   ],
   "source": [
    "###11. Think of your favourite mode of transportation, such as a motorcycle or a car, \n",
    "#and make a list that stores several examples. \n",
    "#Use your list to print a series of statements about these items, such as “I would like to own a Honda motorcycle.”\n",
    "\n",
    "transportation_modes = ['Train', 'Car', 'Bike', 'Ship']\n",
    "for trans in transportation_modes:\n",
    "    print(f\"I would like to own a, {trans}.\")"
   ]
  },
  {
   "cell_type": "code",
   "execution_count": null,
   "id": "27228900",
   "metadata": {},
   "outputs": [],
   "source": []
  }
 ],
 "metadata": {
  "kernelspec": {
   "display_name": "Python 3 (ipykernel)",
   "language": "python",
   "name": "python3"
  },
  "language_info": {
   "codemirror_mode": {
    "name": "ipython",
    "version": 3
   },
   "file_extension": ".py",
   "mimetype": "text/x-python",
   "name": "python",
   "nbconvert_exporter": "python",
   "pygments_lexer": "ipython3",
   "version": "3.11.5"
  }
 },
 "nbformat": 4,
 "nbformat_minor": 5
}
