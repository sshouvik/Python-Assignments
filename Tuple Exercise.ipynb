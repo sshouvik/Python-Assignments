{
 "cells": [
  {
   "cell_type": "markdown",
   "id": "4b970508",
   "metadata": {},
   "source": [
    "# Tuple Exercise"
   ]
  },
  {
   "cell_type": "code",
   "execution_count": 1,
   "id": "7f31e0f7",
   "metadata": {},
   "outputs": [
    {
     "name": "stdout",
     "output_type": "stream",
     "text": [
      "Tuple = ()\n"
     ]
    }
   ],
   "source": [
    "##1. Write a Python program to create a tuple Sample Output Tuple = ()\n",
    "\n",
    "\n",
    "my_tuple = ()\n",
    "\n",
    "print(f\"Tuple = {my_tuple}\")\n"
   ]
  },
  {
   "cell_type": "code",
   "execution_count": 2,
   "id": "f59dbd2f",
   "metadata": {},
   "outputs": [
    {
     "name": "stdout",
     "output_type": "stream",
     "text": [
      "('Tutor Joes', True, 'T', 3.21, 10)\n"
     ]
    }
   ],
   "source": [
    "###2. Write a Python program to create a tuple with different data types Sample Output ('Tutor Joes', True, 'T', 3.21, 10)\n",
    "\n",
    "\n",
    "my_tuple = ('Tutor Joes', True, 'T', 3.21, 10)\n",
    "\n",
    "\n",
    "print(my_tuple)\n"
   ]
  },
  {
   "cell_type": "code",
   "execution_count": 3,
   "id": "bab0c2a1",
   "metadata": {},
   "outputs": [
    {
     "name": "stdout",
     "output_type": "stream",
     "text": [
      "One item from the tuple: 10 | Type = <class 'int'>\n"
     ]
    }
   ],
   "source": [
    "##3. Write a Python program to create a tuple with numbers and print one item Sample Output 10 Type = tuple\n",
    "\n",
    "\n",
    "my_tuple = (5, 10, 15, 20, 25)\n",
    "\n",
    "\n",
    "selected_item = my_tuple[1] \n",
    "print(f\"One item from the tuple: {selected_item} | Type = {type(selected_item)}\")\n"
   ]
  },
  {
   "cell_type": "code",
   "execution_count": 4,
   "id": "ab837968",
   "metadata": {},
   "outputs": [
    {
     "name": "stdout",
     "output_type": "stream",
     "text": [
      "a = 4, b = 8, c = 3 ((4, 8, 3))\n"
     ]
    }
   ],
   "source": [
    "###4. Write a Python program to unpack a tuple in several variables Sample Output a = 4, 8, 3 (4, 8, 3)\n",
    "\n",
    "\n",
    "my_tuple = (4, 8, 3)\n",
    "\n",
    "a, b, c = my_tuple\n",
    "\n",
    "print(f\"a = {a}, b = {b}, c = {c} ({my_tuple})\")\n"
   ]
  },
  {
   "cell_type": "code",
   "execution_count": 5,
   "id": "7c938b01",
   "metadata": {},
   "outputs": [
    {
     "name": "stdout",
     "output_type": "stream",
     "text": [
      "Original tuple: (10, 40, 50, 70, 90)\n",
      "Add items in tuple: 20 => (10, 40, 50, 70, 90, 20)\n"
     ]
    }
   ],
   "source": [
    "####5. Write a Python program to add an item in a tuple Sample Output (10, 40, 50, 70, 90) \n",
    "###add items in list = 20 (10, 40, 50, 70, 90, 20)\n",
    "\n",
    "original_tuple = (10, 40, 50, 70, 90)\n",
    "\n",
    "\n",
    "print(f\"Original tuple: {original_tuple}\")\n",
    "\n",
    "new_item = 20\n",
    "new_tuple = original_tuple + (new_item,)\n",
    "\n",
    "\n",
    "print(f\"Add items in tuple: {new_item} => {new_tuple}\")\n"
   ]
  },
  {
   "cell_type": "code",
   "execution_count": 6,
   "id": "bfea77d8",
   "metadata": {},
   "outputs": [
    {
     "name": "stdout",
     "output_type": "stream",
     "text": [
      "Tuple: ('T', 'u', 't', 'o', 'r', ' ', 'J', 'o', 'e', 's')\n",
      "Converted to string: Tutor Joes\n"
     ]
    }
   ],
   "source": [
    "###6. Write a Python program to convert a tuple to a string \n",
    "###Sample Output ('T', 'u', 't', 'o', 'r', ' ', 'J', 'o', 'e', 's') Tutor Joes\n",
    "\n",
    "\n",
    "my_tuple = ('T', 'u', 't', 'o', 'r', ' ', 'J', 'o', 'e', 's')\n",
    "\n",
    "\n",
    "result_string = ''.join(my_tuple)\n",
    "\n",
    "\n",
    "print(f\"Tuple: {my_tuple}\")\n",
    "print(f\"Converted to string: {result_string}\")\n"
   ]
  },
  {
   "cell_type": "code",
   "execution_count": 7,
   "id": "f91c272b",
   "metadata": {},
   "outputs": [
    {
     "name": "stdout",
     "output_type": "stream",
     "text": [
      "Original tuple: ('T', 'u', 't', 'o', 'r', ' ', 'J', 'o', 'e', 's', 'w', 3, 'r', 'e', 's', 'o', 'u', 'r', 'c', 'e')\n",
      "4th Elements From Tuple: o\n",
      "4th Elements From Last Tuple: u\n"
     ]
    }
   ],
   "source": [
    "###7. Write a Python program to get the 4th element and 4th element from last of a tuple \n",
    "##Sample Output ('w', 3, 'r', 'e', 's', 'o', 'u', 'r', 'c', 'e') 4th Elements From Tuple : e 4th Elements From Last Tuple : u\n",
    "\n",
    "\n",
    "my_tuple = ('T', 'u', 't', 'o', 'r', ' ', 'J', 'o', 'e', 's', 'w', 3, 'r', 'e', 's', 'o', 'u', 'r', 'c', 'e')\n",
    "\n",
    "\n",
    "print(f\"Original tuple: {my_tuple}\")\n",
    "\n",
    "\n",
    "fourth_element = my_tuple[3]\n",
    "\n",
    "\n",
    "fourth_from_last_element = my_tuple[-4]\n",
    "\n",
    "\n",
    "print(f\"4th Elements From Tuple: {fourth_element}\")\n",
    "print(f\"4th Elements From Last Tuple: {fourth_from_last_element}\")\n"
   ]
  },
  {
   "cell_type": "code",
   "execution_count": 8,
   "id": "d5aba8aa",
   "metadata": {},
   "outputs": [
    {
     "name": "stdout",
     "output_type": "stream",
     "text": [
      "Original tuple: ('Tutor', 'J', 23, 56.67, [23, 12], True)\n",
      "Copy: ('Tutor', 'J', 23, 56.67, [23, 12], True)\n"
     ]
    }
   ],
   "source": [
    "###8. Write a Python program to create the colon of a tuple \n",
    "##Sample Output (\"Tutor\", 'J', 23 , 56.67 , [23,12] , True) Copy = ('Tutor', 'J', 23, 56.67, [23, 12], True)\n",
    "\n",
    "\n",
    "original_tuple = (\"Tutor\", 'J', 23, 56.67, [23, 12], True)\n",
    "\n",
    "\n",
    "copied_tuple = tuple(original_tuple)\n",
    "\n",
    "\n",
    "print(f\"Original tuple: {original_tuple}\")\n",
    "print(f\"Copy: {copied_tuple}\")\n"
   ]
  },
  {
   "cell_type": "code",
   "execution_count": 9,
   "id": "82ad5ce1",
   "metadata": {},
   "outputs": [
    {
     "name": "stdout",
     "output_type": "stream",
     "text": [
      "Original tuple: (2, 34, 45, 6, 7, 2, 4, 5, 78, 34, 2)\n",
      "Item = 2 | Repeated items of a tuple = 3\n",
      "Item = 34 | Repeated items of a tuple = 2\n"
     ]
    }
   ],
   "source": [
    "###9. Write a Python program to find the repeated items of a tuple \n",
    "###Sample Output (2, 34, 45, 6, 7, 2, 4, 5, 78, 34, 2) item = 2 Repeated items of a tuple = 3\n",
    "\n",
    "\n",
    "my_tuple = (2, 34, 45, 6, 7, 2, 4, 5, 78, 34, 2)\n",
    "\n",
    "\n",
    "print(f\"Original tuple: {my_tuple}\")\n",
    "\n",
    "\n",
    "repeated_items = set(item for item in my_tuple if my_tuple.count(item) > 1)\n",
    "\n",
    "\n",
    "for item in repeated_items:\n",
    "    count = my_tuple.count(item)\n",
    "    print(f\"Item = {item} | Repeated items of a tuple = {count}\")\n"
   ]
  },
  {
   "cell_type": "code",
   "execution_count": 10,
   "id": "2617a635",
   "metadata": {},
   "outputs": [
    {
     "name": "stdout",
     "output_type": "stream",
     "text": [
      "Original tuple: ('T', 'u', 't', 'o', 'r', ' ', 'J', 'o', 'e', 's', 8)\n",
      "8 in Tuple = True\n",
      "'x' in Tuple = False\n"
     ]
    }
   ],
   "source": [
    "###10. Write a Python program to check whether an element exists within a tuple \n",
    "##Sample Output ('T', 'u', 't', 'o', 'r', ' ', 'J', 'o', 'e', 's',8) 8 in Tuple = True 'x' in Tuple = False\n",
    "\n",
    "\n",
    "my_tuple = ('T', 'u', 't', 'o', 'r', ' ', 'J', 'o', 'e', 's', 8)\n",
    "\n",
    "print(f\"Original tuple: {my_tuple}\")\n",
    "\n",
    "\n",
    "element_to_check1 = 8\n",
    "element_to_check2 = 'x'\n",
    "\n",
    "\n",
    "print(f\"{element_to_check1} in Tuple = {element_to_check1 in my_tuple}\")\n",
    "print(f\"'{element_to_check2}' in Tuple = {element_to_check2 in my_tuple}\")\n"
   ]
  },
  {
   "cell_type": "code",
   "execution_count": 11,
   "id": "cc532533",
   "metadata": {},
   "outputs": [
    {
     "name": "stdout",
     "output_type": "stream",
     "text": [
      "Original list: [12, 45, 87, 54, 89, 4]\n",
      "Converted to tuple: (12, 45, 87, 54, 89, 4)\n"
     ]
    }
   ],
   "source": [
    "###11. Write a Python program to convert a list to a tuple Sample Output [12, 45, 87, 54, 89, 4] (12, 45, 87, 54, 89, 4)\n",
    "\n",
    "\n",
    "\n",
    "my_list = [12, 45, 87, 54, 89, 4]\n",
    "\n",
    "\n",
    "my_tuple = tuple(my_list)\n",
    "\n",
    "\n",
    "print(f\"Original list: {my_list}\")\n",
    "print(f\"Converted to tuple: {my_tuple}\")\n"
   ]
  },
  {
   "cell_type": "code",
   "execution_count": 12,
   "id": "f60cf48b",
   "metadata": {},
   "outputs": [
    {
     "name": "stdout",
     "output_type": "stream",
     "text": [
      "Original tuple: (23, 45, 56, 68, 10, 45, 7, 9)\n",
      "Remove = 56 => (23, 45, 68, 10, 45, 7, 9)\n"
     ]
    }
   ],
   "source": [
    "###12. Write a Python program to remove an item from a tuple \n",
    "###Sample Output (23, 45, 56, 68, 10, 45, 7, 9) Remove = 56 (23, 45, 68, 10, 45, 7, 9)\n",
    "\n",
    "\n",
    "my_tuple = (23, 45, 56, 68, 10, 45, 7, 9)\n",
    "\n",
    "\n",
    "print(f\"Original tuple: {my_tuple}\")\n",
    "\n",
    "\n",
    "item_to_remove = 56\n",
    "new_tuple = tuple(item for item in my_tuple if item != item_to_remove)\n",
    "\n",
    "\n",
    "print(f\"Remove = {item_to_remove} => {new_tuple}\")\n"
   ]
  },
  {
   "cell_type": "code",
   "execution_count": 13,
   "id": "8d7f6858",
   "metadata": {},
   "outputs": [
    {
     "name": "stdout",
     "output_type": "stream",
     "text": [
      "Original tuple: (10, 20, 30, 40, 50, 60, 70, 80, 90, 100)\n",
      "Sliced tuple: (40, 50, 60, 70, 80)\n"
     ]
    }
   ],
   "source": [
    "###13. Write a Python program to slice a tuple Sample Output (10, 20, 30, 40, 50, 60, 70, 80, 90, 100) (40, 50, 60, 70, 80)\n",
    "\n",
    "\n",
    "my_tuple = (10, 20, 30, 40, 50, 60, 70, 80, 90, 100)\n",
    "\n",
    "\n",
    "print(f\"Original tuple: {my_tuple}\")\n",
    "\n",
    "\n",
    "sliced_tuple = my_tuple[3:8]  # This extracts elements from index 3 to index 7 (not inclusive of index 8)\n",
    "\n",
    "\n",
    "print(f\"Sliced tuple: {sliced_tuple}\")\n"
   ]
  },
  {
   "cell_type": "code",
   "execution_count": 14,
   "id": "07573117",
   "metadata": {},
   "outputs": [
    {
     "name": "stdout",
     "output_type": "stream",
     "text": [
      "Original tuple: (23, 45, 67, 78, 89, 90, 34, 56)\n",
      "Item = 78 | Index Number: 3\n"
     ]
    }
   ],
   "source": [
    "###14. Write a Python program to find the index of an item of a tuple \n",
    "##Sample Output\n",
    "##(23, 45, 67, 78, 89, 90, 34, 56) Item = 78 Index Number : 3\n",
    "\n",
    "\n",
    "my_tuple = (23, 45, 67, 78, 89, 90, 34, 56)\n",
    "\n",
    "\n",
    "print(f\"Original tuple: {my_tuple}\")\n",
    "\n",
    "\n",
    "item_to_find = 78\n",
    "index_number = my_tuple.index(item_to_find)\n",
    "\n",
    "\n",
    "print(f\"Item = {item_to_find} | Index Number: {index_number}\")\n"
   ]
  },
  {
   "cell_type": "code",
   "execution_count": 15,
   "id": "11f87a33",
   "metadata": {},
   "outputs": [
    {
     "name": "stdout",
     "output_type": "stream",
     "text": [
      "Original tuple: ('Lion', 'Cat', 'Dog', 'Panda', 'Tiger', 'Fox')\n",
      "Length: 6\n"
     ]
    }
   ],
   "source": [
    "###15. Write a Python program to find the length of a tuple \n",
    "###Sample Output (\"Lion\", \"Cat\", \"Dog\", \"Panda\", \"Tiger\", \"Fox\") Length : 6\n",
    "\n",
    "\n",
    "my_tuple = (\"Lion\", \"Cat\", \"Dog\", \"Panda\", \"Tiger\", \"Fox\")\n",
    "\n",
    "\n",
    "print(f\"Original tuple: {my_tuple}\")\n",
    "\n",
    "\n",
    "length_of_tuple = len(my_tuple)\n",
    "\n",
    "\n",
    "print(f\"Length: {length_of_tuple}\")\n"
   ]
  },
  {
   "cell_type": "code",
   "execution_count": 16,
   "id": "630f14ea",
   "metadata": {},
   "outputs": [
    {
     "name": "stdout",
     "output_type": "stream",
     "text": [
      "Original list of tuples: (('Name', 'Ram'), ('Age', 23), ('City', 'Salem'), ('Mark', 422))\n",
      "Converted to dictionary: {'Name': 'Ram', 'Age': 23, 'City': 'Salem', 'Mark': 422}\n"
     ]
    }
   ],
   "source": [
    "###16. Write a Python program to convert a tuple to a dictionary \n",
    "##Sample Output ( (\"Name\", \"Ram\"), (\"Age\", 23), (\"City\", \"Salem\"), (\"Mark\", 422) )\n",
    "##{ 'Name': 'Ram', 'Age': 23, 'City': 'Salem', 'Mark': 422 }\n",
    "\n",
    "\n",
    "tuple_list = ((\"Name\", \"Ram\"), (\"Age\", 23), (\"City\", \"Salem\"), (\"Mark\", 422))\n",
    "\n",
    "\n",
    "print(f\"Original list of tuples: {tuple_list}\")\n",
    "\n",
    "\n",
    "converted_dict = dict(tuple_list)\n",
    "\n",
    "\n",
    "print(f\"Converted to dictionary: {converted_dict}\")\n"
   ]
  },
  {
   "cell_type": "code",
   "execution_count": 17,
   "id": "8ec90a51",
   "metadata": {},
   "outputs": [
    {
     "name": "stdout",
     "output_type": "stream",
     "text": [
      "Original list of tuples: [(10, 30), (60, 90), (20, 50)]\n",
      "Unzipped list 1: [10, 60, 20]\n",
      "Unzipped list 2: [30, 90, 50]\n"
     ]
    }
   ],
   "source": [
    "###17. Write a Python program to unzip a list of tuples into individual lists \n",
    "###Sample Output [ (10,30), (60,90), (20,50) ] [ (10, 60, 20), (30, 90, 50) ]\n",
    "\n",
    "\n",
    "tuple_list = [(10, 30), (60, 90), (20, 50)]\n",
    "\n",
    "\n",
    "print(f\"Original list of tuples: {tuple_list}\")\n",
    "\n",
    "\n",
    "unzipped_list1, unzipped_list2 = zip(*tuple_list)\n",
    "\n",
    "\n",
    "print(f\"Unzipped list 1: {list(unzipped_list1)}\")\n",
    "print(f\"Unzipped list 2: {list(unzipped_list2)}\")\n"
   ]
  },
  {
   "cell_type": "code",
   "execution_count": 18,
   "id": "beb952c4",
   "metadata": {},
   "outputs": [
    {
     "name": "stdout",
     "output_type": "stream",
     "text": [
      "Before Reverse: (23, 45, 67, 78, 89, 90, 34, 56)\n",
      "After Reverse: (56, 34, 90, 89, 78, 67, 45, 23)\n"
     ]
    }
   ],
   "source": [
    "##18. Write a Python program to reverse a tuple \n",
    "##Sample Output Before Reverse : ( 23, 45, 67, 78, 89, 90, 34, 56 ) After Reverse : ( 56, 34, 90, 89, 78, 67, 45, 23 )\n",
    "\n",
    "\n",
    "my_tuple = (23, 45, 67, 78, 89, 90, 34, 56)\n",
    "\n",
    "\n",
    "print(f\"Before Reverse: {my_tuple}\")\n",
    "\n",
    "\n",
    "reversed_tuple = my_tuple[::-1]\n",
    "\n",
    "\n",
    "print(f\"After Reverse: {reversed_tuple}\")\n"
   ]
  },
  {
   "cell_type": "code",
   "execution_count": 19,
   "id": "3199b083",
   "metadata": {},
   "outputs": [
    {
     "name": "stdout",
     "output_type": "stream",
     "text": [
      "Original list of tuples: [('Name', 'Ram'), ('Name', 'Pooja'), ('Age', 21), ('Gender', 'Male'), ('Age', 23), ('Gender', 'Female')]\n",
      "Converted to dictionary: {'Name': ['Ram', 'Pooja'], 'Age': [21, 23], 'Gender': ['Male', 'Female']}\n"
     ]
    }
   ],
   "source": [
    "####19. Write a Python program to convert a list of tuples into a dictionary \n",
    "###Sample Output [ (\"Name\", \"Ram\"), (\"Name\", \"Pooja\"), (\"Age\", 21), (\"Gender\", \"Male\"), (\"Age\", 23),\n",
    "###(\"Gender\", \"Female\") ] { 'Name' : ['Ram', 'Pooja'], 'Age' : [21, 23], 'Gender' : ['Male', 'Female'] }\n",
    "\n",
    "\n",
    "tuple_list = [\n",
    "    (\"Name\", \"Ram\"),\n",
    "    (\"Name\", \"Pooja\"),\n",
    "    (\"Age\", 21),\n",
    "    (\"Gender\", \"Male\"),\n",
    "    (\"Age\", 23),\n",
    "    (\"Gender\", \"Female\")\n",
    "]\n",
    "\n",
    "\n",
    "print(f\"Original list of tuples: {tuple_list}\")\n",
    "\n",
    "\n",
    "converted_dict = {}\n",
    "for key, value in tuple_list:\n",
    "    if key not in converted_dict:\n",
    "        converted_dict[key] = []\n",
    "    converted_dict[key].append(value)\n",
    "\n",
    "\n",
    "print(f\"Converted to dictionary: {converted_dict}\")\n"
   ]
  },
  {
   "cell_type": "code",
   "execution_count": 20,
   "id": "752ac6ab",
   "metadata": {},
   "outputs": [
    {
     "name": "stdout",
     "output_type": "stream",
     "text": [
      "Fruits ('watermelons', 'strawberries', 'mangoes', 'bananas', 'grapefruits', 'oranges', 'apples', 'pears')\n"
     ]
    }
   ],
   "source": [
    "###20. Write a Python program to print a tuple with string formatting \n",
    "###Sample Output (\"watermelons\", \"strawberries\", \"mangoes\", \"bananas\", \"grapefruits\", \"oranges\", \"apples\", \"pears\") \n",
    "##Fruits ('watermelons', 'strawberries', 'mangoes', 'bananas', 'grapefruits', 'oranges', 'apples', 'pears')\n",
    "\n",
    "\n",
    "fruits_tuple = (\"watermelons\", \"strawberries\", \"mangoes\", \"bananas\", \"grapefruits\", \"oranges\", \"apples\", \"pears\")\n",
    "\n",
    "\n",
    "print(f\"Fruits {fruits_tuple}\")\n"
   ]
  },
  {
   "cell_type": "code",
   "execution_count": 21,
   "id": "77575e0b",
   "metadata": {},
   "outputs": [
    {
     "name": "stdout",
     "output_type": "stream",
     "text": [
      "Create a tuple with Item = 23 Type = <class 'tuple'>\n"
     ]
    }
   ],
   "source": [
    "###21. Create a tuple with single item 23 Sample Output Create a tuple with Item = 23 Type = tuple\n",
    "\n",
    "\n",
    "my_tuple = (23,)\n",
    "\n",
    "\n",
    "print(f\"Create a tuple with Item = {my_tuple[0]} Type = {type(my_tuple)}\")\n"
   ]
  },
  {
   "cell_type": "code",
   "execution_count": 22,
   "id": "fd55fdce",
   "metadata": {},
   "outputs": [
    {
     "name": "stdout",
     "output_type": "stream",
     "text": [
      "Tuple = (11, 22, 333, 44, 55)\n",
      "11 22 333\n",
      "44 55\n"
     ]
    }
   ],
   "source": [
    "###22. Unpack the tuple into 5 variables Sample Output Tuple = (11, 22, 333, 44, 55) 11 22 33 44 55\n",
    "\n",
    "\n",
    "my_tuple = (11, 22, 333, 44, 55)\n",
    "\n",
    "\n",
    "print(f\"Tuple = {my_tuple}\")\n",
    "\n",
    "var1, var2, var3, var4, var5 = my_tuple\n",
    "\n",
    "\n",
    "print(f\"{var1} {var2} {var3}\\n{var4} {var5}\")\n"
   ]
  },
  {
   "cell_type": "code",
   "execution_count": 23,
   "id": "bc74c8bf",
   "metadata": {},
   "outputs": [
    {
     "name": "stdout",
     "output_type": "stream",
     "text": [
      "Before Swap A : (10,)\n",
      "Before Swap B : (20,)\n",
      "After Swap A : (20,)\n",
      "After Swap B : (10,)\n"
     ]
    }
   ],
   "source": [
    "###23. Swap two tuples in Python Sample Output Before Swap A : 10 Before Swap B : 20 After Swap A : 20 After Swap B : 10\n",
    "\n",
    "\n",
    "tuple_a = (10,)\n",
    "tuple_b = (20,)\n",
    "\n",
    "\n",
    "print(f\"Before Swap A : {tuple_a}\")\n",
    "print(f\"Before Swap B : {tuple_b}\")\n",
    "\n",
    "\n",
    "temp = tuple_a\n",
    "tuple_a = tuple_b\n",
    "tuple_b = temp\n",
    "\n",
    "\n",
    "print(f\"After Swap A : {tuple_a}\")\n",
    "print(f\"After Swap B : {tuple_b}\")\n"
   ]
  },
  {
   "cell_type": "code",
   "execution_count": 24,
   "id": "5b37589a",
   "metadata": {},
   "outputs": [
    {
     "name": "stdout",
     "output_type": "stream",
     "text": [
      "Original tuple: (10, 20, 30, 40, 50, 60, 70, 80, 90, 100)\n",
      "Copied elements: (30, 40, 50, 60, 70, 80)\n"
     ]
    }
   ],
   "source": [
    "###24. Copy specific elements from one tuple to a new tuple \n",
    "##Sample Output (10, 20, 30, 40, 50, 60, 70, 80, 90, 100) (30, 40, 50, 60, 70, 80)\n",
    "\n",
    "\n",
    "original_tuple = (10, 20, 30, 40, 50, 60, 70, 80, 90, 100)\n",
    "\n",
    "\n",
    "print(f\"Original tuple: {original_tuple}\")\n",
    "\n",
    "\n",
    "new_tuple = original_tuple[2:8]\n",
    "\n",
    "\n",
    "print(f\"Copied elements: {new_tuple}\")\n"
   ]
  },
  {
   "cell_type": "code",
   "execution_count": 25,
   "id": "46fec90c",
   "metadata": {},
   "outputs": [
    {
     "name": "stdout",
     "output_type": "stream",
     "text": [
      "Original tuple: (10, 20, 30, 40, 50)\n",
      "Modified tuple: (10, 20, 33, 40, 50)\n"
     ]
    }
   ],
   "source": [
    "##25. Modify the tuple Sample Output ( 10, 20, 30, 40, 50 ) ( 10, 20, 33, 40, 50 )\n",
    "\n",
    "\n",
    "original_tuple = (10, 20, 30, 40, 50)\n",
    "\n",
    "print(f\"Original tuple: {original_tuple}\")\n",
    "\n",
    "list_version = list(original_tuple)\n",
    "\n",
    "list_version[2] = 33\n",
    "\n",
    "modified_tuple = tuple(list_version)\n",
    "\n",
    "print(f\"Modified tuple: {modified_tuple}\")\n"
   ]
  },
  {
   "cell_type": "code",
   "execution_count": 26,
   "id": "ec0e634b",
   "metadata": {},
   "outputs": [
    {
     "name": "stdout",
     "output_type": "stream",
     "text": [
      "Original tuple: (('a', 53), ('b', 37), ('c', 23), ('d', 1), ('e', 18))\n",
      "Sorted tuple: (('d', 1), ('e', 18), ('c', 23), ('b', 37), ('a', 53))\n"
     ]
    }
   ],
   "source": [
    "###26. Sort a tuple of tuples by 2nd item \n",
    "###Sample Output ( ('a', 53), ('b', 37), ('c', 23), ('d', 1), ('e', 18) ) ( ('d', 1), ('e', 18), \n",
    "##('c', 23), ('b', 37), ('a', 53) )\n",
    "\n",
    "\n",
    "original_tuple = (('a', 53), ('b', 37), ('c', 23), ('d', 1), ('e', 18))\n",
    "\n",
    "print(f\"Original tuple: {original_tuple}\")\n",
    "\n",
    "sorted_tuple = tuple(sorted(original_tuple, key=lambda x: x[1]))\n",
    "\n",
    "print(f\"Sorted tuple: {sorted_tuple}\")\n"
   ]
  },
  {
   "cell_type": "code",
   "execution_count": 27,
   "id": "31e89e52",
   "metadata": {},
   "outputs": [
    {
     "name": "stdout",
     "output_type": "stream",
     "text": [
      "Original tuple: (30, 50, 10, 30, 70, 50, 30)\n",
      "Number of Counts 30: 3\n"
     ]
    }
   ],
   "source": [
    "###27. Counts the number of occurrences of item 30 from a tuple\n",
    "###Sample Output (30, 50, 10, 30, 70, 50, 30) Number of Counts 30 : 3\n",
    "\n",
    "\n",
    "my_tuple = (30, 50, 10, 30, 70, 50, 30)\n",
    "\n",
    "print(f\"Original tuple: {my_tuple}\")\n",
    "\n",
    "count_of_30 = my_tuple.count(30)\n",
    "\n",
    "print(f\"Number of Counts 30: {count_of_30}\")\n"
   ]
  },
  {
   "cell_type": "code",
   "execution_count": 28,
   "id": "d98deb66",
   "metadata": {},
   "outputs": [
    {
     "name": "stdout",
     "output_type": "stream",
     "text": [
      "A = (2, 5, 8)\n",
      "B = (6, 5, 1)\n",
      "C = (1, 4, 7)\n",
      "D = (3, 7, 2)\n",
      "Sum of Elements = (12, 21, 18)\n"
     ]
    }
   ],
   "source": [
    "###28. Write a Python program to compute element-wise sum of given tuples \n",
    "##Sample Output A = (2, 5, 8) B = (6, 5, 1) C = (1, 4, 7) D = (3, 7, 2) Sum of Elements = (12, 21, 18)\n",
    "\n",
    "\n",
    "A = (2, 5, 8)\n",
    "B = (6, 5, 1)\n",
    "C = (1, 4, 7)\n",
    "D = (3, 7, 2)\n",
    "\n",
    "print(f\"A = {A}\")\n",
    "print(f\"B = {B}\")\n",
    "print(f\"C = {C}\")\n",
    "print(f\"D = {D}\")\n",
    "\n",
    "\n",
    "sum_of_elements = tuple(sum(x) for x in zip(A, B, C, D))\n",
    "\n",
    "\n",
    "print(f\"Sum of Elements = {sum_of_elements}\")\n"
   ]
  },
  {
   "cell_type": "code",
   "execution_count": 29,
   "id": "b9b364c3",
   "metadata": {},
   "outputs": [
    {
     "name": "stdout",
     "output_type": "stream",
     "text": [
      "Original tuple: [('Ram', '89.20'), ('Siva', '76.45'), ('Pooja', '84.40'), ('Tara', '68.43'), ('Jeeva', '91.40')]\n",
      "Sorted tuple: [('Jeeva', '91.40'), ('Ram', '89.20'), ('Pooja', '84.40'), ('Siva', '76.45'), ('Tara', '68.43')]\n"
     ]
    }
   ],
   "source": [
    "####29. Write a Python program to sort a tuple by its float element \n",
    "###Sample Output [ ('Ram', '89.20'), ('Siva', '76.45'), ('Pooja', '84.40'), \n",
    "###('Tara', '68.43'), ('Jeeva', '91.40') ] [ ('Jeeva', '91.40'), ('Ram', '89.20'), ('Pooja', '84.40'),\n",
    "##('Siva', '76.45'), ('Tara', '68.43') ]\n",
    "\n",
    "\n",
    "original_tuple = [('Ram', '89.20'), ('Siva', '76.45'), ('Pooja', '84.40'), ('Tara', '68.43'), ('Jeeva', '91.40')]\n",
    "\n",
    "print(f\"Original tuple: {original_tuple}\")\n",
    "\n",
    "sorted_tuple = sorted(original_tuple, key=lambda x: float(x[1]), reverse=True)\n",
    "\n",
    "print(f\"Sorted tuple: {sorted_tuple}\")\n"
   ]
  },
  {
   "cell_type": "code",
   "execution_count": 30,
   "id": "fd1c298f",
   "metadata": {},
   "outputs": [
    {
     "name": "stdout",
     "output_type": "stream",
     "text": [
      "Original list: [(5, 2, 3), (4, 7, 6), (8, 9, 6)]\n",
      "Replace value = 10 [(5, 2, 10), (4, 7, 10), (8, 9, 10)]\n"
     ]
    }
   ],
   "source": [
    "###30. Write a Python program to replace last value of tuples in a list \n",
    "##Sample Output [(5, 2, 3), (4, 7, 6), (8, 9, 6)] Replace value = 10 [(5, 2, 10),(4, 7, 10),(8, 9, 10)]\n",
    "\n",
    "\n",
    "original_list = [(5, 2, 3), (4, 7, 6), (8, 9, 6)]\n",
    "\n",
    "print(f\"Original list: {original_list}\")\n",
    "\n",
    "replace_value = 10\n",
    "\n",
    "modified_list = [(x[0], x[1], replace_value) for x in original_list]\n",
    "\n",
    "print(f\"Replace value = {replace_value} {modified_list}\")\n"
   ]
  },
  {
   "cell_type": "code",
   "execution_count": 31,
   "id": "c31a41ad",
   "metadata": {},
   "outputs": [
    {
     "name": "stdout",
     "output_type": "stream",
     "text": [
      "Original list: [(47, 23), (3, 78), (22, 53), (121, 45), (7,)]\n",
      "K = 2 [(47, 23), (22, 53)]\n"
     ]
    }
   ],
   "source": [
    "###31. Write a Python program to Extract tuples having K digit elements \n",
    "###Sample Output [ (47, 23), (3, 78), (22, 53), (121, 45), (7,) ] K = 2 [ (47, 23), (22, 53) ]\n",
    "\n",
    "\n",
    "original_list = [(47, 23), (3, 78), (22, 53), (121, 45), (7,)]\n",
    "\n",
    "print(f\"Original list: {original_list}\")\n",
    "\n",
    "K = 2\n",
    "\n",
    "filtered_list = [tuple_elem for tuple_elem in original_list if all(len(str(item)) == K for item in tuple_elem)]\n",
    "\n",
    "print(f\"K = {K} {filtered_list}\")\n"
   ]
  },
  {
   "cell_type": "code",
   "execution_count": 32,
   "id": "28177fee",
   "metadata": {},
   "outputs": [
    {
     "name": "stdout",
     "output_type": "stream",
     "text": [
      "Original list: [(18, 23), (2, 9), (7, 6), (9, 2), (10, 2), (23, 18)]\n",
      "{(2, 9), (23, 18), (18, 23), (9, 2)}\n"
     ]
    }
   ],
   "source": [
    "###32. Write a Python program to Extract Symmetric Tuples \n",
    "##Sample Output [ (18, 23), (2, 9), (7, 6), (9, 2), (10, 2), (23, 18) ] { (2, 9), (18, 23) }\n",
    "\n",
    "\n",
    "original_list = [(18, 23), (2, 9), (7, 6), (9, 2), (10, 2), (23, 18)]\n",
    "\n",
    "print(f\"Original list: {original_list}\")\n",
    "\n",
    "symmetric_tuples = set()\n",
    "for tuple_elem in original_list:\n",
    "    reversed_tuple = tuple(reversed(tuple_elem))\n",
    "    if reversed_tuple in original_list:\n",
    "        symmetric_tuples.add(tuple_elem)\n",
    "\n",
    "print(f\"{symmetric_tuples}\")\n"
   ]
  },
  {
   "cell_type": "code",
   "execution_count": 33,
   "id": "6f80f61d",
   "metadata": {},
   "outputs": [
    {
     "name": "stdout",
     "output_type": "stream",
     "text": [
      "Original list: [(4, 5, 5, 7), (1, 3, 7, 4), (19, 4, 5, 3), (1, 2)]\n",
      "Sorted list: [(1, 2), (4, 5, 5, 7), (1, 3, 7, 4), (19, 4, 5, 3)]\n"
     ]
    }
   ],
   "source": [
    "###33. Write a Python program to Sort Tuples by their Maximum element \n",
    "##Sample Output [ (4, 5, 5, 7), (1, 3, 7, 4), (19, 4, 5, 3), (1, 2) ] [ (19, 4, 5, 3), (4, 5, 5, 7), (1, 3, 7, 4), (1, 2) ]\n",
    "\n",
    "\n",
    "original_list = [(4, 5, 5, 7), (1, 3, 7, 4), (19, 4, 5, 3), (1, 2)]\n",
    "\n",
    "print(f\"Original list: {original_list}\")\n",
    "\n",
    "sorted_list = sorted(original_list, key=lambda x: max(x))\n",
    "\n",
    "print(f\"Sorted list: {sorted_list}\")\n"
   ]
  },
  {
   "cell_type": "code",
   "execution_count": 34,
   "id": "46e580f8",
   "metadata": {},
   "outputs": [
    {
     "name": "stdout",
     "output_type": "stream",
     "text": [
      "Original tuple: (10, 20, (30,), 40, (50, 60), 70)\n",
      "Removal of Nested Tuple : (10, 20, 30, 40, 50, 60, 70)\n"
     ]
    }
   ],
   "source": [
    "##34. Write a Python program to Remove nested records from tuple \n",
    "##Sample Output (10, 20, (30,), 40, (50, 60), 70) Removal of Nested Tuple : (10, 20, 40, 70)\n",
    "\n",
    "original_tuple = (10, 20, (30,), 40, (50, 60), 70)\n",
    "\n",
    "print(f\"Original tuple: {original_tuple}\")\n",
    "\n",
    "flat_tuple = tuple(item for sublist in original_tuple for item in (sublist if isinstance(sublist, tuple) else (sublist,)))\n",
    "\n",
    "print(f\"Removal of Nested Tuple : {flat_tuple}\")\n"
   ]
  },
  {
   "cell_type": "code",
   "execution_count": 35,
   "id": "9d4e3a53",
   "metadata": {},
   "outputs": [
    {
     "name": "stdout",
     "output_type": "stream",
     "text": [
      "Original tuple: (10, 20, (20, 10), 30, (40, 50, 60), 60, 70)\n",
      "Elements Frequency : {10: 2, 20: 2, 30: 1, 40: 1, 50: 1, 60: 2, 70: 1}\n"
     ]
    }
   ],
   "source": [
    "##35. Write a Python program to Elements Frequency in Mixed Nested Tuple\n",
    "##Sample Output (10, 20, (20, 10), 30, (40, 50, 60), 60, 70) \n",
    "##Elements Frequency : {10: 2, 20: 2, 30: 1, 40: 1, 50: 1, 60: 2, 70: 1}\n",
    "\n",
    "\n",
    "mixed_nested_tuple = (10, 20, (20, 10), 30, (40, 50, 60), 60, 70)\n",
    "\n",
    "print(f\"Original tuple: {mixed_nested_tuple}\")\n",
    "\n",
    "frequency_dict = {}\n",
    "for item in mixed_nested_tuple:\n",
    "    if isinstance(item, tuple):\n",
    "        for sub_item in item:\n",
    "            frequency_dict[sub_item] = frequency_dict.get(sub_item, 0) + 1\n",
    "    else:\n",
    "        frequency_dict[item] = frequency_dict.get(item, 0) + 1\n",
    "\n",
    "print(f\"Elements Frequency : {frequency_dict}\")\n"
   ]
  },
  {
   "cell_type": "code",
   "execution_count": 36,
   "id": "eeb0efd6",
   "metadata": {},
   "outputs": [
    {
     "name": "stdout",
     "output_type": "stream",
     "text": [
      "Original list of nested tuples: [(1, 3, 5), (4, 5, 7), (1, 2, 6), (10, 9), (10,)]\n",
      "Unique Element in Nested Tuples : [1, 2, 3, 4, 5, 6, 7, 9, 10]\n"
     ]
    }
   ],
   "source": [
    "###36. Write a Python program to get unique elements in nested tuple \n",
    "##Sample Output [ (1, 3, 5), (4, 5, 7), (1, 2, 6), (10, 9), (10,) ] \n",
    "##Unique Element in Nested Tuples : [1, 3, 5, 4, 7, 2, 6, 10, 9]\n",
    "\n",
    "\n",
    "nested_tuples_list = [(1, 3, 5), (4, 5, 7), (1, 2, 6), (10, 9), (10,)]\n",
    "\n",
    "print(f\"Original list of nested tuples: {nested_tuples_list}\")\n",
    "\n",
    "unique_elements = set(item for nested_tuple in nested_tuples_list for item in nested_tuple)\n",
    "\n",
    "print(f\"Unique Element in Nested Tuples : {list(unique_elements)}\")\n"
   ]
  },
  {
   "cell_type": "code",
   "execution_count": 37,
   "id": "272fbf65",
   "metadata": {},
   "outputs": [
    {
     "name": "stdout",
     "output_type": "stream",
     "text": [
      "Tuple 1 : ((18, 23, 2, 9),)\n",
      "Tuple 2 : ((10, 3, 11),)\n",
      "Tuples after Concatenating : ((18, 23, 2, 9), (10, 3, 11))\n"
     ]
    }
   ],
   "source": [
    "###37. Write a Python program to Concatenate tuples to nested tuples \n",
    "#Sample Output Tuple 1 : ((18, 23, 2, 9),) Tuple 2 : ((10, 3, 11),) Tuples after Concatenating : ((18, 23, 2, 9), (10, 3, 11))\n",
    "\n",
    "\n",
    "tuple1 = ((18, 23, 2, 9),)\n",
    "tuple2 = ((10, 3, 11),)\n",
    "\n",
    "\n",
    "print(f\"Tuple 1 : {tuple1}\")\n",
    "print(f\"Tuple 2 : {tuple2}\")\n",
    "\n",
    "\n",
    "concatenated_tuple = tuple1 + tuple2\n",
    "\n",
    "\n",
    "print(f\"Tuples after Concatenating : {concatenated_tuple}\")\n"
   ]
  },
  {
   "cell_type": "code",
   "execution_count": 38,
   "id": "85e59eaf",
   "metadata": {},
   "outputs": [
    {
     "name": "stdout",
     "output_type": "stream",
     "text": [
      "Original List of tuples: [(2, 7), (3, 7), (2, 5), (8, 7), (6, 5), (9, 8)]\n",
      "Sorted List of tuples : [(2, 7), (3, 7), (2, 5), (8, 7), (6, 5), (9, 8)]\n"
     ]
    }
   ],
   "source": [
    "###38. Write a Python program to Sort by Frequency of second element in Tuple List \n",
    "##Sample Output [ (2, 7), (3, 7), (2, 5), (8, 7), (6, 5), (9, 8) ] \n",
    "##Sorted List of tuples : [ (2, 7), (3, 7), (8, 7), (2, 5), (6, 5), (9, 8) ]\n",
    "\n",
    "tuple_list = [(2, 7), (3, 7), (2, 5), (8, 7), (6, 5), (9, 8)]\n",
    "\n",
    "print(f\"Original List of tuples: {tuple_list}\")\n",
    "\n",
    "\n",
    "sorted_list = sorted(tuple_list, key=lambda x: tuple_list.count((x[0], x[1])))\n",
    "\n",
    "print(f\"Sorted List of tuples : {sorted_list}\")\n"
   ]
  },
  {
   "cell_type": "code",
   "execution_count": 39,
   "id": "fd0869f5",
   "metadata": {},
   "outputs": [
    {
     "name": "stdout",
     "output_type": "stream",
     "text": [
      "Tuple before sorting list: ([10, 50, 60], [80, 20, 30], [70, 100, 40], [90])\n",
      "Tuple after sorting list : ([10, 50, 60], [80, 20, 30], [70, 100, 40], [90])\n"
     ]
    }
   ],
   "source": [
    "###39. Write a Python program to Sort lists in tuple \n",
    "##Sample Output ( [10, 50, 60], [80, 20, 30], [70, 100, 40], (90,) ) \n",
    "##Tuple after sorting list : ( [10, 50, 60], [20, 30, 80], [40, 70, 100], [90] )\n",
    "\n",
    "\n",
    "original_tuple = ([10, 50, 60], [80, 20, 30], [70, 100, 40], [90])\n",
    "\n",
    "print(f\"Tuple before sorting list: {original_tuple}\")\n",
    "\n",
    "sorted_tuple = tuple(sorted(original_tuple, key=lambda x: sorted(x)))\n",
    "\n",
    "print(f\"Tuple after sorting list : {sorted_tuple}\")\n"
   ]
  },
  {
   "cell_type": "code",
   "execution_count": 40,
   "id": "dffb9c7b",
   "metadata": {},
   "outputs": [
    {
     "name": "stdout",
     "output_type": "stream",
     "text": [
      "Original Tuple List: [('B', 68), ('D', 70), ('A', 67), ('C', 69)]\n",
      "Ordered Tuple List : [('A', 67), ('B', 68), ('C', 69), ('D', 70)]\n"
     ]
    }
   ],
   "source": [
    "####40. Write a Python program to Order Tuples using external List \n",
    "##Sample Output [ ('B', 68), ('D', 70), ('A', 67), ('C', 69) ] \n",
    "##Ordered Tuple List : [ ('A', 67), ('B', 68), ('C', 69), ('D', 70) ]\n",
    "\n",
    "\n",
    "tuple_list = [('B', 68), ('D', 70), ('A', 67), ('C', 69)]\n",
    "external_keys = ['A', 'B', 'C', 'D']\n",
    "\n",
    "print(f\"Original Tuple List: {tuple_list}\")\n",
    "\n",
    "ordered_tuple_list = sorted(tuple_list, key=lambda x: external_keys.index(x[0]))\n",
    "\n",
    "print(f\"Ordered Tuple List : {ordered_tuple_list}\")\n"
   ]
  },
  {
   "cell_type": "code",
   "execution_count": 41,
   "id": "962fd8ff",
   "metadata": {},
   "outputs": [
    {
     "name": "stdout",
     "output_type": "stream",
     "text": [
      "Original Tuple List: [('B', 68), ('D', 70), ('A', 67), ('C', 69)]\n",
      "List of kth elements to filter = [67, 70, 71, 75]\n",
      "Kth element index = 1\n",
      "Filtered tuples : [('D', 70), ('A', 67)]\n"
     ]
    }
   ],
   "source": [
    "###41. Write a Python program to Filter Tuples by Kth element from List \n",
    "###Sample Output [ ('B', 68), ('D', 70), ('A', 67), ('C', 69) ] \n",
    "##List of kth elements to filter = [67 , 70 , 71, 75] Kth element index = 1 Filtered tuples : [('D', 70), ('A', 67)]\n",
    "\n",
    "\n",
    "tuple_list = [('B', 68), ('D', 70), ('A', 67), ('C', 69)]\n",
    "kth_elements_to_filter = [67, 70, 71, 75]\n",
    "kth_element_index = 1\n",
    "\n",
    "print(f\"Original Tuple List: {tuple_list}\")\n",
    "\n",
    "filtered_tuples = [tup for tup in tuple_list if tup[kth_element_index] in kth_elements_to_filter]\n",
    "\n",
    "print(f\"List of kth elements to filter = {kth_elements_to_filter}\")\n",
    "print(f\"Kth element index = {kth_element_index}\")\n",
    "print(f\"Filtered tuples : {filtered_tuples}\")\n"
   ]
  },
  {
   "cell_type": "code",
   "execution_count": 42,
   "id": "550c046d",
   "metadata": {},
   "outputs": [
    {
     "name": "stdout",
     "output_type": "stream",
     "text": [
      "Given Tuple = (20, 2)\n",
      "Kth Element Index = 1\n",
      "Tuple List: [(23, 18), (9, 2), (2, 3), (9, 18), (23, 2)]\n",
      "Nearest Tuple : (9, 2)\n"
     ]
    }
   ],
   "source": [
    "###42. Write a Python program to Closest Pair to Kth index element in Tuple \n",
    "##Sample Output [ (23, 18), (9, 2), (2, 3), (9, 18), (23, 2) ]\n",
    "##Given Tuple = (20, 2) Kth Element Index = 1 Nearest Tuple : (23, 18)\n",
    "\n",
    "tuple_list = [(23, 18), (9, 2), (2, 3), (9, 18), (23, 2)]\n",
    "given_tuple = (20, 2)\n",
    "kth_element_index = 1\n",
    "\n",
    "print(f\"Given Tuple = {given_tuple}\")\n",
    "print(f\"Kth Element Index = {kth_element_index}\")\n",
    "print(f\"Tuple List: {tuple_list}\")\n",
    "\n",
    "nearest_tuple = min(tuple_list, key=lambda x: abs(x[kth_element_index] - given_tuple[kth_element_index]))\n",
    "\n",
    "print(f\"Nearest Tuple : {nearest_tuple}\")\n"
   ]
  },
  {
   "cell_type": "code",
   "execution_count": 45,
   "id": "fcfa36cb",
   "metadata": {},
   "outputs": [
    {
     "name": "stdout",
     "output_type": "stream",
     "text": [
      "List 1 : [(3, 4), (5, 6), (9, 10), (4, 5)]\n",
      "List 2 : [(5, 4), (3, 4), (6, 5), (9, 11)]\n",
      "Intersection : [(3, 4)]\n"
     ]
    }
   ],
   "source": [
    "###43. Write a Python program to Tuple List intersection (Order irrespective) \n",
    "###Sample Output List 1 : [ (3, 4), (5, 6), (9, 10), (4, 5) ] List 2 : [ (5, 4), (3, 4), (6, 5), (9, 11) ]\n",
    "\n",
    "\n",
    "\n",
    "list1 = [(3, 4), (5, 6), (9, 10), (4, 5)]\n",
    "list2 = [(5, 4), (3, 4), (6, 5), (9, 11)]\n",
    "\n",
    "print(f\"List 1 : {list1}\")\n",
    "print(f\"List 2 : {list2}\")\n",
    "\n",
    "intersection = list(set(list1) & set(list2))\n",
    "\n",
    "intersection.sort()\n",
    "\n",
    "print(f\"Intersection : {intersection}\")\n",
    "\n"
   ]
  },
  {
   "cell_type": "code",
   "execution_count": 46,
   "id": "b6467fbc",
   "metadata": {},
   "outputs": [
    {
     "name": "stdout",
     "output_type": "stream",
     "text": [
      "list 1 : [('A', 65), ('D', 68), ('B', 66)]\n",
      "list 2 : [('D', 68), ('C', 67), ('A', 65)]\n",
      "Intersection of data records : [('A', 65), ('D', 68)]\n"
     ]
    }
   ],
   "source": [
    "###44. Write a Python program to Intersection in Tuple Records Data \n",
    "##Sample Output list 1 : [ ('A', 65), ('D', 68), ('B', 66) ] list 2 : [ ('D', 68), ('C', 67), ('A', 65) ] \n",
    "##Intersection of data records : [ ('A', 65), ('D', 68) ]\n",
    "\n",
    "\n",
    "list1 = [('A', 65), ('D', 68), ('B', 66)]\n",
    "list2 = [('D', 68), ('C', 67), ('A', 65)]\n",
    "\n",
    "print(f\"list 1 : {list1}\")\n",
    "print(f\"list 2 : {list2}\")\n",
    "\n",
    "intersection = [record for record in list1 if record in list2]\n",
    "\n",
    "print(f\"Intersection of data records : {intersection}\")\n"
   ]
  },
  {
   "cell_type": "code",
   "execution_count": 47,
   "id": "4733080c",
   "metadata": {},
   "outputs": [
    {
     "name": "stdout",
     "output_type": "stream",
     "text": [
      "List of tuples : [(3, 4), (1, 2), (4, 3), (5, 6)]\n",
      "Unique tuples Frequency : [(1, 2), (3, 4), (5, 6), (4, 3)]\n",
      "Unique tuples Frequency Count : 4\n"
     ]
    }
   ],
   "source": [
    "####45. Write a Python program to Unique Tuple Frequency (Order Irrespective) \n",
    "##Sample Output [ (3, 4), (1, 2), (4, 3), (5, 6) ] Unique tuples Frequency : [(1, 2), (3, 4), (5, 6)] \n",
    "##Unique tuples Frequency Count : 3\n",
    "\n",
    "tuples_list = [(3, 4), (1, 2), (4, 3), (5, 6)]\n",
    "\n",
    "print(f\"List of tuples : {tuples_list}\")\n",
    "\n",
    "unique_tuples = list(set(tuples_list))\n",
    "frequency_count = len(unique_tuples)\n",
    "\n",
    "print(f\"Unique tuples Frequency : {unique_tuples}\")\n",
    "print(f\"Unique tuples Frequency Count : {frequency_count}\")\n"
   ]
  },
  {
   "cell_type": "code",
   "execution_count": 48,
   "id": "9a623427",
   "metadata": {},
   "outputs": [
    {
     "name": "stdout",
     "output_type": "stream",
     "text": [
      "Nested Tuple : (1, (2, (3, (4, (5, None)))))\n",
      "Summation of 1st positions : 15\n"
     ]
    }
   ],
   "source": [
    "####46. Write a Python program to Skew Nested Tuple Summation \n",
    "##Sample Output (1, (2, (3, (4, (5, None))))) Summation of 1st positions : 15\n",
    "\n",
    "\n",
    "nested_tuple = (1, (2, (3, (4, (5, None)))))\n",
    "\n",
    "print(f\"Nested Tuple : {nested_tuple}\")\n",
    "\n",
    "def skew_sum(tup):\n",
    "    if tup is None:\n",
    "        return 0\n",
    "    else:\n",
    "        return tup[0] + skew_sum(tup[1])\n",
    "\n",
    "result = skew_sum(nested_tuple)\n",
    "print(f\"Summation of 1st positions : {result}\")\n"
   ]
  },
  {
   "cell_type": "code",
   "execution_count": 49,
   "id": "a0e16951",
   "metadata": {},
   "outputs": [
    {
     "name": "stdout",
     "output_type": "stream",
     "text": [
      "Binary tuple : (1, 0, 1, 0)\n",
      "Decimal number is : 10\n"
     ]
    }
   ],
   "source": [
    "###47. Write a Python program to Convert Binary tuple to Integer Sample Output (1, 0, 1, 0) Decimal number is : 10\n",
    "\n",
    "\n",
    "binary_tuple = (1, 0, 1, 0)\n",
    "\n",
    "print(f\"Binary tuple : {binary_tuple}\")\n",
    "\n",
    "decimal_number = int(''.join(map(str, binary_tuple)), 2)\n",
    "\n",
    "print(f\"Decimal number is : {decimal_number}\")\n"
   ]
  },
  {
   "cell_type": "code",
   "execution_count": 50,
   "id": "e41751fb",
   "metadata": {},
   "outputs": [
    {
     "name": "stdout",
     "output_type": "stream",
     "text": [
      "Tuple 1 : (10, 4, 6, 9)\n",
      "Tuple 2 : (5, 2, 3, 3)\n",
      "XOR tuple : (15, 6, 5, 10)\n"
     ]
    }
   ],
   "source": [
    "###48. Write a Python program to Tuple XOR operation \n",
    "##Sample Output Tuple 1 : (10, 4, 6, 9) Tuple 2 : (5, 2, 3, 3) XOR tuple : (15, 6, 5, 10)\n",
    "\n",
    "\n",
    "tuple1 = (10, 4, 6, 9)\n",
    "tuple2 = (5, 2, 3, 3)\n",
    "\n",
    "print(f\"Tuple 1 : {tuple1}\")\n",
    "print(f\"Tuple 2 : {tuple2}\")\n",
    "\n",
    "xor_tuple = tuple(x ^ y for x, y in zip(tuple1, tuple2))\n",
    "\n",
    "print(f\"XOR tuple : {xor_tuple}\")\n"
   ]
  },
  {
   "cell_type": "code",
   "execution_count": 51,
   "id": "15a8a03e",
   "metadata": {},
   "outputs": [
    {
     "name": "stdout",
     "output_type": "stream",
     "text": [
      "Tuple 1 : (10, 4, 6, 9)\n",
      "Tuple 2 : (5, 2, 3, 3)\n",
      "AND operation Between Tuple : (0, 0, 2, 1)\n"
     ]
    }
   ],
   "source": [
    "###49. Write a Python program to AND operation between Tuples \n",
    "##Sample Output Tuple 1 : (10, 4, 6, 9) Tuple 2 : (5, 2, 3, 3) AND operation Between Tuple : (0, 0, 2, 1)\n",
    "\n",
    "\n",
    "tuple1 = (10, 4, 6, 9)\n",
    "tuple2 = (5, 2, 3, 3)\n",
    "\n",
    "print(f\"Tuple 1 : {tuple1}\")\n",
    "print(f\"Tuple 2 : {tuple2}\")\n",
    "\n",
    "and_tuple = tuple(x & y for x, y in zip(tuple1, tuple2))\n",
    "\n",
    "print(f\"AND operation Between Tuple : {and_tuple}\")\n"
   ]
  },
  {
   "cell_type": "code",
   "execution_count": 52,
   "id": "56a5facc",
   "metadata": {},
   "outputs": [
    {
     "name": "stdout",
     "output_type": "stream",
     "text": [
      "Tuple 1 : (10, 4, 6, 9)\n",
      "Tuple 2 : (5, 2, 3, 3)\n",
      "Elementwise AND Tuple : (0, 0, 2, 1)\n"
     ]
    }
   ],
   "source": [
    "###50. Write a Python program to Elementwise AND in tuples\n",
    "###Sample Output Tuple 1 : (10, 4, 6, 9) Tuple 2 : (5, 2, 3, 3) Elementwise AND Tuple : (0, 0, 2, 1)\n",
    "\n",
    "\n",
    "tuple1 = (10, 4, 6, 9)\n",
    "tuple2 = (5, 2, 3, 3)\n",
    "\n",
    "print(f\"Tuple 1 : {tuple1}\")\n",
    "print(f\"Tuple 2 : {tuple2}\")\n",
    "\n",
    "and_tuple = tuple(x & y for x, y in zip(tuple1, tuple2))\n",
    "\n",
    "print(f\"Elementwise AND Tuple : {and_tuple}\")\n"
   ]
  },
  {
   "cell_type": "code",
   "execution_count": null,
   "id": "5c8371e0",
   "metadata": {},
   "outputs": [],
   "source": []
  }
 ],
 "metadata": {
  "kernelspec": {
   "display_name": "Python 3 (ipykernel)",
   "language": "python",
   "name": "python3"
  },
  "language_info": {
   "codemirror_mode": {
    "name": "ipython",
    "version": 3
   },
   "file_extension": ".py",
   "mimetype": "text/x-python",
   "name": "python",
   "nbconvert_exporter": "python",
   "pygments_lexer": "ipython3",
   "version": "3.11.5"
  }
 },
 "nbformat": 4,
 "nbformat_minor": 5
}
